{
 "cells": [
  {
   "cell_type": "code",
   "execution_count": 1,
   "metadata": {},
   "outputs": [],
   "source": [
    "from ultralytics import YOLO"
   ]
  },
  {
   "cell_type": "code",
   "execution_count": 2,
   "metadata": {},
   "outputs": [],
   "source": [
    "# Load a pretrained YOLO model (recommended for training)\n",
    "model = YOLO(\"yolov8n.pt\")"
   ]
  },
  {
   "cell_type": "code",
   "execution_count": 7,
   "metadata": {},
   "outputs": [
    {
     "name": "stderr",
     "output_type": "stream",
     "text": [
      "\n",
      "0: 480x640 1 person, 2 apples, 68.2ms\n",
      "Speed: 3.5ms preprocess, 68.2ms inference, 0.8ms postprocess per image at shape (1, 3, 480, 640)\n",
      "\n",
      "0: 480x640 1 sports ball, 1 apple, 49.9ms\n",
      "Speed: 1.1ms preprocess, 49.9ms inference, 0.5ms postprocess per image at shape (1, 3, 480, 640)\n",
      "\n",
      "0: 480x640 3 oranges, 48.2ms\n",
      "Speed: 0.9ms preprocess, 48.2ms inference, 0.5ms postprocess per image at shape (1, 3, 480, 640)\n",
      "\n",
      "0: 480x640 1 orange, 49.6ms\n",
      "Speed: 0.8ms preprocess, 49.6ms inference, 0.5ms postprocess per image at shape (1, 3, 480, 640)\n",
      "\n",
      "0: 480x640 2 apples, 51.7ms\n",
      "Speed: 0.8ms preprocess, 51.7ms inference, 0.5ms postprocess per image at shape (1, 3, 480, 640)\n",
      "\n"
     ]
    },
    {
     "name": "stdout",
     "output_type": "stream",
     "text": [
      "Skipping Ripe_Mango_0_7156.jpg due to low confidence.\n",
      "Skipping Ripe_Mango_0_3640.jpg due to low confidence.\n"
     ]
    },
    {
     "name": "stderr",
     "output_type": "stream",
     "text": [
      "0: 480x640 1 orange, 63.8ms\n",
      "Speed: 1.6ms preprocess, 63.8ms inference, 0.5ms postprocess per image at shape (1, 3, 480, 640)\n",
      "\n",
      "0: 480x640 1 sports ball, 65.9ms\n",
      "Speed: 0.8ms preprocess, 65.9ms inference, 0.5ms postprocess per image at shape (1, 3, 480, 640)\n",
      "\n",
      "0: 480x640 1 apple, 1 orange, 43.5ms\n",
      "Speed: 0.9ms preprocess, 43.5ms inference, 0.5ms postprocess per image at shape (1, 3, 480, 640)\n",
      "\n",
      "0: 480x640 1 frisbee, 1 orange, 44.9ms\n",
      "Speed: 0.9ms preprocess, 44.9ms inference, 0.5ms postprocess per image at shape (1, 3, 480, 640)\n",
      "\n"
     ]
    },
    {
     "name": "stdout",
     "output_type": "stream",
     "text": [
      "Skipping Ripe_Mango_0_6063.jpg due to low confidence.\n",
      "Skipping Ripe_Mango_0_4660.jpg due to low confidence.\n"
     ]
    },
    {
     "name": "stderr",
     "output_type": "stream",
     "text": [
      "0: 480x640 1 apple, 47.0ms\n",
      "Speed: 0.8ms preprocess, 47.0ms inference, 0.4ms postprocess per image at shape (1, 3, 480, 640)\n",
      "\n",
      "0: 480x640 (no detections), 52.5ms\n",
      "Speed: 1.1ms preprocess, 52.5ms inference, 0.5ms postprocess per image at shape (1, 3, 480, 640)\n",
      "\n",
      "0: 480x640 2 oranges, 1 dining table, 61.2ms\n",
      "Speed: 1.2ms preprocess, 61.2ms inference, 1.1ms postprocess per image at shape (1, 3, 480, 640)\n",
      "\n",
      "0: 480x640 1 frisbee, 48.0ms\n",
      "Speed: 1.4ms preprocess, 48.0ms inference, 0.5ms postprocess per image at shape (1, 3, 480, 640)\n",
      "\n"
     ]
    },
    {
     "name": "stdout",
     "output_type": "stream",
     "text": [
      "Skipping Ripe_Mango_0_4853.jpg due to low confidence.\n",
      "Skipping Ripe_Mango_0_4502.jpg due to no detection.\n"
     ]
    },
    {
     "name": "stderr",
     "output_type": "stream",
     "text": [
      "0: 480x640 1 orange, 50.5ms\n",
      "Speed: 1.0ms preprocess, 50.5ms inference, 0.5ms postprocess per image at shape (1, 3, 480, 640)\n",
      "\n",
      "0: 480x640 1 skateboard, 1 apple, 47.4ms\n",
      "Speed: 1.0ms preprocess, 47.4ms inference, 0.8ms postprocess per image at shape (1, 3, 480, 640)\n",
      "\n",
      "0: 480x640 1 orange, 48.7ms\n",
      "Speed: 0.8ms preprocess, 48.7ms inference, 0.6ms postprocess per image at shape (1, 3, 480, 640)\n",
      "\n",
      "0: 480x640 1 frisbee, 51.0ms\n",
      "Speed: 0.9ms preprocess, 51.0ms inference, 0.6ms postprocess per image at shape (1, 3, 480, 640)\n",
      "\n",
      "0: 480x640 1 orange, 71.6ms\n",
      "Speed: 1.0ms preprocess, 71.6ms inference, 0.6ms postprocess per image at shape (1, 3, 480, 640)\n",
      "\n"
     ]
    },
    {
     "name": "stdout",
     "output_type": "stream",
     "text": [
      "Skipping Ripe_Mango_0_9226.jpg due to low confidence.\n"
     ]
    },
    {
     "name": "stderr",
     "output_type": "stream",
     "text": [
      "0: 480x640 1 orange, 50.2ms\n",
      "Speed: 0.9ms preprocess, 50.2ms inference, 0.5ms postprocess per image at shape (1, 3, 480, 640)\n",
      "\n",
      "0: 480x640 2 oranges, 48.2ms\n",
      "Speed: 1.1ms preprocess, 48.2ms inference, 0.6ms postprocess per image at shape (1, 3, 480, 640)\n",
      "\n",
      "0: 480x640 1 orange, 46.3ms\n",
      "Speed: 1.0ms preprocess, 46.3ms inference, 0.5ms postprocess per image at shape (1, 3, 480, 640)\n",
      "\n",
      "0: 480x640 1 banana, 1 apple, 45.8ms\n",
      "Speed: 1.0ms preprocess, 45.8ms inference, 0.5ms postprocess per image at shape (1, 3, 480, 640)\n",
      "\n",
      "0: 480x640 (no detections), 47.5ms\n",
      "Speed: 1.0ms preprocess, 47.5ms inference, 0.4ms postprocess per image at shape (1, 3, 480, 640)\n",
      "\n",
      "0: 480x640 2 apples, 46.0ms\n",
      "Speed: 0.9ms preprocess, 46.0ms inference, 0.6ms postprocess per image at shape (1, 3, 480, 640)\n",
      "\n",
      "0: 480x640 1 orange, 48.6ms\n",
      "Speed: 0.9ms preprocess, 48.6ms inference, 0.5ms postprocess per image at shape (1, 3, 480, 640)\n",
      "\n"
     ]
    },
    {
     "name": "stdout",
     "output_type": "stream",
     "text": [
      "Skipping Ripe_Mango_0_3680.jpg due to low confidence.\n",
      "Skipping Ripe_Mango_0_6908.jpg due to no detection.\n",
      "Skipping Ripe_Mango_0_3125.jpg due to low confidence.\n"
     ]
    },
    {
     "name": "stderr",
     "output_type": "stream",
     "text": [
      "0: 480x640 1 orange, 46.7ms\n",
      "Speed: 0.9ms preprocess, 46.7ms inference, 0.4ms postprocess per image at shape (1, 3, 480, 640)\n",
      "\n",
      "0: 480x640 1 cell phone, 45.6ms\n",
      "Speed: 0.8ms preprocess, 45.6ms inference, 0.5ms postprocess per image at shape (1, 3, 480, 640)\n",
      "\n",
      "0: 480x640 (no detections), 43.7ms\n",
      "Speed: 0.9ms preprocess, 43.7ms inference, 0.4ms postprocess per image at shape (1, 3, 480, 640)\n",
      "\n",
      "0: 480x640 1 orange, 52.1ms\n",
      "Speed: 0.8ms preprocess, 52.1ms inference, 0.6ms postprocess per image at shape (1, 3, 480, 640)\n",
      "\n"
     ]
    },
    {
     "name": "stdout",
     "output_type": "stream",
     "text": [
      "Skipping Ripe_Mango_0_7395.jpg due to low confidence.\n",
      "Skipping Ripe_Mango_0_3508.jpg due to low confidence.\n",
      "Skipping Ripe_Mango_0_5145.jpg due to no detection.\n"
     ]
    },
    {
     "name": "stderr",
     "output_type": "stream",
     "text": [
      "0: 480x640 2 oranges, 46.8ms\n",
      "Speed: 0.8ms preprocess, 46.8ms inference, 0.5ms postprocess per image at shape (1, 3, 480, 640)\n",
      "\n",
      "0: 480x640 1 banana, 1 apple, 2 oranges, 46.6ms\n",
      "Speed: 0.8ms preprocess, 46.6ms inference, 0.4ms postprocess per image at shape (1, 3, 480, 640)\n",
      "\n",
      "0: 480x640 3 oranges, 45.9ms\n",
      "Speed: 0.7ms preprocess, 45.9ms inference, 0.6ms postprocess per image at shape (1, 3, 480, 640)\n",
      "\n",
      "0: 480x640 1 apple, 46.5ms\n",
      "Speed: 0.8ms preprocess, 46.5ms inference, 0.6ms postprocess per image at shape (1, 3, 480, 640)\n",
      "\n"
     ]
    },
    {
     "name": "stdout",
     "output_type": "stream",
     "text": [
      "Skipping Ripe_Mango_0_3093.jpg due to low confidence.\n",
      "Skipping Ripe_Mango_0_7795.jpg due to low confidence.\n",
      "Skipping Ripe_Mango_0_5974.jpg due to low confidence.\n"
     ]
    },
    {
     "name": "stderr",
     "output_type": "stream",
     "text": [
      "0: 480x640 2 bananas, 2 oranges, 46.7ms\n",
      "Speed: 0.8ms preprocess, 46.7ms inference, 0.5ms postprocess per image at shape (1, 3, 480, 640)\n",
      "\n",
      "0: 480x640 1 orange, 49.3ms\n",
      "Speed: 0.9ms preprocess, 49.3ms inference, 0.5ms postprocess per image at shape (1, 3, 480, 640)\n",
      "\n",
      "0: 480x640 1 apple, 1 orange, 41.6ms\n",
      "Speed: 0.9ms preprocess, 41.6ms inference, 0.4ms postprocess per image at shape (1, 3, 480, 640)\n",
      "\n",
      "0: 480x640 (no detections), 44.1ms\n",
      "Speed: 0.9ms preprocess, 44.1ms inference, 0.2ms postprocess per image at shape (1, 3, 480, 640)\n",
      "\n",
      "0: 480x640 2 oranges, 43.4ms\n",
      "Speed: 0.8ms preprocess, 43.4ms inference, 0.6ms postprocess per image at shape (1, 3, 480, 640)\n",
      "\n"
     ]
    },
    {
     "name": "stdout",
     "output_type": "stream",
     "text": [
      "Skipping Ripe_Mango_0_8263.jpg due to low confidence.\n",
      "Skipping Ripe_Mango_0_3875.jpg due to low confidence.\n",
      "Skipping Ripe_Mango_0_7420.jpg due to no detection.\n"
     ]
    },
    {
     "name": "stderr",
     "output_type": "stream",
     "text": [
      "0: 480x640 1 frisbee, 1 sports ball, 45.2ms\n",
      "Speed: 0.8ms preprocess, 45.2ms inference, 0.5ms postprocess per image at shape (1, 3, 480, 640)\n",
      "\n",
      "0: 480x640 3 oranges, 46.2ms\n",
      "Speed: 0.8ms preprocess, 46.2ms inference, 0.5ms postprocess per image at shape (1, 3, 480, 640)\n",
      "\n",
      "0: 480x640 1 kite, 1 orange, 42.2ms\n",
      "Speed: 0.8ms preprocess, 42.2ms inference, 0.5ms postprocess per image at shape (1, 3, 480, 640)\n",
      "\n",
      "0: 480x640 2 oranges, 40.8ms\n",
      "Speed: 0.9ms preprocess, 40.8ms inference, 0.4ms postprocess per image at shape (1, 3, 480, 640)\n",
      "\n",
      "0: 480x640 1 orange, 43.8ms\n",
      "Speed: 0.9ms preprocess, 43.8ms inference, 0.4ms postprocess per image at shape (1, 3, 480, 640)\n",
      "\n"
     ]
    },
    {
     "name": "stdout",
     "output_type": "stream",
     "text": [
      "Skipping Ripe_Mango_0_7810.jpg due to low confidence.\n"
     ]
    },
    {
     "name": "stderr",
     "output_type": "stream",
     "text": [
      "0: 480x640 1 orange, 62.2ms\n",
      "Speed: 0.8ms preprocess, 62.2ms inference, 0.6ms postprocess per image at shape (1, 3, 480, 640)\n",
      "\n",
      "0: 480x640 1 person, 1 frisbee, 1 orange, 45.6ms\n",
      "Speed: 0.9ms preprocess, 45.6ms inference, 0.5ms postprocess per image at shape (1, 3, 480, 640)\n",
      "\n",
      "0: 480x640 2 oranges, 42.3ms\n",
      "Speed: 0.8ms preprocess, 42.3ms inference, 0.5ms postprocess per image at shape (1, 3, 480, 640)\n",
      "\n",
      "0: 480x640 1 orange, 45.7ms\n",
      "Speed: 1.0ms preprocess, 45.7ms inference, 0.5ms postprocess per image at shape (1, 3, 480, 640)\n",
      "\n"
     ]
    },
    {
     "name": "stdout",
     "output_type": "stream",
     "text": [
      "Skipping Ripe_Mango_0_7580.jpg due to low confidence.\n"
     ]
    },
    {
     "name": "stderr",
     "output_type": "stream",
     "text": [
      "0: 480x640 1 apple, 1 orange, 44.8ms\n",
      "Speed: 0.9ms preprocess, 44.8ms inference, 1.0ms postprocess per image at shape (1, 3, 480, 640)\n",
      "\n",
      "0: 480x640 1 orange, 43.6ms\n",
      "Speed: 0.9ms preprocess, 43.6ms inference, 0.4ms postprocess per image at shape (1, 3, 480, 640)\n",
      "\n",
      "0: 480x640 1 orange, 41.7ms\n",
      "Speed: 0.9ms preprocess, 41.7ms inference, 0.4ms postprocess per image at shape (1, 3, 480, 640)\n",
      "\n",
      "0: 480x640 1 orange, 41.7ms\n",
      "Speed: 0.8ms preprocess, 41.7ms inference, 0.4ms postprocess per image at shape (1, 3, 480, 640)\n",
      "\n",
      "0: 480x640 3 oranges, 42.8ms\n",
      "Speed: 0.9ms preprocess, 42.8ms inference, 0.5ms postprocess per image at shape (1, 3, 480, 640)\n",
      "\n",
      "0: 480x640 1 apple, 42.5ms\n",
      "Speed: 0.8ms preprocess, 42.5ms inference, 0.4ms postprocess per image at shape (1, 3, 480, 640)\n",
      "\n"
     ]
    },
    {
     "name": "stdout",
     "output_type": "stream",
     "text": [
      "Skipping Ripe_Mango_0_4857.jpg due to low confidence.\n",
      "Skipping Ripe_Mango_0_6715.jpg due to low confidence.\n",
      "Skipping Ripe_Mango_0_4894.jpg due to low confidence.\n",
      "Skipping Ripe_Mango_0_9433.jpg due to low confidence.\n"
     ]
    },
    {
     "name": "stderr",
     "output_type": "stream",
     "text": [
      "0: 480x640 1 banana, 1 orange, 43.4ms\n",
      "Speed: 1.1ms preprocess, 43.4ms inference, 0.4ms postprocess per image at shape (1, 3, 480, 640)\n",
      "\n",
      "0: 480x640 3 oranges, 42.8ms\n",
      "Speed: 0.9ms preprocess, 42.8ms inference, 0.5ms postprocess per image at shape (1, 3, 480, 640)\n",
      "\n",
      "0: 480x640 2 oranges, 1 dining table, 41.5ms\n",
      "Speed: 0.9ms preprocess, 41.5ms inference, 0.4ms postprocess per image at shape (1, 3, 480, 640)\n",
      "\n",
      "0: 480x640 2 oranges, 39.9ms\n",
      "Speed: 1.2ms preprocess, 39.9ms inference, 0.4ms postprocess per image at shape (1, 3, 480, 640)\n",
      "\n",
      "0: 480x640 2 apples, 41.5ms\n",
      "Speed: 0.7ms preprocess, 41.5ms inference, 0.5ms postprocess per image at shape (1, 3, 480, 640)\n",
      "\n"
     ]
    },
    {
     "name": "stdout",
     "output_type": "stream",
     "text": [
      "Skipping Ripe_Mango_0_8088.jpg due to low confidence.\n",
      "Skipping Ripe_Mango_0_4077.jpg due to low confidence.\n"
     ]
    },
    {
     "name": "stderr",
     "output_type": "stream",
     "text": [
      "0: 480x640 2 oranges, 42.3ms\n",
      "Speed: 0.9ms preprocess, 42.3ms inference, 0.5ms postprocess per image at shape (1, 3, 480, 640)\n",
      "\n",
      "0: 480x640 1 sports ball, 40.3ms\n",
      "Speed: 1.0ms preprocess, 40.3ms inference, 0.4ms postprocess per image at shape (1, 3, 480, 640)\n",
      "\n",
      "0: 480x640 1 banana, 1 orange, 42.2ms\n",
      "Speed: 0.8ms preprocess, 42.2ms inference, 0.5ms postprocess per image at shape (1, 3, 480, 640)\n",
      "\n",
      "0: 480x640 1 orange, 41.4ms\n",
      "Speed: 0.8ms preprocess, 41.4ms inference, 0.7ms postprocess per image at shape (1, 3, 480, 640)\n",
      "\n",
      "0: 480x640 1 apple, 42.9ms\n",
      "Speed: 0.8ms preprocess, 42.9ms inference, 0.5ms postprocess per image at shape (1, 3, 480, 640)\n",
      "\n",
      "0: 480x640 2 oranges, 40.5ms\n",
      "Speed: 0.9ms preprocess, 40.5ms inference, 0.5ms postprocess per image at shape (1, 3, 480, 640)\n",
      "\n"
     ]
    },
    {
     "name": "stdout",
     "output_type": "stream",
     "text": [
      "Skipping Ripe_Mango_0_3917.jpg due to low confidence.\n",
      "Skipping Ripe_Mango_0_3031.jpg due to low confidence.\n",
      "Skipping Ripe_Mango_0_5722.jpg due to low confidence.\n"
     ]
    },
    {
     "name": "stderr",
     "output_type": "stream",
     "text": [
      "0: 480x640 1 orange, 43.5ms\n",
      "Speed: 0.8ms preprocess, 43.5ms inference, 0.5ms postprocess per image at shape (1, 3, 480, 640)\n",
      "\n",
      "0: 480x640 1 bowl, 41.2ms\n",
      "Speed: 0.8ms preprocess, 41.2ms inference, 0.4ms postprocess per image at shape (1, 3, 480, 640)\n",
      "\n",
      "0: 480x640 1 frisbee, 39.6ms\n",
      "Speed: 0.9ms preprocess, 39.6ms inference, 0.5ms postprocess per image at shape (1, 3, 480, 640)\n",
      "\n",
      "0: 480x640 2 oranges, 43.0ms\n",
      "Speed: 0.8ms preprocess, 43.0ms inference, 0.5ms postprocess per image at shape (1, 3, 480, 640)\n",
      "\n",
      "0: 480x640 1 apple, 1 orange, 42.7ms\n",
      "Speed: 0.8ms preprocess, 42.7ms inference, 0.5ms postprocess per image at shape (1, 3, 480, 640)\n",
      "\n"
     ]
    },
    {
     "name": "stdout",
     "output_type": "stream",
     "text": [
      "Skipping Ripe_Mango_0_4831.jpg due to low confidence.\n",
      "Skipping Ripe_Mango_0_6997.jpg due to low confidence.\n",
      "Skipping Ripe_Mango_0_4987.jpg due to low confidence.\n"
     ]
    },
    {
     "name": "stderr",
     "output_type": "stream",
     "text": [
      "0: 480x640 (no detections), 51.3ms\n",
      "Speed: 0.7ms preprocess, 51.3ms inference, 0.4ms postprocess per image at shape (1, 3, 480, 640)\n",
      "\n",
      "0: 480x640 3 oranges, 43.1ms\n",
      "Speed: 0.8ms preprocess, 43.1ms inference, 0.6ms postprocess per image at shape (1, 3, 480, 640)\n",
      "\n",
      "0: 480x640 1 orange, 42.8ms\n",
      "Speed: 0.8ms preprocess, 42.8ms inference, 0.5ms postprocess per image at shape (1, 3, 480, 640)\n",
      "\n",
      "0: 480x640 2 apples, 1 orange, 43.9ms\n",
      "Speed: 1.0ms preprocess, 43.9ms inference, 0.7ms postprocess per image at shape (1, 3, 480, 640)\n",
      "\n",
      "0: 480x640 2 oranges, 38.8ms\n",
      "Speed: 0.7ms preprocess, 38.8ms inference, 0.5ms postprocess per image at shape (1, 3, 480, 640)\n",
      "\n"
     ]
    },
    {
     "name": "stdout",
     "output_type": "stream",
     "text": [
      "Skipping Ripe_Mango_0_6809.jpg due to no detection.\n",
      "Skipping Ripe_Mango_0_6957.jpg due to low confidence.\n"
     ]
    },
    {
     "name": "stderr",
     "output_type": "stream",
     "text": [
      "0: 480x640 1 orange, 105.5ms\n",
      "Speed: 0.7ms preprocess, 105.5ms inference, 0.5ms postprocess per image at shape (1, 3, 480, 640)\n",
      "\n",
      "0: 480x640 1 orange, 49.6ms\n",
      "Speed: 1.7ms preprocess, 49.6ms inference, 0.4ms postprocess per image at shape (1, 3, 480, 640)\n",
      "\n",
      "0: 480x640 1 apple, 2 oranges, 42.1ms\n",
      "Speed: 0.8ms preprocess, 42.1ms inference, 0.5ms postprocess per image at shape (1, 3, 480, 640)\n",
      "\n",
      "0: 480x640 1 orange, 49.0ms\n",
      "Speed: 1.0ms preprocess, 49.0ms inference, 0.5ms postprocess per image at shape (1, 3, 480, 640)\n",
      "\n"
     ]
    },
    {
     "name": "stdout",
     "output_type": "stream",
     "text": [
      "Skipping Ripe_Mango_0_4172.jpg due to low confidence.\n",
      "Skipping Ripe_Mango_0_8238.jpg due to low confidence.\n",
      "Skipping Ripe_Mango_0_5668.jpg due to low confidence.\n"
     ]
    },
    {
     "name": "stderr",
     "output_type": "stream",
     "text": [
      "0: 480x640 1 apple, 43.1ms\n",
      "Speed: 0.7ms preprocess, 43.1ms inference, 0.5ms postprocess per image at shape (1, 3, 480, 640)\n",
      "\n",
      "0: 480x640 2 oranges, 51.7ms\n",
      "Speed: 0.8ms preprocess, 51.7ms inference, 0.5ms postprocess per image at shape (1, 3, 480, 640)\n",
      "\n",
      "0: 480x640 1 orange, 43.1ms\n",
      "Speed: 0.8ms preprocess, 43.1ms inference, 0.5ms postprocess per image at shape (1, 3, 480, 640)\n",
      "\n",
      "0: 480x640 1 orange, 48.3ms\n",
      "Speed: 0.9ms preprocess, 48.3ms inference, 0.5ms postprocess per image at shape (1, 3, 480, 640)\n",
      "\n"
     ]
    },
    {
     "name": "stdout",
     "output_type": "stream",
     "text": [
      "Skipping Ripe_Mango_0_3543.jpg due to low confidence.\n",
      "Skipping Ripe_Mango_0_4006.jpg due to low confidence.\n",
      "Skipping Ripe_Mango_0_5330.jpg due to low confidence.\n"
     ]
    },
    {
     "name": "stderr",
     "output_type": "stream",
     "text": [
      "0: 480x640 (no detections), 43.5ms\n",
      "Speed: 0.8ms preprocess, 43.5ms inference, 0.3ms postprocess per image at shape (1, 3, 480, 640)\n",
      "\n",
      "0: 480x640 1 orange, 42.3ms\n",
      "Speed: 0.9ms preprocess, 42.3ms inference, 0.5ms postprocess per image at shape (1, 3, 480, 640)\n",
      "\n",
      "0: 480x640 3 oranges, 50.1ms\n",
      "Speed: 0.9ms preprocess, 50.1ms inference, 0.5ms postprocess per image at shape (1, 3, 480, 640)\n",
      "\n",
      "0: 480x640 (no detections), 42.5ms\n",
      "Speed: 0.7ms preprocess, 42.5ms inference, 0.3ms postprocess per image at shape (1, 3, 480, 640)\n",
      "\n",
      "0: 480x640 2 oranges, 41.6ms\n",
      "Speed: 0.8ms preprocess, 41.6ms inference, 0.5ms postprocess per image at shape (1, 3, 480, 640)\n",
      "\n"
     ]
    },
    {
     "name": "stdout",
     "output_type": "stream",
     "text": [
      "Skipping Ripe_Mango_0_5442.jpg due to no detection.\n",
      "Skipping Ripe_Mango_0_3751.jpg due to no detection.\n"
     ]
    },
    {
     "name": "stderr",
     "output_type": "stream",
     "text": [
      "0: 480x640 1 apple, 2 oranges, 44.4ms\n",
      "Speed: 1.1ms preprocess, 44.4ms inference, 0.6ms postprocess per image at shape (1, 3, 480, 640)\n",
      "\n",
      "0: 480x640 1 frisbee, 45.4ms\n",
      "Speed: 1.0ms preprocess, 45.4ms inference, 0.4ms postprocess per image at shape (1, 3, 480, 640)\n",
      "\n",
      "0: 480x640 (no detections), 41.6ms\n",
      "Speed: 1.0ms preprocess, 41.6ms inference, 0.3ms postprocess per image at shape (1, 3, 480, 640)\n",
      "\n",
      "0: 480x640 1 orange, 63.5ms\n",
      "Speed: 0.8ms preprocess, 63.5ms inference, 0.9ms postprocess per image at shape (1, 3, 480, 640)\n",
      "\n",
      "0: 480x640 1 orange, 60.6ms\n",
      "Speed: 0.8ms preprocess, 60.6ms inference, 0.6ms postprocess per image at shape (1, 3, 480, 640)\n",
      "\n"
     ]
    },
    {
     "name": "stdout",
     "output_type": "stream",
     "text": [
      "Skipping Ripe_Mango_0_4360.jpg due to low confidence.\n",
      "Skipping Ripe_Mango_0_7480.jpg due to no detection.\n"
     ]
    },
    {
     "name": "stderr",
     "output_type": "stream",
     "text": [
      "0: 480x640 1 orange, 42.6ms\n",
      "Speed: 0.8ms preprocess, 42.6ms inference, 0.5ms postprocess per image at shape (1, 3, 480, 640)\n",
      "\n",
      "0: 480x640 1 orange, 47.2ms\n",
      "Speed: 0.9ms preprocess, 47.2ms inference, 0.5ms postprocess per image at shape (1, 3, 480, 640)\n",
      "\n",
      "0: 480x640 1 orange, 50.6ms\n",
      "Speed: 1.0ms preprocess, 50.6ms inference, 0.6ms postprocess per image at shape (1, 3, 480, 640)\n",
      "\n",
      "0: 480x640 2 oranges, 41.2ms\n",
      "Speed: 0.8ms preprocess, 41.2ms inference, 0.5ms postprocess per image at shape (1, 3, 480, 640)\n",
      "\n",
      "0: 480x640 2 oranges, 47.3ms\n",
      "Speed: 0.8ms preprocess, 47.3ms inference, 0.5ms postprocess per image at shape (1, 3, 480, 640)\n",
      "\n"
     ]
    },
    {
     "name": "stdout",
     "output_type": "stream",
     "text": [
      "Skipping Ripe_Mango_0_3142.jpg due to low confidence.\n"
     ]
    },
    {
     "name": "stderr",
     "output_type": "stream",
     "text": [
      "0: 480x640 3 oranges, 45.8ms\n",
      "Speed: 0.9ms preprocess, 45.8ms inference, 0.5ms postprocess per image at shape (1, 3, 480, 640)\n",
      "\n",
      "0: 480x640 1 orange, 42.1ms\n",
      "Speed: 0.9ms preprocess, 42.1ms inference, 0.5ms postprocess per image at shape (1, 3, 480, 640)\n",
      "\n",
      "0: 480x640 2 oranges, 46.5ms\n",
      "Speed: 0.8ms preprocess, 46.5ms inference, 0.6ms postprocess per image at shape (1, 3, 480, 640)\n",
      "\n",
      "0: 480x640 1 banana, 1 apple, 44.7ms\n",
      "Speed: 1.3ms preprocess, 44.7ms inference, 0.5ms postprocess per image at shape (1, 3, 480, 640)\n",
      "\n",
      "0: 480x640 1 apple, 1 orange, 42.9ms\n",
      "Speed: 0.8ms preprocess, 42.9ms inference, 0.5ms postprocess per image at shape (1, 3, 480, 640)\n",
      "\n",
      "0: 480x640 1 frisbee, 46.5ms\n",
      "Speed: 0.8ms preprocess, 46.5ms inference, 0.6ms postprocess per image at shape (1, 3, 480, 640)\n",
      "\n",
      "0: 480x640 1 orange, 47.5ms\n",
      "Speed: 0.9ms preprocess, 47.5ms inference, 0.5ms postprocess per image at shape (1, 3, 480, 640)\n",
      "\n"
     ]
    },
    {
     "name": "stdout",
     "output_type": "stream",
     "text": [
      "Skipping Ripe_Mango_0_7522.jpg due to low confidence.\n",
      "Skipping Ripe_Mango_0_8822.jpg due to low confidence.\n"
     ]
    },
    {
     "name": "stderr",
     "output_type": "stream",
     "text": [
      "0: 480x640 1 knife, 1 bowl, 1 apple, 48.5ms\n",
      "Speed: 0.9ms preprocess, 48.5ms inference, 0.5ms postprocess per image at shape (1, 3, 480, 640)\n",
      "\n",
      "0: 480x640 2 apples, 47.4ms\n",
      "Speed: 1.1ms preprocess, 47.4ms inference, 0.5ms postprocess per image at shape (1, 3, 480, 640)\n",
      "\n",
      "0: 480x640 1 apple, 1 orange, 42.8ms\n",
      "Speed: 0.8ms preprocess, 42.8ms inference, 0.4ms postprocess per image at shape (1, 3, 480, 640)\n",
      "\n",
      "0: 480x640 1 frisbee, 1 donut, 41.6ms\n",
      "Speed: 0.7ms preprocess, 41.6ms inference, 0.4ms postprocess per image at shape (1, 3, 480, 640)\n",
      "\n",
      "0: 480x640 1 apple, 1 orange, 49.0ms\n"
     ]
    },
    {
     "name": "stdout",
     "output_type": "stream",
     "text": [
      "Skipping Ripe_Mango_0_7093.jpg due to low confidence.\n",
      "Skipping Ripe_Mango_0_6428.jpg due to low confidence.\n"
     ]
    },
    {
     "name": "stderr",
     "output_type": "stream",
     "text": [
      "Speed: 0.9ms preprocess, 49.0ms inference, 0.7ms postprocess per image at shape (1, 3, 480, 640)\n",
      "\n",
      "0: 480x640 1 apple, 1 orange, 41.7ms\n",
      "Speed: 0.7ms preprocess, 41.7ms inference, 0.6ms postprocess per image at shape (1, 3, 480, 640)\n",
      "\n",
      "0: 480x640 1 orange, 44.0ms\n",
      "Speed: 0.8ms preprocess, 44.0ms inference, 0.5ms postprocess per image at shape (1, 3, 480, 640)\n",
      "\n",
      "0: 480x640 1 apple, 46.7ms\n",
      "Speed: 1.2ms preprocess, 46.7ms inference, 0.5ms postprocess per image at shape (1, 3, 480, 640)\n",
      "\n",
      "0: 480x640 1 orange, 40.8ms\n",
      "Speed: 1.2ms preprocess, 40.8ms inference, 0.4ms postprocess per image at shape (1, 3, 480, 640)\n",
      "\n",
      "0: 480x640 2 oranges, 44.3ms\n",
      "Speed: 0.8ms preprocess, 44.3ms inference, 0.5ms postprocess per image at shape (1, 3, 480, 640)\n",
      "\n"
     ]
    },
    {
     "name": "stdout",
     "output_type": "stream",
     "text": [
      "Skipping Ripe_Mango_0_3197.jpg due to low confidence.\n",
      "Skipping Ripe_Mango_0_7326.jpg due to low confidence.\n",
      "Skipping Ripe_Mango_0_6763.jpg due to low confidence.\n"
     ]
    },
    {
     "name": "stderr",
     "output_type": "stream",
     "text": [
      "0: 480x640 1 orange, 48.6ms\n",
      "Speed: 0.8ms preprocess, 48.6ms inference, 0.4ms postprocess per image at shape (1, 3, 480, 640)\n",
      "\n",
      "0: 480x640 1 sports ball, 45.5ms\n",
      "Speed: 1.0ms preprocess, 45.5ms inference, 0.5ms postprocess per image at shape (1, 3, 480, 640)\n",
      "\n",
      "0: 480x640 1 orange, 48.3ms\n",
      "Speed: 0.7ms preprocess, 48.3ms inference, 0.6ms postprocess per image at shape (1, 3, 480, 640)\n",
      "\n",
      "0: 480x640 1 apple, 1 book, 48.6ms\n",
      "Speed: 1.2ms preprocess, 48.6ms inference, 0.5ms postprocess per image at shape (1, 3, 480, 640)\n",
      "\n"
     ]
    },
    {
     "name": "stdout",
     "output_type": "stream",
     "text": [
      "Skipping Ripe_Mango_0_3814.jpg due to low confidence.\n",
      "Skipping Ripe_Mango_0_7723.jpg due to low confidence.\n"
     ]
    },
    {
     "name": "stderr",
     "output_type": "stream",
     "text": [
      "0: 480x640 2 oranges, 42.4ms\n",
      "Speed: 1.2ms preprocess, 42.4ms inference, 0.5ms postprocess per image at shape (1, 3, 480, 640)\n",
      "\n",
      "0: 480x640 3 oranges, 51.7ms\n",
      "Speed: 1.0ms preprocess, 51.7ms inference, 0.6ms postprocess per image at shape (1, 3, 480, 640)\n",
      "\n",
      "0: 480x640 1 apple, 45.6ms\n",
      "Speed: 1.0ms preprocess, 45.6ms inference, 0.5ms postprocess per image at shape (1, 3, 480, 640)\n",
      "\n",
      "0: 480x640 1 apple, 47.3ms\n",
      "Speed: 0.8ms preprocess, 47.3ms inference, 0.7ms postprocess per image at shape (1, 3, 480, 640)\n",
      "\n"
     ]
    },
    {
     "name": "stdout",
     "output_type": "stream",
     "text": [
      "Skipping Ripe_Mango_0_8438.jpg due to low confidence.\n",
      "Skipping Ripe_Mango_0_6401.jpg due to low confidence.\n",
      "Skipping Ripe_Mango_0_6617.jpg due to low confidence.\n"
     ]
    },
    {
     "name": "stderr",
     "output_type": "stream",
     "text": [
      "0: 480x640 1 orange, 57.2ms\n",
      "Speed: 1.1ms preprocess, 57.2ms inference, 0.6ms postprocess per image at shape (1, 3, 480, 640)\n",
      "\n",
      "0: 480x640 1 orange, 48.5ms\n",
      "Speed: 0.8ms preprocess, 48.5ms inference, 0.5ms postprocess per image at shape (1, 3, 480, 640)\n",
      "\n",
      "0: 480x640 1 laptop, 47.5ms\n",
      "Speed: 0.8ms preprocess, 47.5ms inference, 0.4ms postprocess per image at shape (1, 3, 480, 640)\n",
      "\n",
      "0: 480x640 3 oranges, 52.4ms\n",
      "Speed: 0.9ms preprocess, 52.4ms inference, 0.4ms postprocess per image at shape (1, 3, 480, 640)\n",
      "\n",
      "0: 480x640 (no detections), 42.7ms\n",
      "Speed: 0.8ms preprocess, 42.7ms inference, 0.3ms postprocess per image at shape (1, 3, 480, 640)\n",
      "\n"
     ]
    },
    {
     "name": "stdout",
     "output_type": "stream",
     "text": [
      "Skipping Ripe_Mango_0_5475.jpg due to low confidence.\n",
      "Skipping Ripe_Mango_0_7276.jpg due to low confidence.\n",
      "Skipping Ripe_Mango_0_3992.jpg due to no detection.\n"
     ]
    },
    {
     "name": "stderr",
     "output_type": "stream",
     "text": [
      "0: 480x640 2 apples, 52.5ms\n",
      "Speed: 0.9ms preprocess, 52.5ms inference, 0.5ms postprocess per image at shape (1, 3, 480, 640)\n",
      "\n",
      "0: 480x640 2 oranges, 72.8ms\n",
      "Speed: 1.1ms preprocess, 72.8ms inference, 0.5ms postprocess per image at shape (1, 3, 480, 640)\n",
      "\n",
      "0: 480x640 1 apple, 1 orange, 45.1ms\n",
      "Speed: 0.8ms preprocess, 45.1ms inference, 0.6ms postprocess per image at shape (1, 3, 480, 640)\n",
      "\n",
      "0: 480x640 1 sports ball, 50.6ms\n",
      "Speed: 0.9ms preprocess, 50.6ms inference, 0.7ms postprocess per image at shape (1, 3, 480, 640)\n",
      "\n"
     ]
    },
    {
     "name": "stdout",
     "output_type": "stream",
     "text": [
      "Skipping Ripe_Mango_0_5111.jpg due to low confidence.\n",
      "Skipping Ripe_Mango_0_9065.jpg due to low confidence.\n",
      "Skipping Ripe_Mango_0_4390.jpg due to low confidence.\n"
     ]
    },
    {
     "name": "stderr",
     "output_type": "stream",
     "text": [
      "0: 480x640 (no detections), 46.4ms\n",
      "Speed: 0.8ms preprocess, 46.4ms inference, 0.3ms postprocess per image at shape (1, 3, 480, 640)\n",
      "\n",
      "0: 480x640 2 oranges, 45.6ms\n",
      "Speed: 0.9ms preprocess, 45.6ms inference, 0.5ms postprocess per image at shape (1, 3, 480, 640)\n",
      "\n",
      "0: 480x640 2 oranges, 48.3ms\n",
      "Speed: 1.1ms preprocess, 48.3ms inference, 0.4ms postprocess per image at shape (1, 3, 480, 640)\n",
      "\n",
      "0: 480x640 (no detections), 40.2ms\n",
      "Speed: 0.9ms preprocess, 40.2ms inference, 0.3ms postprocess per image at shape (1, 3, 480, 640)\n",
      "\n",
      "0: 480x640 1 apple, 1 orange, 43.8ms\n",
      "Speed: 1.0ms preprocess, 43.8ms inference, 0.6ms postprocess per image at shape (1, 3, 480, 640)\n",
      "\n"
     ]
    },
    {
     "name": "stdout",
     "output_type": "stream",
     "text": [
      "Skipping Ripe_Mango_0_5065.jpg due to no detection.\n",
      "Skipping Ripe_Mango_0_8743.jpg due to no detection.\n",
      "Skipping Ripe_Mango_0_6020.jpg due to low confidence.\n"
     ]
    },
    {
     "name": "stderr",
     "output_type": "stream",
     "text": [
      "0: 480x640 1 orange, 48.4ms\n",
      "Speed: 1.0ms preprocess, 48.4ms inference, 0.5ms postprocess per image at shape (1, 3, 480, 640)\n",
      "\n",
      "0: 480x640 2 oranges, 42.9ms\n",
      "Speed: 0.9ms preprocess, 42.9ms inference, 0.5ms postprocess per image at shape (1, 3, 480, 640)\n",
      "\n",
      "0: 480x640 1 orange, 1 carrot, 42.6ms\n",
      "Speed: 0.9ms preprocess, 42.6ms inference, 0.5ms postprocess per image at shape (1, 3, 480, 640)\n",
      "\n",
      "0: 480x640 1 orange, 46.9ms\n",
      "Speed: 0.7ms preprocess, 46.9ms inference, 0.5ms postprocess per image at shape (1, 3, 480, 640)\n",
      "\n",
      "0: 480x640 1 apple, 44.9ms\n",
      "Speed: 1.0ms preprocess, 44.9ms inference, 0.5ms postprocess per image at shape (1, 3, 480, 640)\n",
      "\n"
     ]
    },
    {
     "name": "stdout",
     "output_type": "stream",
     "text": [
      "Skipping Ripe_Mango_0_4636.jpg due to low confidence.\n",
      "Skipping Ripe_Mango_0_8391.jpg due to low confidence.\n"
     ]
    },
    {
     "name": "stderr",
     "output_type": "stream",
     "text": [
      "0: 480x640 (no detections), 42.0ms\n",
      "Speed: 0.9ms preprocess, 42.0ms inference, 0.3ms postprocess per image at shape (1, 3, 480, 640)\n",
      "\n",
      "0: 480x640 1 orange, 44.5ms\n",
      "Speed: 0.9ms preprocess, 44.5ms inference, 0.4ms postprocess per image at shape (1, 3, 480, 640)\n",
      "\n",
      "0: 480x640 1 apple, 48.0ms\n",
      "Speed: 0.9ms preprocess, 48.0ms inference, 0.4ms postprocess per image at shape (1, 3, 480, 640)\n",
      "\n",
      "0: 480x640 1 orange, 41.3ms\n",
      "Speed: 0.9ms preprocess, 41.3ms inference, 0.6ms postprocess per image at shape (1, 3, 480, 640)\n",
      "\n",
      "0: 480x640 2 oranges, 44.0ms\n",
      "Speed: 1.0ms preprocess, 44.0ms inference, 0.7ms postprocess per image at shape (1, 3, 480, 640)\n"
     ]
    },
    {
     "name": "stdout",
     "output_type": "stream",
     "text": [
      "Skipping Ripe_Mango_0_4756.jpg due to no detection.\n",
      "Skipping Ripe_Mango_0_3749.jpg due to low confidence.\n",
      "Skipping Ripe_Mango_0_6590.jpg due to low confidence.\n"
     ]
    },
    {
     "name": "stderr",
     "output_type": "stream",
     "text": [
      "\n",
      "0: 480x640 1 orange, 49.0ms\n",
      "Speed: 1.1ms preprocess, 49.0ms inference, 0.5ms postprocess per image at shape (1, 3, 480, 640)\n",
      "\n",
      "0: 480x640 (no detections), 41.4ms\n",
      "Speed: 0.9ms preprocess, 41.4ms inference, 0.3ms postprocess per image at shape (1, 3, 480, 640)\n",
      "\n",
      "0: 480x640 2 oranges, 1 bed, 41.4ms\n",
      "Speed: 0.8ms preprocess, 41.4ms inference, 0.5ms postprocess per image at shape (1, 3, 480, 640)\n",
      "\n",
      "0: 480x640 1 orange, 44.9ms\n",
      "Speed: 0.7ms preprocess, 44.9ms inference, 0.5ms postprocess per image at shape (1, 3, 480, 640)\n",
      "\n",
      "0: 480x640 1 orange, 46.7ms\n",
      "Speed: 0.8ms preprocess, 46.7ms inference, 0.5ms postprocess per image at shape (1, 3, 480, 640)\n",
      "\n"
     ]
    },
    {
     "name": "stdout",
     "output_type": "stream",
     "text": [
      "Skipping Ripe_Mango_0_6209.jpg due to low confidence.\n",
      "Skipping Ripe_Mango_0_5066.jpg due to no detection.\n",
      "Skipping Ripe_Mango_0_3826.jpg due to low confidence.\n",
      "Skipping Ripe_Mango_0_4185.jpg due to low confidence.\n"
     ]
    },
    {
     "name": "stderr",
     "output_type": "stream",
     "text": [
      "0: 480x640 1 orange, 43.5ms\n",
      "Speed: 0.9ms preprocess, 43.5ms inference, 0.4ms postprocess per image at shape (1, 3, 480, 640)\n",
      "\n",
      "0: 480x640 2 oranges, 42.4ms\n",
      "Speed: 0.8ms preprocess, 42.4ms inference, 0.8ms postprocess per image at shape (1, 3, 480, 640)\n",
      "\n",
      "0: 480x640 1 orange, 43.8ms\n",
      "Speed: 0.7ms preprocess, 43.8ms inference, 0.5ms postprocess per image at shape (1, 3, 480, 640)\n",
      "\n",
      "0: 480x640 (no detections), 47.5ms\n",
      "Speed: 1.1ms preprocess, 47.5ms inference, 0.3ms postprocess per image at shape (1, 3, 480, 640)\n",
      "\n",
      "0: 480x640 2 oranges, 41.2ms\n",
      "Speed: 0.8ms preprocess, 41.2ms inference, 0.4ms postprocess per image at shape (1, 3, 480, 640)\n",
      "\n"
     ]
    },
    {
     "name": "stdout",
     "output_type": "stream",
     "text": [
      "Skipping Ripe_Mango_0_3601.jpg due to low confidence.\n",
      "Skipping Ripe_Mango_0_8543.jpg due to no detection.\n"
     ]
    },
    {
     "name": "stderr",
     "output_type": "stream",
     "text": [
      "0: 480x640 1 apple, 1 orange, 58.2ms\n",
      "Speed: 0.8ms preprocess, 58.2ms inference, 0.5ms postprocess per image at shape (1, 3, 480, 640)\n",
      "\n",
      "0: 480x640 3 oranges, 48.0ms\n",
      "Speed: 0.9ms preprocess, 48.0ms inference, 0.6ms postprocess per image at shape (1, 3, 480, 640)\n",
      "\n",
      "0: 480x640 1 apple, 1 orange, 40.7ms\n",
      "Speed: 1.0ms preprocess, 40.7ms inference, 0.5ms postprocess per image at shape (1, 3, 480, 640)\n",
      "\n",
      "0: 480x640 (no detections), 41.6ms\n",
      "Speed: 1.0ms preprocess, 41.6ms inference, 0.3ms postprocess per image at shape (1, 3, 480, 640)\n",
      "\n",
      "0: 480x640 1 orange, 43.9ms\n",
      "Speed: 0.8ms preprocess, 43.9ms inference, 0.5ms postprocess per image at shape (1, 3, 480, 640)\n",
      "\n",
      "0: 480x640 2 oranges, 48.0ms\n",
      "Speed: 0.9ms preprocess, 48.0ms inference, 0.5ms postprocess per image at shape (1, 3, 480, 640)\n",
      "\n",
      "0: 480x640 1 orange, 50.7ms\n",
      "Speed: 0.7ms preprocess, 50.7ms inference, 0.5ms postprocess per image at shape (1, 3, 480, 640)\n",
      "\n"
     ]
    },
    {
     "name": "stdout",
     "output_type": "stream",
     "text": [
      "Skipping Ripe_Mango_0_6397.jpg due to no detection.\n",
      "Skipping Ripe_Mango_0_6624.jpg due to low confidence.\n",
      "Skipping Ripe_Mango_0_6191.jpg due to low confidence.\n"
     ]
    },
    {
     "name": "stderr",
     "output_type": "stream",
     "text": [
      "0: 480x640 1 fire hydrant, 48.1ms\n",
      "Speed: 0.9ms preprocess, 48.1ms inference, 0.4ms postprocess per image at shape (1, 3, 480, 640)\n",
      "\n",
      "0: 480x640 3 oranges, 66.6ms\n",
      "Speed: 1.0ms preprocess, 66.6ms inference, 0.7ms postprocess per image at shape (1, 3, 480, 640)\n",
      "\n",
      "0: 480x640 1 orange, 42.6ms\n",
      "Speed: 0.9ms preprocess, 42.6ms inference, 0.5ms postprocess per image at shape (1, 3, 480, 640)\n",
      "\n",
      "0: 480x640 1 apple, 1 orange, 43.8ms\n",
      "Speed: 0.8ms preprocess, 43.8ms inference, 0.6ms postprocess per image at shape (1, 3, 480, 640)\n",
      "\n"
     ]
    },
    {
     "name": "stdout",
     "output_type": "stream",
     "text": [
      "Skipping Ripe_Mango_0_6813.jpg due to low confidence.\n",
      "Skipping Ripe_Mango_0_8619.jpg due to low confidence.\n",
      "Skipping Ripe_Mango_0_5842.jpg due to low confidence.\n"
     ]
    },
    {
     "name": "stderr",
     "output_type": "stream",
     "text": [
      "0: 480x640 1 fire hydrant, 1 apple, 52.5ms\n",
      "Speed: 0.8ms preprocess, 52.5ms inference, 0.5ms postprocess per image at shape (1, 3, 480, 640)\n",
      "\n",
      "0: 480x640 1 banana, 49.4ms\n",
      "Speed: 1.0ms preprocess, 49.4ms inference, 0.4ms postprocess per image at shape (1, 3, 480, 640)\n",
      "\n",
      "0: 480x640 3 oranges, 44.5ms\n",
      "Speed: 0.8ms preprocess, 44.5ms inference, 0.6ms postprocess per image at shape (1, 3, 480, 640)\n",
      "\n",
      "0: 480x640 1 apple, 2 oranges, 47.8ms\n",
      "Speed: 0.8ms preprocess, 47.8ms inference, 0.6ms postprocess per image at shape (1, 3, 480, 640)\n",
      "\n"
     ]
    },
    {
     "name": "stdout",
     "output_type": "stream",
     "text": [
      "Skipping Ripe_Mango_0_4235.jpg due to low confidence.\n",
      "Skipping Ripe_Mango_0_5117.jpg due to low confidence.\n",
      "Skipping Ripe_Mango_0_4194.jpg due to low confidence.\n"
     ]
    },
    {
     "name": "stderr",
     "output_type": "stream",
     "text": [
      "0: 480x640 1 apple, 41.6ms\n",
      "Speed: 1.0ms preprocess, 41.6ms inference, 0.4ms postprocess per image at shape (1, 3, 480, 640)\n",
      "\n",
      "0: 480x640 1 apple, 44.8ms\n",
      "Speed: 0.8ms preprocess, 44.8ms inference, 0.6ms postprocess per image at shape (1, 3, 480, 640)\n",
      "\n",
      "0: 480x640 1 orange, 48.3ms\n",
      "Speed: 0.9ms preprocess, 48.3ms inference, 0.5ms postprocess per image at shape (1, 3, 480, 640)\n",
      "\n",
      "0: 480x640 1 apple, 48.9ms\n",
      "Speed: 1.2ms preprocess, 48.9ms inference, 0.5ms postprocess per image at shape (1, 3, 480, 640)\n",
      "\n"
     ]
    },
    {
     "name": "stdout",
     "output_type": "stream",
     "text": [
      "Skipping Ripe_Mango_0_6972.jpg due to low confidence.\n",
      "Skipping Ripe_Mango_0_5738.jpg due to low confidence.\n",
      "Skipping Ripe_Mango_0_6345.jpg due to low confidence.\n"
     ]
    },
    {
     "name": "stderr",
     "output_type": "stream",
     "text": [
      "0: 480x640 2 oranges, 47.9ms\n",
      "Speed: 0.9ms preprocess, 47.9ms inference, 0.6ms postprocess per image at shape (1, 3, 480, 640)\n",
      "\n",
      "0: 480x640 1 orange, 49.8ms\n",
      "Speed: 1.0ms preprocess, 49.8ms inference, 0.5ms postprocess per image at shape (1, 3, 480, 640)\n",
      "\n",
      "0: 480x640 1 fork, 2 apples, 43.1ms\n",
      "Speed: 1.0ms preprocess, 43.1ms inference, 0.5ms postprocess per image at shape (1, 3, 480, 640)\n",
      "\n",
      "0: 480x640 2 apples, 42.0ms\n",
      "Speed: 0.8ms preprocess, 42.0ms inference, 0.4ms postprocess per image at shape (1, 3, 480, 640)\n",
      "\n",
      "0: 480x640 2 oranges, 47.3ms\n",
      "Speed: 0.9ms preprocess, 47.3ms inference, 0.5ms postprocess per image at shape (1, 3, 480, 640)\n",
      "\n",
      "0: 480x640 (no detections), 50.5ms\n",
      "Speed: 1.1ms preprocess, 50.5ms inference, 0.4ms postprocess per image at shape (1, 3, 480, 640)\n"
     ]
    },
    {
     "name": "stdout",
     "output_type": "stream",
     "text": [
      "Skipping Ripe_Mango_0_9260.jpg due to low confidence.\n",
      "Skipping Ripe_Mango_0_6804.jpg due to low confidence.\n",
      "Skipping Ripe_Mango_0_4020.jpg due to low confidence.\n"
     ]
    },
    {
     "name": "stderr",
     "output_type": "stream",
     "text": [
      "\n",
      "0: 480x640 2 apples, 45.4ms\n",
      "Speed: 0.9ms preprocess, 45.4ms inference, 0.5ms postprocess per image at shape (1, 3, 480, 640)\n",
      "\n",
      "0: 480x640 1 orange, 48.1ms\n",
      "Speed: 0.9ms preprocess, 48.1ms inference, 0.5ms postprocess per image at shape (1, 3, 480, 640)\n",
      "\n",
      "0: 480x640 (no detections), 43.4ms\n",
      "Speed: 0.7ms preprocess, 43.4ms inference, 0.3ms postprocess per image at shape (1, 3, 480, 640)\n",
      "\n",
      "0: 480x640 (no detections), 42.7ms\n",
      "Speed: 0.7ms preprocess, 42.7ms inference, 0.2ms postprocess per image at shape (1, 3, 480, 640)\n",
      "\n"
     ]
    },
    {
     "name": "stdout",
     "output_type": "stream",
     "text": [
      "Skipping Ripe_Mango_0_8154.jpg due to no detection.\n",
      "Skipping Ripe_Mango_0_4587.jpg due to low confidence.\n",
      "Skipping Ripe_Mango_0_6409.jpg due to low confidence.\n",
      "Skipping Ripe_Mango_0_4169.jpg due to no detection.\n",
      "Skipping Ripe_Mango_0_3148.jpg due to no detection.\n"
     ]
    },
    {
     "name": "stderr",
     "output_type": "stream",
     "text": [
      "0: 480x640 1 apple, 1 orange, 48.2ms\n",
      "Speed: 1.0ms preprocess, 48.2ms inference, 0.5ms postprocess per image at shape (1, 3, 480, 640)\n",
      "\n",
      "0: 480x640 1 knife, 1 apple, 1 orange, 43.0ms\n",
      "Speed: 0.9ms preprocess, 43.0ms inference, 0.5ms postprocess per image at shape (1, 3, 480, 640)\n",
      "\n",
      "0: 480x640 1 orange, 54.8ms\n",
      "Speed: 0.9ms preprocess, 54.8ms inference, 0.5ms postprocess per image at shape (1, 3, 480, 640)\n",
      "\n",
      "0: 480x640 1 bowl, 1 apple, 1 cell phone, 47.2ms\n",
      "Speed: 0.9ms preprocess, 47.2ms inference, 0.5ms postprocess per image at shape (1, 3, 480, 640)\n",
      "\n"
     ]
    },
    {
     "name": "stdout",
     "output_type": "stream",
     "text": [
      "Skipping Ripe_Mango_0_8592.jpg due to low confidence.\n",
      "Skipping Ripe_Mango_0_8419.jpg due to low confidence.\n",
      "Skipping Ripe_Mango_0_6692.jpg due to low confidence.\n"
     ]
    },
    {
     "name": "stderr",
     "output_type": "stream",
     "text": [
      "0: 480x640 1 orange, 41.8ms\n",
      "Speed: 0.9ms preprocess, 41.8ms inference, 0.6ms postprocess per image at shape (1, 3, 480, 640)\n",
      "\n",
      "0: 480x640 1 orange, 42.7ms\n",
      "Speed: 0.9ms preprocess, 42.7ms inference, 0.5ms postprocess per image at shape (1, 3, 480, 640)\n",
      "\n",
      "0: 480x640 1 orange, 50.4ms\n",
      "Speed: 0.9ms preprocess, 50.4ms inference, 0.5ms postprocess per image at shape (1, 3, 480, 640)\n",
      "\n",
      "0: 480x640 1 apple, 1 orange, 43.4ms\n",
      "Speed: 0.8ms preprocess, 43.4ms inference, 0.5ms postprocess per image at shape (1, 3, 480, 640)\n",
      "\n",
      "0: 480x640 1 frisbee, 1 apple, 43.7ms\n",
      "Speed: 1.0ms preprocess, 43.7ms inference, 0.5ms postprocess per image at shape (1, 3, 480, 640)\n",
      "\n",
      "0: 480x640 2 oranges, 48.4ms\n",
      "Speed: 1.0ms preprocess, 48.4ms inference, 0.5ms postprocess per image at shape (1, 3, 480, 640)\n",
      "\n",
      "0: 480x640 1 bowl, 1 apple, 43.4ms\n",
      "Speed: 0.9ms preprocess, 43.4ms inference, 0.5ms postprocess per image at shape (1, 3, 480, 640)\n",
      "\n"
     ]
    },
    {
     "name": "stdout",
     "output_type": "stream",
     "text": [
      "Skipping Ripe_Mango_0_4046.jpg due to low confidence.\n",
      "Skipping Ripe_Mango_0_8324.jpg due to low confidence.\n",
      "Skipping Ripe_Mango_0_5947.jpg due to low confidence.\n",
      "Skipping Ripe_Mango_0_3648.jpg due to low confidence.\n"
     ]
    },
    {
     "name": "stderr",
     "output_type": "stream",
     "text": [
      "0: 480x640 2 oranges, 42.0ms\n",
      "Speed: 0.8ms preprocess, 42.0ms inference, 0.5ms postprocess per image at shape (1, 3, 480, 640)\n",
      "\n",
      "0: 480x640 1 frisbee, 1 orange, 45.3ms\n",
      "Speed: 0.8ms preprocess, 45.3ms inference, 0.8ms postprocess per image at shape (1, 3, 480, 640)\n",
      "\n",
      "0: 480x640 1 apple, 47.3ms\n",
      "Speed: 1.2ms preprocess, 47.3ms inference, 0.5ms postprocess per image at shape (1, 3, 480, 640)\n",
      "\n",
      "0: 480x640 1 apple, 1 orange, 41.2ms\n",
      "Speed: 0.8ms preprocess, 41.2ms inference, 0.7ms postprocess per image at shape (1, 3, 480, 640)\n",
      "\n",
      "0: 480x640 3 oranges, 42.2ms\n",
      "Speed: 0.8ms preprocess, 42.2ms inference, 0.4ms postprocess per image at shape (1, 3, 480, 640)\n",
      "\n",
      "0: 480x640 1 apple, 47.7ms\n",
      "Speed: 0.8ms preprocess, 47.7ms inference, 0.5ms postprocess per image at shape (1, 3, 480, 640)\n",
      "\n",
      "0: 480x640 3 oranges, 43.5ms\n",
      "Speed: 0.9ms preprocess, 43.5ms inference, 0.4ms postprocess per image at shape (1, 3, 480, 640)\n",
      "\n"
     ]
    },
    {
     "name": "stdout",
     "output_type": "stream",
     "text": [
      "Skipping Ripe_Mango_0_8906.jpg due to low confidence.\n",
      "Skipping Ripe_Mango_0_4866.jpg due to low confidence.\n",
      "Skipping Ripe_Mango_0_6446.jpg due to low confidence.\n"
     ]
    },
    {
     "name": "stderr",
     "output_type": "stream",
     "text": [
      "0: 480x640 3 oranges, 43.2ms\n",
      "Speed: 0.8ms preprocess, 43.2ms inference, 0.6ms postprocess per image at shape (1, 3, 480, 640)\n",
      "\n",
      "0: 480x640 1 apple, 1 orange, 46.3ms\n",
      "Speed: 0.8ms preprocess, 46.3ms inference, 0.6ms postprocess per image at shape (1, 3, 480, 640)\n",
      "\n",
      "0: 480x640 1 apple, 1 orange, 67.6ms\n",
      "Speed: 1.0ms preprocess, 67.6ms inference, 0.5ms postprocess per image at shape (1, 3, 480, 640)\n",
      "\n",
      "0: 480x640 1 orange, 41.4ms\n",
      "Speed: 0.7ms preprocess, 41.4ms inference, 0.4ms postprocess per image at shape (1, 3, 480, 640)\n",
      "\n",
      "0: 480x640 1 apple, 46.2ms\n",
      "Speed: 0.7ms preprocess, 46.2ms inference, 0.5ms postprocess per image at shape (1, 3, 480, 640)\n",
      "\n",
      "0: 480x640 1 orange, 49.1ms\n",
      "Speed: 0.9ms preprocess, 49.1ms inference, 0.7ms postprocess per image at shape (1, 3, 480, 640)\n",
      "\n",
      "0: 480x640 1 sports ball, 1 apple, 42.9ms\n",
      "Speed: 0.8ms preprocess, 42.9ms inference, 0.4ms postprocess per image at shape (1, 3, 480, 640)\n",
      "\n"
     ]
    },
    {
     "name": "stdout",
     "output_type": "stream",
     "text": [
      "Skipping Ripe_Mango_0_7216.jpg due to low confidence.\n",
      "Skipping Ripe_Mango_0_8657.jpg due to low confidence.\n",
      "Skipping Ripe_Mango_0_7558.jpg due to low confidence.\n",
      "Skipping Ripe_Mango_0_3272.jpg due to low confidence.\n",
      "Skipping Ripe_Mango_0_6450.jpg due to low confidence.\n"
     ]
    },
    {
     "name": "stderr",
     "output_type": "stream",
     "text": [
      "0: 480x640 1 handbag, 1 apple, 44.4ms\n",
      "Speed: 1.0ms preprocess, 44.4ms inference, 0.5ms postprocess per image at shape (1, 3, 480, 640)\n",
      "\n",
      "0: 480x640 1 orange, 50.9ms\n",
      "Speed: 0.9ms preprocess, 50.9ms inference, 0.5ms postprocess per image at shape (1, 3, 480, 640)\n",
      "\n",
      "0: 480x640 1 handbag, 3 apples, 49.3ms\n",
      "Speed: 0.8ms preprocess, 49.3ms inference, 0.5ms postprocess per image at shape (1, 3, 480, 640)\n",
      "\n",
      "0: 480x640 1 bowl, 1 apple, 45.9ms\n",
      "Speed: 0.9ms preprocess, 45.9ms inference, 0.7ms postprocess per image at shape (1, 3, 480, 640)\n",
      "\n"
     ]
    },
    {
     "name": "stdout",
     "output_type": "stream",
     "text": [
      "Skipping Ripe_Mango_0_8247.jpg due to low confidence.\n",
      "Skipping Ripe_Mango_0_6097.jpg due to low confidence.\n",
      "Skipping Ripe_Mango_0_7389.jpg due to low confidence.\n",
      "Skipping Ripe_Mango_0_7438.jpg due to low confidence.\n"
     ]
    },
    {
     "name": "stderr",
     "output_type": "stream",
     "text": [
      "0: 480x640 3 oranges, 50.2ms\n",
      "Speed: 0.8ms preprocess, 50.2ms inference, 0.6ms postprocess per image at shape (1, 3, 480, 640)\n",
      "\n",
      "0: 480x640 (no detections), 47.8ms\n",
      "Speed: 1.0ms preprocess, 47.8ms inference, 0.3ms postprocess per image at shape (1, 3, 480, 640)\n",
      "\n",
      "0: 480x640 1 orange, 45.9ms\n",
      "Speed: 0.8ms preprocess, 45.9ms inference, 0.5ms postprocess per image at shape (1, 3, 480, 640)\n",
      "\n",
      "0: 480x640 (no detections), 47.4ms\n",
      "Speed: 0.9ms preprocess, 47.4ms inference, 0.3ms postprocess per image at shape (1, 3, 480, 640)\n",
      "\n",
      "0: 480x640 2 oranges, 1 dining table, 50.9ms\n",
      "Speed: 1.1ms preprocess, 50.9ms inference, 0.5ms postprocess per image at shape (1, 3, 480, 640)\n",
      "\n"
     ]
    },
    {
     "name": "stdout",
     "output_type": "stream",
     "text": [
      "Skipping Ripe_Mango_0_6519.jpg due to no detection.\n",
      "Skipping Ripe_Mango_0_4093.jpg due to no detection.\n"
     ]
    },
    {
     "name": "stderr",
     "output_type": "stream",
     "text": [
      "0: 480x640 1 orange, 46.8ms\n",
      "Speed: 0.8ms preprocess, 46.8ms inference, 0.4ms postprocess per image at shape (1, 3, 480, 640)\n",
      "\n",
      "0: 480x640 1 orange, 50.4ms\n",
      "Speed: 0.9ms preprocess, 50.4ms inference, 0.5ms postprocess per image at shape (1, 3, 480, 640)\n",
      "\n",
      "0: 480x640 1 orange, 47.2ms\n",
      "Speed: 0.9ms preprocess, 47.2ms inference, 0.5ms postprocess per image at shape (1, 3, 480, 640)\n",
      "\n",
      "0: 480x640 1 orange, 42.4ms\n",
      "Speed: 0.9ms preprocess, 42.4ms inference, 0.5ms postprocess per image at shape (1, 3, 480, 640)\n",
      "\n"
     ]
    },
    {
     "name": "stdout",
     "output_type": "stream",
     "text": [
      "Skipping Ripe_Mango_0_7207.jpg due to low confidence.\n",
      "Skipping Ripe_Mango_0_8487.jpg due to low confidence.\n"
     ]
    },
    {
     "name": "stderr",
     "output_type": "stream",
     "text": [
      "0: 480x640 1 apple, 2 oranges, 44.3ms\n",
      "Speed: 0.8ms preprocess, 44.3ms inference, 0.4ms postprocess per image at shape (1, 3, 480, 640)\n",
      "\n",
      "0: 480x640 3 oranges, 49.9ms\n",
      "Speed: 0.8ms preprocess, 49.9ms inference, 0.6ms postprocess per image at shape (1, 3, 480, 640)\n",
      "\n",
      "0: 480x640 3 oranges, 48.0ms\n",
      "Speed: 0.8ms preprocess, 48.0ms inference, 0.5ms postprocess per image at shape (1, 3, 480, 640)\n",
      "\n",
      "0: 480x640 2 oranges, 51.1ms\n",
      "Speed: 1.4ms preprocess, 51.1ms inference, 0.6ms postprocess per image at shape (1, 3, 480, 640)\n",
      "\n",
      "0: 480x640 2 oranges, 51.0ms\n",
      "Speed: 0.9ms preprocess, 51.0ms inference, 0.8ms postprocess per image at shape (1, 3, 480, 640)\n",
      "\n",
      "0: 480x640 1 orange, 51.6ms\n",
      "Speed: 1.0ms preprocess, 51.6ms inference, 0.4ms postprocess per image at shape (1, 3, 480, 640)\n",
      "\n",
      "0: 480x640 1 orange, 54.8ms\n",
      "Speed: 0.8ms preprocess, 54.8ms inference, 0.5ms postprocess per image at shape (1, 3, 480, 640)\n",
      "\n",
      "0: 480x640 2 oranges, 1 dining table, 42.4ms\n",
      "Speed: 0.9ms preprocess, 42.4ms inference, 0.5ms postprocess per image at shape (1, 3, 480, 640)\n",
      "\n",
      "0: 480x640 1 apple, 41.9ms\n",
      "Speed: 0.9ms preprocess, 41.9ms inference, 0.4ms postprocess per image at shape (1, 3, 480, 640)\n",
      "\n",
      "0: 480x640 1 orange, 41.9ms\n",
      "Speed: 0.8ms preprocess, 41.9ms inference, 0.5ms postprocess per image at shape (1, 3, 480, 640)\n"
     ]
    },
    {
     "name": "stdout",
     "output_type": "stream",
     "text": [
      "Skipping Ripe_Mango_0_6291.jpg due to low confidence.\n",
      "Skipping Ripe_Mango_0_4531.jpg due to low confidence.\n",
      "Skipping Ripe_Mango_0_6497.jpg due to low confidence.\n"
     ]
    },
    {
     "name": "stderr",
     "output_type": "stream",
     "text": [
      "\n",
      "0: 480x640 1 apple, 43.6ms\n",
      "Speed: 0.9ms preprocess, 43.6ms inference, 0.4ms postprocess per image at shape (1, 3, 480, 640)\n",
      "\n",
      "0: 480x640 2 oranges, 39.6ms\n",
      "Speed: 0.7ms preprocess, 39.6ms inference, 0.4ms postprocess per image at shape (1, 3, 480, 640)\n",
      "\n",
      "0: 480x640 1 apple, 39.9ms\n",
      "Speed: 0.9ms preprocess, 39.9ms inference, 0.5ms postprocess per image at shape (1, 3, 480, 640)\n",
      "\n",
      "0: 480x640 1 orange, 41.1ms\n",
      "Speed: 0.7ms preprocess, 41.1ms inference, 0.5ms postprocess per image at shape (1, 3, 480, 640)\n",
      "\n",
      "0: 480x640 1 orange, 43.1ms\n",
      "Speed: 0.9ms preprocess, 43.1ms inference, 0.5ms postprocess per image at shape (1, 3, 480, 640)\n",
      "\n",
      "0: 480x640 2 oranges, 44.8ms\n",
      "Speed: 0.8ms preprocess, 44.8ms inference, 0.5ms postprocess per image at shape (1, 3, 480, 640)\n",
      "\n"
     ]
    },
    {
     "name": "stdout",
     "output_type": "stream",
     "text": [
      "Skipping Ripe_Mango_0_4727.jpg due to low confidence.\n",
      "Skipping Ripe_Mango_0_3048.jpg due to low confidence.\n",
      "Skipping Ripe_Mango_0_4096.jpg due to low confidence.\n"
     ]
    },
    {
     "name": "stderr",
     "output_type": "stream",
     "text": [
      "0: 480x640 3 oranges, 43.9ms\n",
      "Speed: 0.8ms preprocess, 43.9ms inference, 0.5ms postprocess per image at shape (1, 3, 480, 640)\n",
      "\n",
      "0: 480x640 3 oranges, 62.0ms\n",
      "Speed: 1.0ms preprocess, 62.0ms inference, 0.5ms postprocess per image at shape (1, 3, 480, 640)\n",
      "\n",
      "0: 480x640 1 bowl, 1 apple, 1 orange, 44.1ms\n",
      "Speed: 0.7ms preprocess, 44.1ms inference, 0.4ms postprocess per image at shape (1, 3, 480, 640)\n",
      "\n",
      "0: 480x640 1 frisbee, 40.8ms\n",
      "Speed: 0.9ms preprocess, 40.8ms inference, 0.5ms postprocess per image at shape (1, 3, 480, 640)\n",
      "\n",
      "0: 480x640 1 skis, 1 orange, 41.3ms\n",
      "Speed: 1.0ms preprocess, 41.3ms inference, 0.5ms postprocess per image at shape (1, 3, 480, 640)\n",
      "\n",
      "0: 480x640 1 orange, 41.3ms\n",
      "Speed: 0.8ms preprocess, 41.3ms inference, 0.5ms postprocess per image at shape (1, 3, 480, 640)\n",
      "\n",
      "0: 480x640 1 bowl, 2 apples, 39.9ms\n",
      "Speed: 1.0ms preprocess, 39.9ms inference, 0.6ms postprocess per image at shape (1, 3, 480, 640)\n",
      "\n"
     ]
    },
    {
     "name": "stdout",
     "output_type": "stream",
     "text": [
      "Skipping Ripe_Mango_0_8889.jpg due to low confidence.\n",
      "Skipping Ripe_Mango_0_6250.jpg due to low confidence.\n",
      "Skipping Ripe_Mango_0_5003.jpg due to low confidence.\n",
      "Skipping Ripe_Mango_0_3472.jpg due to low confidence.\n"
     ]
    },
    {
     "name": "stderr",
     "output_type": "stream",
     "text": [
      "0: 480x640 1 orange, 43.3ms\n",
      "Speed: 1.1ms preprocess, 43.3ms inference, 0.5ms postprocess per image at shape (1, 3, 480, 640)\n",
      "\n",
      "0: 480x640 2 oranges, 1 dining table, 43.5ms\n",
      "Speed: 0.9ms preprocess, 43.5ms inference, 0.5ms postprocess per image at shape (1, 3, 480, 640)\n",
      "\n",
      "0: 480x640 1 orange, 41.9ms\n",
      "Speed: 0.9ms preprocess, 41.9ms inference, 0.5ms postprocess per image at shape (1, 3, 480, 640)\n",
      "\n",
      "0: 480x640 1 sports ball, 1 apple, 40.0ms\n",
      "Speed: 0.9ms preprocess, 40.0ms inference, 0.4ms postprocess per image at shape (1, 3, 480, 640)\n"
     ]
    },
    {
     "name": "stdout",
     "output_type": "stream",
     "text": [
      "Skipping Ripe_Mango_0_4724.jpg due to low confidence.\n"
     ]
    }
   ],
   "source": [
    "import os\n",
    "import cv2\n",
    "import numpy as np\n",
    "from helper import resize_and_pad\n",
    "\n",
    "folder_type = \"test/ripe\" # test/train raw/ripe\n",
    "\n",
    "input_folder = 'datasets/mango/images/' + folder_type\n",
    "output_folder = 'datasets/mango_cut/images/' + folder_type\n",
    "confidence_threshold = 0.6  # Adjust as needed\n",
    "\n",
    "image_files = [f for f in os.listdir(input_folder) if f.endswith(('.png', '.jpg', '.jpeg'))]\n",
    "\n",
    "# Create the folder if it doesn't exist\n",
    "if not os.path.exists(output_folder):\n",
    "    os.makedirs(output_folder)\n",
    "\n",
    "# Delete all files in the output folder\n",
    "for filename in os.listdir(output_folder):\n",
    "    file_path = os.path.join(output_folder, filename)\n",
    "    if os.path.isfile(file_path):  # ensure it's a file, not a directory or other type\n",
    "        os.remove(file_path)\n",
    "\n",
    "for image_file in image_files:\n",
    "    # Load the image using cv2\n",
    "    img_path = os.path.join(input_folder, image_file)\n",
    "    img = cv2.imread(img_path)\n",
    "    \n",
    "    # Generate predictions for the image\n",
    "    results = model.predict(source=img)\n",
    "    \n",
    "    # Check if any detection was made\n",
    "    if len(results[0].boxes.xyxy) == 0:\n",
    "        print(f\"Skipping {image_file} due to no detection.\")\n",
    "        continue\n",
    "\n",
    "    # Get the index of the bounding box with the highest confidence\n",
    "    max_conf_index = np.argmax(results[0].boxes.conf.cpu().numpy())\n",
    "    \n",
    "    # Check if highest confidence is above threshold\n",
    "    if results[0].boxes.conf[max_conf_index] < confidence_threshold:\n",
    "        print(f\"Skipping {image_file} due to low confidence.\")\n",
    "        continue\n",
    "    \n",
    "    # Extract and save the object with highest confidence\n",
    "    box = results[0].boxes.xyxy[max_conf_index].cpu().numpy().astype(int)\n",
    "    x1, y1, x2, y2 = box\n",
    "    cropped_img = img[y1:y2, x1:x2]\n",
    "\n",
    "    # Resize and pad\n",
    "    final_img = resize_and_pad(cropped_img)\n",
    "\n",
    "    # Save the cropped image\n",
    "    output_path = os.path.join(output_folder, image_file)\n",
    "    cv2.imwrite(output_path, final_img)"
   ]
  },
  {
   "cell_type": "code",
   "execution_count": null,
   "metadata": {},
   "outputs": [],
   "source": []
  }
 ],
 "metadata": {
  "kernelspec": {
   "display_name": ".venv",
   "language": "python",
   "name": "python3"
  },
  "language_info": {
   "codemirror_mode": {
    "name": "ipython",
    "version": 3
   },
   "file_extension": ".py",
   "mimetype": "text/x-python",
   "name": "python",
   "nbconvert_exporter": "python",
   "pygments_lexer": "ipython3",
   "version": "3.11.4"
  }
 },
 "nbformat": 4,
 "nbformat_minor": 2
}
