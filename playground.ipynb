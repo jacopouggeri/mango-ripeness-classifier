{
 "cells": [
  {
   "cell_type": "code",
   "execution_count": 2,
   "metadata": {},
   "outputs": [],
   "source": [
    "from ultralytics import YOLO"
   ]
  },
  {
   "cell_type": "code",
   "execution_count": 3,
   "metadata": {},
   "outputs": [],
   "source": [
    "# Load a pretrained YOLO model (recommended for training)\n",
    "model = YOLO(\"yolov8n.pt\")"
   ]
  },
  {
   "cell_type": "code",
   "execution_count": null,
   "metadata": {},
   "outputs": [],
   "source": [
    "# Train the model using the 'coco128.yaml' dataset for 3 epochs\n",
    "#results = model.train(data='coco128.yaml', epochs=5)\n",
    "\n",
    "# Evaluate the model's performance on the validation set\n",
    "#results = model.val()"
   ]
  },
  {
   "cell_type": "code",
   "execution_count": null,
   "metadata": {},
   "outputs": [],
   "source": [
    "# Export the model to ONNX format\n",
    "success = model.export(format='pb')"
   ]
  },
  {
   "cell_type": "code",
   "execution_count": 7,
   "metadata": {},
   "outputs": [
    {
     "name": "stderr",
     "output_type": "stream",
     "text": [
      "\n",
      "image 1/1 /Users/jacopouggeri/workspace/datathon/datasets/mango/images/test/raw/Raw_Mango_0_6461.jpg: 480x640 1 person, 1 banana, 1 apple, 96.2ms\n",
      "Speed: 2.2ms preprocess, 96.2ms inference, 1.0ms postprocess per image at shape (1, 3, 480, 640)\n",
      "\n",
      "image 1/1 /Users/jacopouggeri/workspace/datathon/datasets/mango/images/test/raw/Raw_Mango_0_7964.jpg: 480x640 1 banana, 52.5ms\n",
      "Speed: 2.1ms preprocess, 52.5ms inference, 0.5ms postprocess per image at shape (1, 3, 480, 640)\n",
      "\n",
      "image 1/1 /Users/jacopouggeri/workspace/datathon/datasets/mango/images/test/raw/Raw_Mango_0_3653.jpg: 480x640 1 orange, 54.5ms\n",
      "Speed: 1.4ms preprocess, 54.5ms inference, 0.5ms postprocess per image at shape (1, 3, 480, 640)\n",
      "\n",
      "image 1/1 /Users/jacopouggeri/workspace/datathon/datasets/mango/images/test/raw/Raw_Mango_0_3121.jpg: 480x640 2 apples, 48.1ms\n",
      "Speed: 1.0ms preprocess, 48.1ms inference, 0.5ms postprocess per image at shape (1, 3, 480, 640)\n",
      "\n",
      "image 1/1 /Users/jacopouggeri/workspace/datathon/datasets/mango/images/test/raw/Raw_Mango_0_4470.jpg: 480x640 1 apple, 1 orange, 48.3ms\n",
      "Speed: 1.2ms preprocess, 48.3ms inference, 0.5ms postprocess per image at shape (1, 3, 480, 640)\n",
      "\n",
      "image 1/1 /Users/jacopouggeri/workspace/datathon/datasets/mango/images/test/raw/Raw_Mango_0_5961.jpg: 480x640 2 apples, 49.4ms\n",
      "Speed: 0.9ms preprocess, 49.4ms inference, 0.5ms postprocess per image at shape (1, 3, 480, 640)\n",
      "\n",
      "image 1/1 /Users/jacopouggeri/workspace/datathon/datasets/mango/images/test/raw/Raw_Mango_0_3487.jpg: 480x640 1 apple, 1 dining table, 48.8ms\n",
      "Speed: 1.8ms preprocess, 48.8ms inference, 0.4ms postprocess per image at shape (1, 3, 480, 640)\n",
      "\n",
      "image 1/1 /Users/jacopouggeri/workspace/datathon/datasets/mango/images/test/raw/Raw_Mango_0_4317.jpg: 480x640 1 apple, 1 dining table, 1 laptop, 50.2ms\n",
      "Speed: 1.6ms preprocess, 50.2ms inference, 0.5ms postprocess per image at shape (1, 3, 480, 640)\n",
      "\n",
      "image 1/1 /Users/jacopouggeri/workspace/datathon/datasets/mango/images/test/raw/Raw_Mango_0_7144.jpg: 480x640 1 banana, 2 apples, 50.8ms\n",
      "Speed: 1.7ms preprocess, 50.8ms inference, 0.6ms postprocess per image at shape (1, 3, 480, 640)\n",
      "\n",
      "image 1/1 /Users/jacopouggeri/workspace/datathon/datasets/mango/images/test/raw/Raw_Mango_0_6528.jpg: 480x640 1 banana, 1 apple, 48.4ms\n",
      "Speed: 1.5ms preprocess, 48.4ms inference, 0.5ms postprocess per image at shape (1, 3, 480, 640)\n",
      "\n",
      "image 1/1 /Users/jacopouggeri/workspace/datathon/datasets/mango/images/test/raw/Raw_Mango_0_3861.jpg: 480x640 1 apple, 51.5ms\n",
      "Speed: 0.9ms preprocess, 51.5ms inference, 0.5ms postprocess per image at shape (1, 3, 480, 640)\n",
      "\n",
      "image 1/1 /Users/jacopouggeri/workspace/datathon/datasets/mango/images/test/raw/Raw_Mango_0_3875.jpg: 480x640 1 banana, 1 apple, 53.3ms\n",
      "Speed: 1.7ms preprocess, 53.3ms inference, 0.6ms postprocess per image at shape (1, 3, 480, 640)\n",
      "\n",
      "image 1/1 /Users/jacopouggeri/workspace/datathon/datasets/mango/images/test/raw/Raw_Mango_0_7408.jpg: 480x640 1 banana, 1 apple, 1 orange, 1 vase, 49.5ms\n",
      "Speed: 1.7ms preprocess, 49.5ms inference, 0.5ms postprocess per image at shape (1, 3, 480, 640)\n",
      "\n",
      "image 1/1 /Users/jacopouggeri/workspace/datathon/datasets/mango/images/test/raw/Raw_Mango_0_4129.jpg: 480x640 1 bench, 1 sports ball, 2 apples, 1 orange, 49.3ms\n",
      "Speed: 1.6ms preprocess, 49.3ms inference, 0.5ms postprocess per image at shape (1, 3, 480, 640)\n",
      "\n",
      "image 1/1 /Users/jacopouggeri/workspace/datathon/datasets/mango/images/test/raw/Raw_Mango_0_6460.jpg: 480x640 1 banana, 1 apple, 48.8ms\n",
      "Speed: 0.9ms preprocess, 48.8ms inference, 0.5ms postprocess per image at shape (1, 3, 480, 640)\n",
      "\n",
      "image 1/1 /Users/jacopouggeri/workspace/datathon/datasets/mango/images/test/raw/Raw_Mango_0_3256.jpg: 480x640 1 spoon, 1 banana, 1 book, 50.3ms\n",
      "Speed: 1.3ms preprocess, 50.3ms inference, 0.5ms postprocess per image at shape (1, 3, 480, 640)\n",
      "\n",
      "image 1/1 /Users/jacopouggeri/workspace/datathon/datasets/mango/images/test/raw/Raw_Mango_0_2638.jpg: 480x640 (no detections), 48.9ms\n",
      "Speed: 1.5ms preprocess, 48.9ms inference, 0.3ms postprocess per image at shape (1, 3, 480, 640)\n",
      "\n",
      "image 1/1 /Users/jacopouggeri/workspace/datathon/datasets/mango/images/test/raw/Raw_Mango_0_7740.jpg: 480x640 1 frisbee, 1 sports ball, 1 apple, 53.4ms\n",
      "Speed: 1.5ms preprocess, 53.4ms inference, 0.5ms postprocess per image at shape (1, 3, 480, 640)\n",
      "\n",
      "image 1/1 /Users/jacopouggeri/workspace/datathon/datasets/mango/images/test/raw/Raw_Mango_0_6890.jpg: 480x640 1 apple, 1 orange, 47.0ms\n",
      "Speed: 1.3ms preprocess, 47.0ms inference, 0.5ms postprocess per image at shape (1, 3, 480, 640)\n",
      "\n",
      "image 1/1 /Users/jacopouggeri/workspace/datathon/datasets/mango/images/test/raw/Raw_Mango_0_4739.jpg: 480x640 1 banana, 2 apples, 48.1ms\n",
      "Speed: 1.1ms preprocess, 48.1ms inference, 0.5ms postprocess per image at shape (1, 3, 480, 640)\n",
      "\n",
      "image 1/1 /Users/jacopouggeri/workspace/datathon/datasets/mango/images/test/raw/Raw_Mango_0_8261.jpg: 480x640 1 apple, 1 dining table, 55.4ms\n",
      "Speed: 1.1ms preprocess, 55.4ms inference, 0.5ms postprocess per image at shape (1, 3, 480, 640)\n",
      "\n",
      "image 1/1 /Users/jacopouggeri/workspace/datathon/datasets/mango/images/test/raw/Raw_Mango_0_6517.jpg: 480x640 1 laptop, 48.6ms\n",
      "Speed: 1.5ms preprocess, 48.6ms inference, 0.4ms postprocess per image at shape (1, 3, 480, 640)\n",
      "\n",
      "image 1/1 /Users/jacopouggeri/workspace/datathon/datasets/mango/images/test/raw/Raw_Mango_0_4472.jpg: 480x640 1 banana, 1 apple, 61.2ms\n",
      "Speed: 1.4ms preprocess, 61.2ms inference, 0.4ms postprocess per image at shape (1, 3, 480, 640)\n",
      "\n",
      "image 1/1 /Users/jacopouggeri/workspace/datathon/datasets/mango/images/test/raw/Raw_Mango_0_4843.jpg: 480x640 (no detections), 48.6ms\n",
      "Speed: 1.5ms preprocess, 48.6ms inference, 0.3ms postprocess per image at shape (1, 3, 480, 640)\n",
      "\n",
      "image 1/1 /Users/jacopouggeri/workspace/datathon/datasets/mango/images/test/raw/Raw_Mango_0_4857.jpg: 480x640 1 knife, 1 spoon, 1 apple, 47.4ms\n",
      "Speed: 1.4ms preprocess, 47.4ms inference, 0.4ms postprocess per image at shape (1, 3, 480, 640)\n",
      "\n",
      "image 1/1 /Users/jacopouggeri/workspace/datathon/datasets/mango/images/test/raw/Raw_Mango_0_3645.jpg: 480x640 (no detections), 45.8ms\n",
      "Speed: 1.5ms preprocess, 45.8ms inference, 0.2ms postprocess per image at shape (1, 3, 480, 640)\n",
      "\n",
      "image 1/1 /Users/jacopouggeri/workspace/datathon/datasets/mango/images/test/raw/Raw_Mango_0_7557.jpg: 480x640 1 bird, 1 banana, 1 apple, 48.9ms\n",
      "Speed: 1.4ms preprocess, 48.9ms inference, 0.5ms postprocess per image at shape (1, 3, 480, 640)\n",
      "\n",
      "image 1/1 /Users/jacopouggeri/workspace/datathon/datasets/mango/images/test/raw/Raw_Mango_0_2349.jpg: 480x640 1 bird, 1 banana, 50.4ms\n",
      "Speed: 1.3ms preprocess, 50.4ms inference, 0.5ms postprocess per image at shape (1, 3, 480, 640)\n",
      "\n",
      "image 1/1 /Users/jacopouggeri/workspace/datathon/datasets/mango/images/test/raw/Raw_Mango_0_7027.jpg: 480x640 1 apple, 55.8ms\n",
      "Speed: 1.2ms preprocess, 55.8ms inference, 0.9ms postprocess per image at shape (1, 3, 480, 640)\n",
      "\n",
      "image 1/1 /Users/jacopouggeri/workspace/datathon/datasets/mango/images/test/raw/Raw_Mango_0_6467.jpg: 480x640 (no detections), 50.7ms\n",
      "Speed: 1.4ms preprocess, 50.7ms inference, 0.3ms postprocess per image at shape (1, 3, 480, 640)\n",
      "\n",
      "image 1/1 /Users/jacopouggeri/workspace/datathon/datasets/mango/images/test/raw/Raw_Mango_0_5620.jpg: 480x640 1 banana, 1 apple, 52.2ms\n",
      "Speed: 1.6ms preprocess, 52.2ms inference, 0.5ms postprocess per image at shape (1, 3, 480, 640)\n",
      "\n",
      "image 1/1 /Users/jacopouggeri/workspace/datathon/datasets/mango/images/test/raw/Raw_Mango_0_7786.jpg: 480x640 (no detections), 52.5ms\n",
      "Speed: 1.0ms preprocess, 52.5ms inference, 0.3ms postprocess per image at shape (1, 3, 480, 640)\n",
      "\n",
      "image 1/1 /Users/jacopouggeri/workspace/datathon/datasets/mango/images/test/raw/Raw_Mango_0_7355.jpg: 480x640 1 apple, 1 dining table, 51.8ms\n",
      "Speed: 1.1ms preprocess, 51.8ms inference, 0.5ms postprocess per image at shape (1, 3, 480, 640)\n",
      "\n",
      "image 1/1 /Users/jacopouggeri/workspace/datathon/datasets/mango/images/test/raw/Raw_Mango_0_8099.jpg: 480x640 1 sports ball, 1 apple, 1 orange, 48.8ms\n",
      "Speed: 1.2ms preprocess, 48.8ms inference, 0.4ms postprocess per image at shape (1, 3, 480, 640)\n",
      "\n",
      "image 1/1 /Users/jacopouggeri/workspace/datathon/datasets/mango/images/test/raw/Raw_Mango_0_7816.jpg: 480x640 1 apple, 49.8ms\n",
      "Speed: 1.3ms preprocess, 49.8ms inference, 0.5ms postprocess per image at shape (1, 3, 480, 640)\n",
      "\n",
      "image 1/1 /Users/jacopouggeri/workspace/datathon/datasets/mango/images/test/raw/Raw_Mango_0_2947.jpg: 480x640 2 apples, 50.5ms\n",
      "Speed: 1.3ms preprocess, 50.5ms inference, 0.5ms postprocess per image at shape (1, 3, 480, 640)\n",
      "\n",
      "image 1/1 /Users/jacopouggeri/workspace/datathon/datasets/mango/images/test/raw/Raw_Mango_0_7354.jpg: 480x640 (no detections), 49.8ms\n",
      "Speed: 1.2ms preprocess, 49.8ms inference, 0.3ms postprocess per image at shape (1, 3, 480, 640)\n",
      "\n",
      "image 1/1 /Users/jacopouggeri/workspace/datathon/datasets/mango/images/test/raw/Raw_Mango_0_6062.jpg: 480x640 1 person, 1 banana, 50.3ms\n",
      "Speed: 1.4ms preprocess, 50.3ms inference, 0.6ms postprocess per image at shape (1, 3, 480, 640)\n",
      "\n",
      "image 1/1 /Users/jacopouggeri/workspace/datathon/datasets/mango/images/test/raw/Raw_Mango_0_3913.jpg: 480x640 2 persons, 1 banana, 53.7ms\n",
      "Speed: 1.4ms preprocess, 53.7ms inference, 0.5ms postprocess per image at shape (1, 3, 480, 640)\n",
      "\n",
      "image 1/1 /Users/jacopouggeri/workspace/datathon/datasets/mango/images/test/raw/Raw_Mango_0_2833.jpg: 480x640 1 apple, 1 orange, 51.5ms\n",
      "Speed: 1.6ms preprocess, 51.5ms inference, 0.5ms postprocess per image at shape (1, 3, 480, 640)\n",
      "\n",
      "image 1/1 /Users/jacopouggeri/workspace/datathon/datasets/mango/images/test/raw/Raw_Mango_0_7963.jpg: 480x640 2 apples, 50.1ms\n",
      "Speed: 1.6ms preprocess, 50.1ms inference, 0.4ms postprocess per image at shape (1, 3, 480, 640)\n",
      "\n",
      "image 1/1 /Users/jacopouggeri/workspace/datathon/datasets/mango/images/test/raw/Raw_Mango_0_2166.jpg: 480x640 (no detections), 50.0ms\n",
      "Speed: 1.5ms preprocess, 50.0ms inference, 0.4ms postprocess per image at shape (1, 3, 480, 640)\n",
      "\n",
      "image 1/1 /Users/jacopouggeri/workspace/datathon/datasets/mango/images/test/raw/Raw_Mango_0_8449.jpg: 480x640 1 knife, 1 apple, 51.4ms\n",
      "Speed: 1.3ms preprocess, 51.4ms inference, 0.4ms postprocess per image at shape (1, 3, 480, 640)\n",
      "\n",
      "image 1/1 /Users/jacopouggeri/workspace/datathon/datasets/mango/images/test/raw/Raw_Mango_0_6666.jpg: 480x640 1 person, 1 banana, 52.3ms\n",
      "Speed: 1.3ms preprocess, 52.3ms inference, 0.5ms postprocess per image at shape (1, 3, 480, 640)\n",
      "\n",
      "image 1/1 /Users/jacopouggeri/workspace/datathon/datasets/mango/images/test/raw/Raw_Mango_0_3722.jpg: 480x640 1 bench, 1 apple, 1 orange, 49.9ms\n",
      "Speed: 0.8ms preprocess, 49.9ms inference, 0.5ms postprocess per image at shape (1, 3, 480, 640)\n",
      "\n",
      "image 1/1 /Users/jacopouggeri/workspace/datathon/datasets/mango/images/test/raw/Raw_Mango_0_5019.jpg: 480x640 1 sports ball, 1 apple, 53.1ms\n",
      "Speed: 1.1ms preprocess, 53.1ms inference, 0.4ms postprocess per image at shape (1, 3, 480, 640)\n",
      "\n",
      "image 1/1 /Users/jacopouggeri/workspace/datathon/datasets/mango/images/test/raw/Raw_Mango_0_4307.jpg: 480x640 1 apple, 64.4ms\n",
      "Speed: 1.6ms preprocess, 64.4ms inference, 0.4ms postprocess per image at shape (1, 3, 480, 640)\n",
      "\n",
      "image 1/1 /Users/jacopouggeri/workspace/datathon/datasets/mango/images/test/raw/Raw_Mango_0_3483.jpg: 480x640 (no detections), 50.5ms\n",
      "Speed: 1.4ms preprocess, 50.5ms inference, 0.3ms postprocess per image at shape (1, 3, 480, 640)\n",
      "\n",
      "image 1/1 /Users/jacopouggeri/workspace/datathon/datasets/mango/images/test/raw/Raw_Mango_0_4460.jpg: 480x640 1 person, 1 kite, 1 apple, 50.9ms\n",
      "Speed: 1.4ms preprocess, 50.9ms inference, 0.5ms postprocess per image at shape (1, 3, 480, 640)\n",
      "\n",
      "image 1/1 /Users/jacopouggeri/workspace/datathon/datasets/mango/images/test/raw/Raw_Mango_0_3870.jpg: 480x640 3 apples, 47.3ms\n",
      "Speed: 1.5ms preprocess, 47.3ms inference, 0.5ms postprocess per image at shape (1, 3, 480, 640)\n",
      "\n",
      "image 1/1 /Users/jacopouggeri/workspace/datathon/datasets/mango/images/test/raw/Raw_Mango_0_4892.jpg: 480x640 1 knife, 1 spoon, 1 book, 47.9ms\n",
      "Speed: 1.6ms preprocess, 47.9ms inference, 0.5ms postprocess per image at shape (1, 3, 480, 640)\n",
      "\n",
      "image 1/1 /Users/jacopouggeri/workspace/datathon/datasets/mango/images/test/raw/Raw_Mango_0_4138.jpg: 480x640 1 bench, 1 apple, 46.6ms\n",
      "Speed: 1.2ms preprocess, 46.6ms inference, 0.4ms postprocess per image at shape (1, 3, 480, 640)\n",
      "\n",
      "2023-10-21 17:33:46.730 Python[71522:4250983] WARNING: Secure coding is not enabled for restorable state! Enable secure coding by implementing NSApplicationDelegate.applicationSupportsSecureRestorableState: and returning YES.\n",
      "image 1/1 /Users/jacopouggeri/workspace/datathon/datasets/mango/images/test/raw/Raw_Mango_0_6713.jpg: 480x640 1 book, 52.5ms\n",
      "Speed: 1.4ms preprocess, 52.5ms inference, 0.5ms postprocess per image at shape (1, 3, 480, 640)\n",
      "\n",
      "image 1/1 /Users/jacopouggeri/workspace/datathon/datasets/mango/images/test/raw/Raw_Mango_0_6854.jpg: 480x640 1 person, 1 sports ball, 1 banana, 1 apple, 52.5ms\n",
      "Speed: 1.7ms preprocess, 52.5ms inference, 0.5ms postprocess per image at shape (1, 3, 480, 640)\n",
      "\n",
      "image 1/1 /Users/jacopouggeri/workspace/datathon/datasets/mango/images/test/raw/Raw_Mango_0_5636.jpg: 480x640 2 apples, 1 laptop, 48.6ms\n",
      "Speed: 1.2ms preprocess, 48.6ms inference, 0.5ms postprocess per image at shape (1, 3, 480, 640)\n",
      "\n",
      "image 1/1 /Users/jacopouggeri/workspace/datathon/datasets/mango/images/test/raw/Raw_Mango_0_6471.jpg: 480x640 3 apples, 50.1ms\n",
      "Speed: 1.3ms preprocess, 50.1ms inference, 0.4ms postprocess per image at shape (1, 3, 480, 640)\n",
      "\n",
      "image 1/1 /Users/jacopouggeri/workspace/datathon/datasets/mango/images/test/raw/Raw_Mango_0_3509.jpg: 480x640 1 apple, 1 orange, 50.9ms\n",
      "Speed: 1.4ms preprocess, 50.9ms inference, 0.5ms postprocess per image at shape (1, 3, 480, 640)\n",
      "\n",
      "image 1/1 /Users/jacopouggeri/workspace/datathon/datasets/mango/images/test/raw/Raw_Mango_0_2857.jpg: 480x640 1 apple, 1 orange, 47.1ms\n",
      "Speed: 1.7ms preprocess, 47.1ms inference, 0.5ms postprocess per image at shape (1, 3, 480, 640)\n",
      "\n",
      "image 1/1 /Users/jacopouggeri/workspace/datathon/datasets/mango/images/test/raw/Raw_Mango_0_5876.jpg: 480x640 1 apple, 1 orange, 49.9ms\n",
      "Speed: 1.7ms preprocess, 49.9ms inference, 0.5ms postprocess per image at shape (1, 3, 480, 640)\n",
      "\n",
      "image 1/1 /Users/jacopouggeri/workspace/datathon/datasets/mango/images/test/raw/Raw_Mango_0_4995.jpg: 480x640 1 apple, 53.9ms\n",
      "Speed: 1.4ms preprocess, 53.9ms inference, 0.5ms postprocess per image at shape (1, 3, 480, 640)\n",
      "\n",
      "image 1/1 /Users/jacopouggeri/workspace/datathon/datasets/mango/images/test/raw/Raw_Mango_0_4639.jpg: 480x640 1 laptop, 46.7ms\n",
      "Speed: 1.3ms preprocess, 46.7ms inference, 0.4ms postprocess per image at shape (1, 3, 480, 640)\n",
      "\n",
      "image 1/1 /Users/jacopouggeri/workspace/datathon/datasets/mango/images/test/raw/Raw_Mango_0_4374.jpg: 480x640 1 person, 1 banana, 1 apple, 47.0ms\n",
      "Speed: 1.4ms preprocess, 47.0ms inference, 0.4ms postprocess per image at shape (1, 3, 480, 640)\n",
      "\n",
      "image 1/1 /Users/jacopouggeri/workspace/datathon/datasets/mango/images/test/raw/Raw_Mango_0_7669.jpg: 480x640 1 suitcase, 1 spoon, 1 cell phone, 51.5ms\n",
      "Speed: 1.8ms preprocess, 51.5ms inference, 0.6ms postprocess per image at shape (1, 3, 480, 640)\n",
      "\n",
      "image 1/1 /Users/jacopouggeri/workspace/datathon/datasets/mango/images/test/raw/Raw_Mango_0_4406.jpg: 480x640 3 apples, 64.1ms\n",
      "Speed: 1.2ms preprocess, 64.1ms inference, 0.9ms postprocess per image at shape (1, 3, 480, 640)\n",
      "\n",
      "image 1/1 /Users/jacopouggeri/workspace/datathon/datasets/mango/images/test/raw/Raw_Mango_0_3427.jpg: 480x640 1 apple, 1 orange, 56.1ms\n",
      "Speed: 1.1ms preprocess, 56.1ms inference, 0.4ms postprocess per image at shape (1, 3, 480, 640)\n",
      "\n",
      "image 1/1 /Users/jacopouggeri/workspace/datathon/datasets/mango/images/test/raw/Raw_Mango_0_2739.jpg: 480x640 1 apple, 51.6ms\n",
      "Speed: 1.4ms preprocess, 51.6ms inference, 0.5ms postprocess per image at shape (1, 3, 480, 640)\n",
      "\n",
      "image 1/1 /Users/jacopouggeri/workspace/datathon/datasets/mango/images/test/raw/Raw_Mango_0_5283.jpg: 480x640 1 apple, 1 vase, 53.0ms\n",
      "Speed: 0.8ms preprocess, 53.0ms inference, 0.5ms postprocess per image at shape (1, 3, 480, 640)\n",
      "\n",
      "image 1/1 /Users/jacopouggeri/workspace/datathon/datasets/mango/images/test/raw/Raw_Mango_0_6007.jpg: 480x640 1 apple, 51.8ms\n",
      "Speed: 0.8ms preprocess, 51.8ms inference, 0.7ms postprocess per image at shape (1, 3, 480, 640)\n",
      "\n",
      "image 1/1 /Users/jacopouggeri/workspace/datathon/datasets/mango/images/test/raw/Raw_Mango_0_3625.jpg: 480x640 1 person, 1 kite, 1 banana, 52.6ms\n",
      "Speed: 0.9ms preprocess, 52.6ms inference, 0.5ms postprocess per image at shape (1, 3, 480, 640)\n",
      "\n",
      "image 1/1 /Users/jacopouggeri/workspace/datathon/datasets/mango/images/test/raw/Raw_Mango_0_7457.jpg: 480x640 1 person, 1 banana, 1 apple, 48.1ms\n",
      "Speed: 1.6ms preprocess, 48.1ms inference, 0.5ms postprocess per image at shape (1, 3, 480, 640)\n",
      "\n",
      "image 1/1 /Users/jacopouggeri/workspace/datathon/datasets/mango/images/test/raw/Raw_Mango_0_6991.jpg: 480x640 1 apple, 3 books, 51.7ms\n",
      "Speed: 1.4ms preprocess, 51.7ms inference, 0.5ms postprocess per image at shape (1, 3, 480, 640)\n",
      "\n",
      "image 1/1 /Users/jacopouggeri/workspace/datathon/datasets/mango/images/test/raw/Raw_Mango_0_6615.jpg: 480x640 2 ovens, 47.6ms\n",
      "Speed: 0.8ms preprocess, 47.6ms inference, 0.5ms postprocess per image at shape (1, 3, 480, 640)\n",
      "\n",
      "image 1/1 /Users/jacopouggeri/workspace/datathon/datasets/mango/images/test/raw/Raw_Mango_0_2467.jpg: 480x640 1 apple, 52.3ms\n",
      "Speed: 1.2ms preprocess, 52.3ms inference, 0.5ms postprocess per image at shape (1, 3, 480, 640)\n",
      "\n",
      "image 1/1 /Users/jacopouggeri/workspace/datathon/datasets/mango/images/test/raw/Raw_Mango_0_5687.jpg: 480x640 1 apple, 1 dining table, 51.5ms\n",
      "Speed: 1.6ms preprocess, 51.5ms inference, 0.5ms postprocess per image at shape (1, 3, 480, 640)\n",
      "\n",
      "image 1/1 /Users/jacopouggeri/workspace/datathon/datasets/mango/images/test/raw/Raw_Mango_0_4566.jpg: 480x640 1 apple, 49.6ms\n",
      "Speed: 1.4ms preprocess, 49.6ms inference, 0.7ms postprocess per image at shape (1, 3, 480, 640)\n",
      "\n",
      "image 1/1 /Users/jacopouggeri/workspace/datathon/datasets/mango/images/test/raw/Raw_Mango_0_5122.jpg: 480x640 1 sports ball, 2 apples, 1 orange, 52.5ms\n",
      "Speed: 1.3ms preprocess, 52.5ms inference, 0.5ms postprocess per image at shape (1, 3, 480, 640)\n",
      "\n",
      "image 1/1 /Users/jacopouggeri/workspace/datathon/datasets/mango/images/test/raw/Raw_Mango_0_3547.jpg: 480x640 1 apple, 49.4ms\n",
      "Speed: 0.9ms preprocess, 49.4ms inference, 0.5ms postprocess per image at shape (1, 3, 480, 640)\n",
      "\n",
      "image 1/1 /Users/jacopouggeri/workspace/datathon/datasets/mango/images/test/raw/Raw_Mango_0_7721.jpg: 480x640 1 banana, 50.6ms\n",
      "Speed: 1.4ms preprocess, 50.6ms inference, 0.4ms postprocess per image at shape (1, 3, 480, 640)\n",
      "\n",
      "image 1/1 /Users/jacopouggeri/workspace/datathon/datasets/mango/images/test/raw/Raw_Mango_0_2868.jpg: 480x640 1 apple, 49.8ms\n",
      "Speed: 1.3ms preprocess, 49.8ms inference, 0.4ms postprocess per image at shape (1, 3, 480, 640)\n",
      "\n",
      "image 1/1 /Users/jacopouggeri/workspace/datathon/datasets/mango/images/test/raw/Raw_Mango_0_3753.jpg: 480x640 1 banana, 50.7ms\n",
      "Speed: 1.4ms preprocess, 50.7ms inference, 0.4ms postprocess per image at shape (1, 3, 480, 640)\n",
      "\n",
      "image 1/1 /Users/jacopouggeri/workspace/datathon/datasets/mango/images/test/raw/Raw_Mango_0_3948.jpg: 480x640 1 apple, 53.5ms\n",
      "Speed: 0.8ms preprocess, 53.5ms inference, 0.5ms postprocess per image at shape (1, 3, 480, 640)\n",
      "\n",
      "image 1/1 /Users/jacopouggeri/workspace/datathon/datasets/mango/images/test/raw/Raw_Mango_0_7284.jpg: 480x640 (no detections), 51.2ms\n",
      "Speed: 1.7ms preprocess, 51.2ms inference, 0.4ms postprocess per image at shape (1, 3, 480, 640)\n",
      "\n",
      "image 1/1 /Users/jacopouggeri/workspace/datathon/datasets/mango/images/test/raw/Raw_Mango_0_6993.jpg: 480x640 1 apple, 1 dining table, 2 laptops, 56.5ms\n",
      "Speed: 1.0ms preprocess, 56.5ms inference, 0.6ms postprocess per image at shape (1, 3, 480, 640)\n",
      "\n",
      "image 1/1 /Users/jacopouggeri/workspace/datathon/datasets/mango/images/test/raw/Raw_Mango_0_3182.jpg: 480x640 1 banana, 1 apple, 47.1ms\n",
      "Speed: 1.5ms preprocess, 47.1ms inference, 0.5ms postprocess per image at shape (1, 3, 480, 640)\n",
      "\n",
      "image 1/1 /Users/jacopouggeri/workspace/datathon/datasets/mango/images/test/raw/Raw_Mango_0_4376.jpg: 480x640 1 apple, 1 dining table, 51.5ms\n",
      "Speed: 0.9ms preprocess, 51.5ms inference, 0.5ms postprocess per image at shape (1, 3, 480, 640)\n",
      "\n"
     ]
    },
    {
     "ename": "KeyboardInterrupt",
     "evalue": "",
     "output_type": "error",
     "traceback": [
      "\u001b[0;31m---------------------------------------------------------------------------\u001b[0m",
      "\u001b[0;31mKeyboardInterrupt\u001b[0m                         Traceback (most recent call last)",
      "\u001b[1;32m/Users/jacopouggeri/workspace/datathon/YOLO.ipynb Cell 6\u001b[0m line \u001b[0;36m9\n\u001b[1;32m      <a href='vscode-notebook-cell:/Users/jacopouggeri/workspace/datathon/YOLO.ipynb#W6sZmlsZQ%3D%3D?line=6'>7</a>\u001b[0m \u001b[39mfor\u001b[39;00m file \u001b[39min\u001b[39;00m all_files:\n\u001b[1;32m      <a href='vscode-notebook-cell:/Users/jacopouggeri/workspace/datathon/YOLO.ipynb#W6sZmlsZQ%3D%3D?line=7'>8</a>\u001b[0m     f \u001b[39m=\u001b[39m os\u001b[39m.\u001b[39mpath\u001b[39m.\u001b[39mjoin(path, file)\n\u001b[0;32m----> <a href='vscode-notebook-cell:/Users/jacopouggeri/workspace/datathon/YOLO.ipynb#W6sZmlsZQ%3D%3D?line=8'>9</a>\u001b[0m     results \u001b[39m=\u001b[39m model\u001b[39m.\u001b[39;49mpredict(f, show\u001b[39m=\u001b[39;49m\u001b[39mTrue\u001b[39;49;00m)\n",
      "File \u001b[0;32m~/workspace/datathon/.venv/lib/python3.11/site-packages/ultralytics/engine/model.py:242\u001b[0m, in \u001b[0;36mModel.predict\u001b[0;34m(self, source, stream, predictor, **kwargs)\u001b[0m\n\u001b[1;32m    240\u001b[0m \u001b[39mif\u001b[39;00m prompts \u001b[39mand\u001b[39;00m \u001b[39mhasattr\u001b[39m(\u001b[39mself\u001b[39m\u001b[39m.\u001b[39mpredictor, \u001b[39m'\u001b[39m\u001b[39mset_prompts\u001b[39m\u001b[39m'\u001b[39m):  \u001b[39m# for SAM-type models\u001b[39;00m\n\u001b[1;32m    241\u001b[0m     \u001b[39mself\u001b[39m\u001b[39m.\u001b[39mpredictor\u001b[39m.\u001b[39mset_prompts(prompts)\n\u001b[0;32m--> 242\u001b[0m \u001b[39mreturn\u001b[39;00m \u001b[39mself\u001b[39m\u001b[39m.\u001b[39mpredictor\u001b[39m.\u001b[39mpredict_cli(source\u001b[39m=\u001b[39msource) \u001b[39mif\u001b[39;00m is_cli \u001b[39melse\u001b[39;00m \u001b[39mself\u001b[39;49m\u001b[39m.\u001b[39;49mpredictor(source\u001b[39m=\u001b[39;49msource, stream\u001b[39m=\u001b[39;49mstream)\n",
      "File \u001b[0;32m~/workspace/datathon/.venv/lib/python3.11/site-packages/ultralytics/engine/predictor.py:196\u001b[0m, in \u001b[0;36mBasePredictor.__call__\u001b[0;34m(self, source, model, stream, *args, **kwargs)\u001b[0m\n\u001b[1;32m    194\u001b[0m     \u001b[39mreturn\u001b[39;00m \u001b[39mself\u001b[39m\u001b[39m.\u001b[39mstream_inference(source, model, \u001b[39m*\u001b[39margs, \u001b[39m*\u001b[39m\u001b[39m*\u001b[39mkwargs)\n\u001b[1;32m    195\u001b[0m \u001b[39melse\u001b[39;00m:\n\u001b[0;32m--> 196\u001b[0m     \u001b[39mreturn\u001b[39;00m \u001b[39mlist\u001b[39m(\u001b[39mself\u001b[39m\u001b[39m.\u001b[39mstream_inference(source, model, \u001b[39m*\u001b[39margs, \u001b[39m*\u001b[39m\u001b[39m*\u001b[39mkwargs))\n",
      "File \u001b[0;32m~/workspace/datathon/.venv/lib/python3.11/site-packages/torch/utils/_contextlib.py:35\u001b[0m, in \u001b[0;36m_wrap_generator.<locals>.generator_context\u001b[0;34m(*args, **kwargs)\u001b[0m\n\u001b[1;32m     32\u001b[0m \u001b[39mtry\u001b[39;00m:\n\u001b[1;32m     33\u001b[0m     \u001b[39m# Issuing `None` to a generator fires it up\u001b[39;00m\n\u001b[1;32m     34\u001b[0m     \u001b[39mwith\u001b[39;00m ctx_factory():\n\u001b[0;32m---> 35\u001b[0m         response \u001b[39m=\u001b[39m gen\u001b[39m.\u001b[39msend(\u001b[39mNone\u001b[39;00m)\n\u001b[1;32m     37\u001b[0m     \u001b[39mwhile\u001b[39;00m \u001b[39mTrue\u001b[39;00m:\n\u001b[1;32m     38\u001b[0m         \u001b[39mtry\u001b[39;00m:\n\u001b[1;32m     39\u001b[0m             \u001b[39m# Forward the response to our caller and get its next request\u001b[39;00m\n",
      "File \u001b[0;32m~/workspace/datathon/.venv/lib/python3.11/site-packages/ultralytics/engine/predictor.py:282\u001b[0m, in \u001b[0;36mBasePredictor.stream_inference\u001b[0;34m(self, source, model, *args, **kwargs)\u001b[0m\n\u001b[1;32m    280\u001b[0m     \u001b[39mself\u001b[39m\u001b[39m.\u001b[39mresults[i]\u001b[39m.\u001b[39msave_dir \u001b[39m=\u001b[39m \u001b[39mself\u001b[39m\u001b[39m.\u001b[39msave_dir\u001b[39m.\u001b[39m\u001b[39m__str__\u001b[39m()\n\u001b[1;32m    281\u001b[0m \u001b[39mif\u001b[39;00m \u001b[39mself\u001b[39m\u001b[39m.\u001b[39margs\u001b[39m.\u001b[39mshow \u001b[39mand\u001b[39;00m \u001b[39mself\u001b[39m\u001b[39m.\u001b[39mplotted_img \u001b[39mis\u001b[39;00m \u001b[39mnot\u001b[39;00m \u001b[39mNone\u001b[39;00m:\n\u001b[0;32m--> 282\u001b[0m     \u001b[39mself\u001b[39;49m\u001b[39m.\u001b[39;49mshow(p)\n\u001b[1;32m    283\u001b[0m \u001b[39mif\u001b[39;00m \u001b[39mself\u001b[39m\u001b[39m.\u001b[39margs\u001b[39m.\u001b[39msave \u001b[39mand\u001b[39;00m \u001b[39mself\u001b[39m\u001b[39m.\u001b[39mplotted_img \u001b[39mis\u001b[39;00m \u001b[39mnot\u001b[39;00m \u001b[39mNone\u001b[39;00m:\n\u001b[1;32m    284\u001b[0m     \u001b[39mself\u001b[39m\u001b[39m.\u001b[39msave_preds(vid_cap, i, \u001b[39mstr\u001b[39m(\u001b[39mself\u001b[39m\u001b[39m.\u001b[39msave_dir \u001b[39m/\u001b[39m p\u001b[39m.\u001b[39mname))\n",
      "File \u001b[0;32m~/workspace/datathon/.venv/lib/python3.11/site-packages/ultralytics/engine/predictor.py:331\u001b[0m, in \u001b[0;36mBasePredictor.show\u001b[0;34m(self, p)\u001b[0m\n\u001b[1;32m    329\u001b[0m     cv2\u001b[39m.\u001b[39mresizeWindow(\u001b[39mstr\u001b[39m(p), im0\u001b[39m.\u001b[39mshape[\u001b[39m1\u001b[39m], im0\u001b[39m.\u001b[39mshape[\u001b[39m0\u001b[39m])\n\u001b[1;32m    330\u001b[0m cv2\u001b[39m.\u001b[39mimshow(\u001b[39mstr\u001b[39m(p), im0)\n\u001b[0;32m--> 331\u001b[0m cv2\u001b[39m.\u001b[39;49mwaitKey(\u001b[39m500\u001b[39;49m \u001b[39mif\u001b[39;49;00m \u001b[39mself\u001b[39;49m\u001b[39m.\u001b[39;49mbatch[\u001b[39m3\u001b[39;49m]\u001b[39m.\u001b[39;49mstartswith(\u001b[39m'\u001b[39;49m\u001b[39mimage\u001b[39;49m\u001b[39m'\u001b[39;49m) \u001b[39melse\u001b[39;49;00m \u001b[39m1\u001b[39;49m)\n",
      "\u001b[0;31mKeyboardInterrupt\u001b[0m: "
     ]
    },
    {
     "ename": "",
     "evalue": "",
     "output_type": "error",
     "traceback": [
      "\u001b[1;31mThe Kernel crashed while executing code in the the current cell or a previous cell. Please review the code in the cell(s) to identify a possible cause of the failure. Click <a href='https://aka.ms/vscodeJupyterKernelCrash'>here</a> for more info. View Jupyter <a href='command:jupyter.viewOutput'>log</a> for further details."
     ]
    }
   ],
   "source": [
    "import os\n",
    "\n",
    "path = \"datasets/mango/images/test/raw\"\n",
    "\n",
    "# List all files in the directory\n",
    "all_files = [f for f in os.listdir(path) if os.path.isfile(os.path.join(path, f))]\n",
    "for file in all_files:\n",
    "    f = os.path.join(path, file)\n",
    "    results = model.predict(f, show=True)\n"
   ]
  },
  {
   "cell_type": "code",
   "execution_count": 14,
   "metadata": {},
   "outputs": [
    {
     "name": "stderr",
     "output_type": "stream",
     "text": [
      "\n",
      "0: 480x640 3 apples, 68.6ms\n",
      "Speed: 3.2ms preprocess, 68.6ms inference, 1.2ms postprocess per image at shape (1, 3, 480, 640)\n",
      "\n",
      "0: 480x640 1 banana, 2 apples, 77.6ms\n",
      "Speed: 1.0ms preprocess, 77.6ms inference, 0.6ms postprocess per image at shape (1, 3, 480, 640)\n",
      "\n",
      "0: 480x640 2 apples, 47.0ms\n",
      "Speed: 0.8ms preprocess, 47.0ms inference, 0.5ms postprocess per image at shape (1, 3, 480, 640)\n",
      "\n",
      "0: 480x640 1 apple, 48.7ms\n",
      "Speed: 0.9ms preprocess, 48.7ms inference, 0.6ms postprocess per image at shape (1, 3, 480, 640)\n",
      "\n",
      "0: 480x640 1 banana, 48.4ms\n",
      "Speed: 0.8ms preprocess, 48.4ms inference, 0.5ms postprocess per image at shape (1, 3, 480, 640)\n",
      "\n",
      "0: 480x640 1 airplane, 1 apple, 49.9ms\n",
      "Speed: 0.9ms preprocess, 49.9ms inference, 0.6ms postprocess per image at shape (1, 3, 480, 640)\n",
      "\n",
      "0: 480x640 2 persons, 1 apple, 47.4ms\n",
      "Speed: 0.8ms preprocess, 47.4ms inference, 0.4ms postprocess per image at shape (1, 3, 480, 640)\n",
      "\n",
      "0: 480x640 1 apple, 48.4ms\n",
      "Speed: 1.0ms preprocess, 48.4ms inference, 0.5ms postprocess per image at shape (1, 3, 480, 640)\n",
      "\n"
     ]
    },
    {
     "name": "stdout",
     "output_type": "stream",
     "text": [
      "Skipping Raw_Mango.5cd89066-ebdb-11ed-817f-346f24e2fa38.jpg due to low confidence.\n"
     ]
    },
    {
     "name": "stderr",
     "output_type": "stream",
     "text": [
      "0: 480x640 1 apple, 50.6ms\n",
      "Speed: 0.9ms preprocess, 50.6ms inference, 0.7ms postprocess per image at shape (1, 3, 480, 640)\n",
      "\n",
      "0: 480x640 1 suitcase, 1 cake, 49.9ms\n",
      "Speed: 0.9ms preprocess, 49.9ms inference, 0.4ms postprocess per image at shape (1, 3, 480, 640)\n",
      "\n",
      "0: 480x640 2 laptops, 49.0ms\n",
      "Speed: 1.0ms preprocess, 49.0ms inference, 0.7ms postprocess per image at shape (1, 3, 480, 640)\n",
      "\n",
      "0: 480x640 2 apples, 1 mouse, 54.6ms\n",
      "Speed: 0.8ms preprocess, 54.6ms inference, 0.5ms postprocess per image at shape (1, 3, 480, 640)\n",
      "\n",
      "0: 480x640 1 apple, 49.9ms\n",
      "Speed: 0.8ms preprocess, 49.9ms inference, 0.5ms postprocess per image at shape (1, 3, 480, 640)\n",
      "\n"
     ]
    },
    {
     "name": "stdout",
     "output_type": "stream",
     "text": [
      "Skipping Raw_Mango.66e90fee-ebd0-11ed-a6cf-346f24e2fa38.jpg due to low confidence.\n"
     ]
    },
    {
     "name": "stderr",
     "output_type": "stream",
     "text": [
      "0: 480x640 1 apple, 52.5ms\n",
      "Speed: 0.9ms preprocess, 52.5ms inference, 0.5ms postprocess per image at shape (1, 3, 480, 640)\n",
      "\n",
      "0: 480x640 2 apples, 51.3ms\n",
      "Speed: 0.9ms preprocess, 51.3ms inference, 0.5ms postprocess per image at shape (1, 3, 480, 640)\n",
      "\n",
      "0: 480x640 1 surfboard, 1 apple, 1 dining table, 2 laptops, 48.6ms\n",
      "Speed: 0.8ms preprocess, 48.6ms inference, 0.4ms postprocess per image at shape (1, 3, 480, 640)\n",
      "\n",
      "0: 480x640 1 banana, 2 apples, 1 orange, 50.0ms\n",
      "Speed: 0.7ms preprocess, 50.0ms inference, 0.5ms postprocess per image at shape (1, 3, 480, 640)\n",
      "\n",
      "0: 480x640 2 apples, 52.2ms\n",
      "Speed: 1.0ms preprocess, 52.2ms inference, 0.5ms postprocess per image at shape (1, 3, 480, 640)\n",
      "\n",
      "0: 480x640 1 person, 1 apple, 50.3ms\n",
      "Speed: 0.8ms preprocess, 50.3ms inference, 0.5ms postprocess per image at shape (1, 3, 480, 640)\n",
      "\n",
      "0: 480x640 1 apple, 52.4ms\n",
      "Speed: 1.1ms preprocess, 52.4ms inference, 0.7ms postprocess per image at shape (1, 3, 480, 640)\n",
      "\n",
      "0: 480x640 1 banana, 3 apples, 69.1ms\n",
      "Speed: 1.0ms preprocess, 69.1ms inference, 0.6ms postprocess per image at shape (1, 3, 480, 640)\n",
      "\n",
      "0: 480x640 1 banana, 2 apples, 56.0ms\n",
      "Speed: 0.8ms preprocess, 56.0ms inference, 0.5ms postprocess per image at shape (1, 3, 480, 640)\n"
     ]
    },
    {
     "name": "stdout",
     "output_type": "stream",
     "text": [
      "Skipping Raw_Mango.9339ad56-ebcf-11ed-86a6-346f24e2fa38.jpg due to low confidence.\n",
      "Skipping Raw_Mango.5618b003-ebd0-11ed-8711-346f24e2fa38.jpg due to low confidence.\n"
     ]
    },
    {
     "name": "stderr",
     "output_type": "stream",
     "text": [
      "\n",
      "0: 480x640 2 apples, 55.0ms\n",
      "Speed: 1.1ms preprocess, 55.0ms inference, 0.5ms postprocess per image at shape (1, 3, 480, 640)\n",
      "\n",
      "0: 480x640 1 knife, 51.0ms\n",
      "Speed: 1.0ms preprocess, 51.0ms inference, 0.4ms postprocess per image at shape (1, 3, 480, 640)\n",
      "\n",
      "0: 480x640 1 sports ball, 3 apples, 51.2ms\n",
      "Speed: 1.0ms preprocess, 51.2ms inference, 0.5ms postprocess per image at shape (1, 3, 480, 640)\n",
      "\n",
      "0: 480x640 1 apple, 54.1ms\n",
      "Speed: 0.9ms preprocess, 54.1ms inference, 0.5ms postprocess per image at shape (1, 3, 480, 640)\n",
      "\n",
      "0: 480x640 1 banana, 1 apple, 1 laptop, 52.1ms\n",
      "Speed: 1.0ms preprocess, 52.1ms inference, 0.5ms postprocess per image at shape (1, 3, 480, 640)\n",
      "\n"
     ]
    },
    {
     "name": "stdout",
     "output_type": "stream",
     "text": [
      "Skipping Raw_Mango.19b01cd1-ebe8-11ed-b6b9-346f24e2fa38.jpg due to low confidence.\n",
      "Skipping Raw_Mango.2b7e28ef-ebdb-11ed-a1c7-346f24e2fa38.jpg due to low confidence.\n",
      "Skipping Raw_Mango.4128d43c-ebdb-11ed-a949-346f24e2fa38.jpg due to low confidence.\n"
     ]
    },
    {
     "name": "stderr",
     "output_type": "stream",
     "text": [
      "0: 480x640 2 knifes, 53.8ms\n",
      "Speed: 0.9ms preprocess, 53.8ms inference, 0.8ms postprocess per image at shape (1, 3, 480, 640)\n",
      "\n",
      "0: 480x640 1 apple, 50.2ms\n",
      "Speed: 1.0ms preprocess, 50.2ms inference, 1.1ms postprocess per image at shape (1, 3, 480, 640)\n",
      "\n",
      "0: 480x640 2 apples, 1 orange, 52.0ms\n",
      "Speed: 1.0ms preprocess, 52.0ms inference, 0.5ms postprocess per image at shape (1, 3, 480, 640)\n",
      "\n",
      "0: 480x640 1 banana, 1 laptop, 1 keyboard, 52.8ms\n",
      "Speed: 1.4ms preprocess, 52.8ms inference, 0.5ms postprocess per image at shape (1, 3, 480, 640)\n",
      "\n"
     ]
    },
    {
     "name": "stdout",
     "output_type": "stream",
     "text": [
      "Skipping Raw_Mango.886ce72d-ebe8-11ed-ba68-346f24e2fa38.jpg due to low confidence.\n"
     ]
    },
    {
     "name": "stderr",
     "output_type": "stream",
     "text": [
      "0: 480x640 1 apple, 1 laptop, 53.5ms\n",
      "Speed: 1.1ms preprocess, 53.5ms inference, 0.5ms postprocess per image at shape (1, 3, 480, 640)\n",
      "\n",
      "0: 480x640 1 snowboard, 2 apples, 53.9ms\n",
      "Speed: 0.9ms preprocess, 53.9ms inference, 0.5ms postprocess per image at shape (1, 3, 480, 640)\n",
      "\n",
      "0: 480x640 1 apple, 2 vases, 51.0ms\n",
      "Speed: 0.9ms preprocess, 51.0ms inference, 0.9ms postprocess per image at shape (1, 3, 480, 640)\n",
      "\n",
      "0: 480x640 1 banana, 2 apples, 51.5ms\n",
      "Speed: 0.9ms preprocess, 51.5ms inference, 0.5ms postprocess per image at shape (1, 3, 480, 640)\n",
      "\n",
      "0: 480x640 2 apples, 67.9ms\n",
      "Speed: 1.0ms preprocess, 67.9ms inference, 0.5ms postprocess per image at shape (1, 3, 480, 640)\n",
      "\n",
      "0: 480x640 1 frisbee, 1 banana, 1 apple, 53.4ms\n",
      "Speed: 1.0ms preprocess, 53.4ms inference, 0.5ms postprocess per image at shape (1, 3, 480, 640)\n",
      "\n",
      "0: 480x640 1 apple, 1 laptop, 49.2ms\n",
      "Speed: 1.0ms preprocess, 49.2ms inference, 0.4ms postprocess per image at shape (1, 3, 480, 640)\n",
      "\n",
      "0: 480x640 1 person, 1 sports ball, 53.9ms\n",
      "Speed: 0.8ms preprocess, 53.9ms inference, 0.5ms postprocess per image at shape (1, 3, 480, 640)\n",
      "\n",
      "0: 480x640 2 apples, 54.4ms\n",
      "Speed: 0.8ms preprocess, 54.4ms inference, 0.8ms postprocess per image at shape (1, 3, 480, 640)\n",
      "\n",
      "0: 480x640 2 persons, 3 apples, 1 carrot, 1 dining table, 54.2ms\n",
      "Speed: 1.1ms preprocess, 54.2ms inference, 0.5ms postprocess per image at shape (1, 3, 480, 640)\n",
      "\n",
      "0: 480x640 1 person, 1 apple, 53.8ms\n",
      "Speed: 1.1ms preprocess, 53.8ms inference, 0.5ms postprocess per image at shape (1, 3, 480, 640)\n",
      "\n",
      "0: 480x640 1 bench, 1 apple, 1 laptop, 50.5ms\n",
      "Speed: 1.6ms preprocess, 50.5ms inference, 0.7ms postprocess per image at shape (1, 3, 480, 640)\n",
      "\n",
      "0: 480x640 1 person, 52.3ms\n",
      "Speed: 0.8ms preprocess, 52.3ms inference, 0.7ms postprocess per image at shape (1, 3, 480, 640)\n",
      "\n"
     ]
    },
    {
     "name": "stdout",
     "output_type": "stream",
     "text": [
      "Skipping Raw_Mango.59b1d584-ebd0-11ed-9dcc-346f24e2fa38.jpg due to low confidence.\n",
      "Skipping Raw_Mango.681b939d-ebd0-11ed-bfde-346f24e2fa38.jpg due to low confidence.\n"
     ]
    },
    {
     "name": "stderr",
     "output_type": "stream",
     "text": [
      "0: 480x640 2 apples, 1 orange, 60.5ms\n",
      "Speed: 0.9ms preprocess, 60.5ms inference, 0.8ms postprocess per image at shape (1, 3, 480, 640)\n",
      "\n",
      "0: 480x640 1 apple, 2 laptops, 58.6ms\n",
      "Speed: 1.0ms preprocess, 58.6ms inference, 0.7ms postprocess per image at shape (1, 3, 480, 640)\n",
      "\n",
      "0: 480x640 1 bench, 1 apple, 1 orange, 51.3ms\n",
      "Speed: 1.0ms preprocess, 51.3ms inference, 0.7ms postprocess per image at shape (1, 3, 480, 640)\n",
      "\n",
      "0: 480x640 1 knife, 1 apple, 52.8ms\n",
      "Speed: 0.9ms preprocess, 52.8ms inference, 0.5ms postprocess per image at shape (1, 3, 480, 640)\n",
      "\n",
      "0: 480x640 1 apple, 59.0ms\n",
      "Speed: 1.1ms preprocess, 59.0ms inference, 0.6ms postprocess per image at shape (1, 3, 480, 640)\n",
      "\n",
      "0: 480x640 1 person, 1 sports ball, 56.0ms\n",
      "Speed: 0.9ms preprocess, 56.0ms inference, 0.5ms postprocess per image at shape (1, 3, 480, 640)\n",
      "\n",
      "0: 480x640 1 apple, 52.0ms\n",
      "Speed: 0.9ms preprocess, 52.0ms inference, 1.1ms postprocess per image at shape (1, 3, 480, 640)\n",
      "\n",
      "0: 480x640 1 knife, 1 bowl, 1 banana, 1 apple, 1 dining table, 57.3ms\n",
      "Speed: 0.9ms preprocess, 57.3ms inference, 0.5ms postprocess per image at shape (1, 3, 480, 640)\n",
      "\n"
     ]
    },
    {
     "name": "stdout",
     "output_type": "stream",
     "text": [
      "Skipping Raw_Mango.fc99a24e-eb54-11ed-8d10-088fc3734c75.jpg due to low confidence.\n"
     ]
    },
    {
     "name": "stderr",
     "output_type": "stream",
     "text": [
      "0: 480x640 2 apples, 53.2ms\n",
      "Speed: 1.0ms preprocess, 53.2ms inference, 0.7ms postprocess per image at shape (1, 3, 480, 640)\n",
      "\n",
      "0: 480x640 1 knife, 1 apple, 72.0ms\n",
      "Speed: 1.0ms preprocess, 72.0ms inference, 0.4ms postprocess per image at shape (1, 3, 480, 640)\n",
      "\n",
      "0: 480x640 1 apple, 48.6ms\n",
      "Speed: 1.0ms preprocess, 48.6ms inference, 0.4ms postprocess per image at shape (1, 3, 480, 640)\n",
      "\n",
      "0: 480x640 1 person, 1 apple, 1 dining table, 53.6ms\n",
      "Speed: 0.9ms preprocess, 53.6ms inference, 0.5ms postprocess per image at shape (1, 3, 480, 640)\n",
      "\n",
      "0: 480x640 2 persons, 1 banana, 1 apple, 57.8ms\n",
      "Speed: 0.8ms preprocess, 57.8ms inference, 0.5ms postprocess per image at shape (1, 3, 480, 640)\n",
      "\n",
      "0: 480x640 1 person, 1 apple, 56.6ms\n",
      "Speed: 0.9ms preprocess, 56.6ms inference, 0.5ms postprocess per image at shape (1, 3, 480, 640)\n",
      "\n",
      "0: 480x640 1 laptop, 1 keyboard, 57.3ms\n",
      "Speed: 1.0ms preprocess, 57.3ms inference, 0.5ms postprocess per image at shape (1, 3, 480, 640)\n",
      "\n",
      "0: 480x640 1 banana, 1 apple, 48.8ms\n",
      "Speed: 1.0ms preprocess, 48.8ms inference, 0.4ms postprocess per image at shape (1, 3, 480, 640)\n",
      "\n",
      "0: 480x640 2 apples, 1 dining table, 48.0ms\n",
      "Speed: 0.9ms preprocess, 48.0ms inference, 0.5ms postprocess per image at shape (1, 3, 480, 640)\n",
      "\n",
      "0: 480x640 1 apple, 49.0ms\n",
      "Speed: 1.0ms preprocess, 49.0ms inference, 0.5ms postprocess per image at shape (1, 3, 480, 640)\n",
      "\n"
     ]
    },
    {
     "name": "stdout",
     "output_type": "stream",
     "text": [
      "Skipping Raw_Mango.24870d32-ebe8-11ed-8627-346f24e2fa38.jpg due to low confidence.\n",
      "Skipping Raw_Mango.04462284-ebd0-11ed-9cdc-346f24e2fa38.jpg due to low confidence.\n"
     ]
    },
    {
     "name": "stderr",
     "output_type": "stream",
     "text": [
      "0: 480x640 1 apple, 48.3ms\n",
      "Speed: 0.8ms preprocess, 48.3ms inference, 0.5ms postprocess per image at shape (1, 3, 480, 640)\n",
      "\n",
      "0: 480x640 1 train, 1 banana, 49.9ms\n",
      "Speed: 1.0ms preprocess, 49.9ms inference, 0.5ms postprocess per image at shape (1, 3, 480, 640)\n",
      "\n",
      "0: 480x640 (no detections), 47.0ms\n",
      "Speed: 1.1ms preprocess, 47.0ms inference, 0.4ms postprocess per image at shape (1, 3, 480, 640)\n",
      "\n",
      "0: 480x640 1 person, 47.4ms\n",
      "Speed: 0.8ms preprocess, 47.4ms inference, 0.4ms postprocess per image at shape (1, 3, 480, 640)\n",
      "\n",
      "0: 480x640 2 apples, 1 orange, 47.9ms\n",
      "Speed: 0.8ms preprocess, 47.9ms inference, 0.9ms postprocess per image at shape (1, 3, 480, 640)\n",
      "\n"
     ]
    },
    {
     "name": "stdout",
     "output_type": "stream",
     "text": [
      "Skipping Raw_Mango.0f1d5d10-ebd0-11ed-8861-346f24e2fa38.jpg due to low confidence.\n",
      "Skipping Raw_Mango.3092a870-ebe8-11ed-a15e-346f24e2fa38.jpg due to no detection.\n"
     ]
    },
    {
     "name": "stderr",
     "output_type": "stream",
     "text": [
      "0: 480x640 1 fire hydrant, 1 apple, 54.2ms\n",
      "Speed: 1.3ms preprocess, 54.2ms inference, 0.5ms postprocess per image at shape (1, 3, 480, 640)\n",
      "\n",
      "0: 480x640 1 bench, 1 apple, 2 laptops, 53.8ms\n",
      "Speed: 0.8ms preprocess, 53.8ms inference, 0.8ms postprocess per image at shape (1, 3, 480, 640)\n",
      "\n",
      "0: 480x640 2 apples, 1 scissors, 47.6ms\n",
      "Speed: 1.2ms preprocess, 47.6ms inference, 0.8ms postprocess per image at shape (1, 3, 480, 640)\n",
      "\n",
      "0: 480x640 1 bench, 1 apple, 2 laptops, 48.8ms\n",
      "Speed: 0.8ms preprocess, 48.8ms inference, 0.9ms postprocess per image at shape (1, 3, 480, 640)\n",
      "\n",
      "0: 480x640 2 apples, 65.0ms\n",
      "Speed: 0.9ms preprocess, 65.0ms inference, 0.5ms postprocess per image at shape (1, 3, 480, 640)\n",
      "\n",
      "0: 480x640 1 surfboard, 46.8ms\n",
      "Speed: 0.8ms preprocess, 46.8ms inference, 0.4ms postprocess per image at shape (1, 3, 480, 640)\n",
      "\n"
     ]
    },
    {
     "name": "stdout",
     "output_type": "stream",
     "text": [
      "Skipping Raw_Mango.cf994332-ebd0-11ed-9b17-346f24e2fa38.jpg due to low confidence.\n",
      "Skipping Raw_Mango.2f5dba1d-ebe8-11ed-b52e-346f24e2fa38.jpg due to low confidence.\n"
     ]
    },
    {
     "name": "stderr",
     "output_type": "stream",
     "text": [
      "0: 480x640 (no detections), 53.7ms\n",
      "Speed: 0.9ms preprocess, 53.7ms inference, 0.7ms postprocess per image at shape (1, 3, 480, 640)\n",
      "\n",
      "0: 480x640 1 sports ball, 1 banana, 1 apple, 51.5ms\n",
      "Speed: 1.2ms preprocess, 51.5ms inference, 0.7ms postprocess per image at shape (1, 3, 480, 640)\n",
      "\n",
      "0: 480x640 2 apples, 51.0ms\n",
      "Speed: 0.9ms preprocess, 51.0ms inference, 0.5ms postprocess per image at shape (1, 3, 480, 640)\n",
      "\n",
      "0: 480x640 1 apple, 51.3ms\n",
      "Speed: 1.0ms preprocess, 51.3ms inference, 0.5ms postprocess per image at shape (1, 3, 480, 640)\n",
      "\n"
     ]
    },
    {
     "name": "stdout",
     "output_type": "stream",
     "text": [
      "Skipping Raw_Mango.89a1f291-ebe8-11ed-9204-346f24e2fa38.jpg due to no detection.\n",
      "Skipping Raw_Mango_0_9.jpg due to low confidence.\n"
     ]
    },
    {
     "name": "stderr",
     "output_type": "stream",
     "text": [
      "0: 480x640 1 sports ball, 50.7ms\n",
      "Speed: 1.4ms preprocess, 50.7ms inference, 0.5ms postprocess per image at shape (1, 3, 480, 640)\n",
      "\n",
      "0: 480x640 2 parking meters, 1 apple, 1 toilet, 1 vase, 53.7ms\n",
      "Speed: 0.8ms preprocess, 53.7ms inference, 0.5ms postprocess per image at shape (1, 3, 480, 640)\n",
      "\n",
      "0: 480x640 1 person, 1 laptop, 1 mouse, 52.6ms\n",
      "Speed: 0.9ms preprocess, 52.6ms inference, 0.6ms postprocess per image at shape (1, 3, 480, 640)\n",
      "\n",
      "0: 480x640 1 banana, 2 apples, 52.9ms\n",
      "Speed: 0.9ms preprocess, 52.9ms inference, 0.6ms postprocess per image at shape (1, 3, 480, 640)\n",
      "\n",
      "0: 480x640 1 sports ball, 1 apple, 53.6ms\n",
      "Speed: 0.8ms preprocess, 53.6ms inference, 0.5ms postprocess per image at shape (1, 3, 480, 640)\n",
      "\n"
     ]
    },
    {
     "name": "stdout",
     "output_type": "stream",
     "text": [
      "Skipping Raw_Mango.e0e75213-ebda-11ed-916f-346f24e2fa38.jpg due to low confidence.\n",
      "Skipping Raw_Mango.2cb11d57-ebdb-11ed-8ef2-346f24e2fa38.jpg due to low confidence.\n"
     ]
    },
    {
     "name": "stderr",
     "output_type": "stream",
     "text": [
      "0: 480x640 1 person, 1 sports ball, 53.8ms\n",
      "Speed: 1.2ms preprocess, 53.8ms inference, 0.7ms postprocess per image at shape (1, 3, 480, 640)\n",
      "\n",
      "0: 480x640 2 apples, 55.8ms\n",
      "Speed: 1.0ms preprocess, 55.8ms inference, 0.5ms postprocess per image at shape (1, 3, 480, 640)\n",
      "\n",
      "0: 480x640 1 knife, 50.0ms\n",
      "Speed: 1.4ms preprocess, 50.0ms inference, 0.4ms postprocess per image at shape (1, 3, 480, 640)\n",
      "\n",
      "0: 480x640 1 banana, 2 apples, 67.3ms\n",
      "Speed: 1.2ms preprocess, 67.3ms inference, 0.6ms postprocess per image at shape (1, 3, 480, 640)\n",
      "\n",
      "0: 480x640 1 person, 1 knife, 1 apple, 1 laptop, 51.2ms\n",
      "Speed: 0.8ms preprocess, 51.2ms inference, 0.4ms postprocess per image at shape (1, 3, 480, 640)\n",
      "\n",
      "0: 480x640 1 bench, 1 knife, 1 spoon, 1 laptop, 55.0ms\n",
      "Speed: 0.9ms preprocess, 55.0ms inference, 0.6ms postprocess per image at shape (1, 3, 480, 640)\n"
     ]
    },
    {
     "name": "stdout",
     "output_type": "stream",
     "text": [
      "Skipping Raw_Mango.c1d92e24-ebe7-11ed-b4d1-346f24e2fa38.jpg due to low confidence.\n"
     ]
    },
    {
     "name": "stderr",
     "output_type": "stream",
     "text": [
      "\n",
      "0: 480x640 (no detections), 60.0ms\n",
      "Speed: 1.1ms preprocess, 60.0ms inference, 0.3ms postprocess per image at shape (1, 3, 480, 640)\n",
      "\n",
      "0: 480x640 1 umbrella, 1 apple, 59.2ms\n",
      "Speed: 1.2ms preprocess, 59.2ms inference, 0.6ms postprocess per image at shape (1, 3, 480, 640)\n",
      "\n",
      "0: 480x640 1 apple, 58.1ms\n",
      "Speed: 1.0ms preprocess, 58.1ms inference, 0.4ms postprocess per image at shape (1, 3, 480, 640)\n",
      "\n",
      "0: 480x640 1 person, 1 skateboard, 1 apple, 1 orange, 52.0ms\n",
      "Speed: 1.5ms preprocess, 52.0ms inference, 0.5ms postprocess per image at shape (1, 3, 480, 640)\n",
      "\n"
     ]
    },
    {
     "name": "stdout",
     "output_type": "stream",
     "text": [
      "Skipping Raw_Mango_0_1084.jpg due to no detection.\n",
      "Skipping Raw_Mango.5376dc21-ebe8-11ed-bf5d-346f24e2fa38.jpg due to low confidence.\n"
     ]
    },
    {
     "name": "stderr",
     "output_type": "stream",
     "text": [
      "0: 480x640 1 apple, 51.4ms\n",
      "Speed: 0.9ms preprocess, 51.4ms inference, 0.5ms postprocess per image at shape (1, 3, 480, 640)\n",
      "\n",
      "0: 480x640 1 person, 1 dog, 1 laptop, 51.5ms\n",
      "Speed: 0.9ms preprocess, 51.5ms inference, 0.5ms postprocess per image at shape (1, 3, 480, 640)\n",
      "\n",
      "0: 480x640 1 person, 1 bench, 1 laptop, 50.2ms\n",
      "Speed: 1.3ms preprocess, 50.2ms inference, 0.5ms postprocess per image at shape (1, 3, 480, 640)\n",
      "\n",
      "0: 480x640 1 apple, 52.3ms\n",
      "Speed: 1.1ms preprocess, 52.3ms inference, 0.5ms postprocess per image at shape (1, 3, 480, 640)\n",
      "\n",
      "0: 480x640 1 apple, 50.8ms\n",
      "Speed: 0.8ms preprocess, 50.8ms inference, 0.4ms postprocess per image at shape (1, 3, 480, 640)\n",
      "\n",
      "0: 480x640 1 banana, 3 apples, 47.8ms\n",
      "Speed: 0.9ms preprocess, 47.8ms inference, 0.5ms postprocess per image at shape (1, 3, 480, 640)\n",
      "\n",
      "0: 480x640 1 apple, 1 dining table, 52.5ms\n",
      "Speed: 0.8ms preprocess, 52.5ms inference, 0.5ms postprocess per image at shape (1, 3, 480, 640)\n",
      "\n",
      "0: 480x640 2 apples, 53.3ms\n",
      "Speed: 0.7ms preprocess, 53.3ms inference, 0.5ms postprocess per image at shape (1, 3, 480, 640)\n",
      "\n",
      "0: 480x640 1 person, 1 banana, 2 apples, 48.0ms\n",
      "Speed: 0.9ms preprocess, 48.0ms inference, 0.4ms postprocess per image at shape (1, 3, 480, 640)\n",
      "\n",
      "0: 480x640 1 bench, 1 apple, 1 laptop, 50.6ms\n",
      "Speed: 1.1ms preprocess, 50.6ms inference, 0.6ms postprocess per image at shape (1, 3, 480, 640)\n",
      "\n"
     ]
    },
    {
     "name": "stdout",
     "output_type": "stream",
     "text": [
      "Skipping Raw_Mango.7dc677dd-ebd0-11ed-aeff-346f24e2fa38.jpg due to low confidence.\n",
      "Skipping Raw_Mango.ff75245b-ebcf-11ed-a752-346f24e2fa38.jpg due to low confidence.\n"
     ]
    },
    {
     "name": "stderr",
     "output_type": "stream",
     "text": [
      "0: 480x640 3 apples, 1 dining table, 69.7ms\n",
      "Speed: 1.2ms preprocess, 69.7ms inference, 0.5ms postprocess per image at shape (1, 3, 480, 640)\n",
      "\n",
      "0: 480x640 1 knife, 1 cell phone, 50.2ms\n",
      "Speed: 0.8ms preprocess, 50.2ms inference, 0.5ms postprocess per image at shape (1, 3, 480, 640)\n",
      "\n",
      "0: 480x640 1 apple, 47.8ms\n",
      "Speed: 0.8ms preprocess, 47.8ms inference, 0.5ms postprocess per image at shape (1, 3, 480, 640)\n",
      "\n",
      "0: 480x640 1 sports ball, 2 apples, 51.9ms\n",
      "Speed: 0.8ms preprocess, 51.9ms inference, 0.8ms postprocess per image at shape (1, 3, 480, 640)\n",
      "\n"
     ]
    },
    {
     "name": "stdout",
     "output_type": "stream",
     "text": [
      "Skipping Raw_Mango.71bd750c-ebd0-11ed-8ac5-346f24e2fa38.jpg due to low confidence.\n",
      "Skipping Raw_Mango.7190275c-ebe8-11ed-9aa7-346f24e2fa38.jpg due to low confidence.\n"
     ]
    },
    {
     "name": "stderr",
     "output_type": "stream",
     "text": [
      "0: 480x640 1 apple, 52.2ms\n",
      "Speed: 1.0ms preprocess, 52.2ms inference, 0.4ms postprocess per image at shape (1, 3, 480, 640)\n",
      "\n",
      "0: 480x640 1 apple, 49.4ms\n",
      "Speed: 0.9ms preprocess, 49.4ms inference, 0.5ms postprocess per image at shape (1, 3, 480, 640)\n",
      "\n",
      "0: 480x640 1 person, 1 apple, 48.2ms\n",
      "Speed: 0.8ms preprocess, 48.2ms inference, 0.6ms postprocess per image at shape (1, 3, 480, 640)\n",
      "\n",
      "0: 480x640 2 bananas, 49.4ms\n",
      "Speed: 0.8ms preprocess, 49.4ms inference, 0.6ms postprocess per image at shape (1, 3, 480, 640)\n",
      "\n",
      "0: 480x640 1 person, 1 sports ball, 49.6ms\n",
      "Speed: 0.8ms preprocess, 49.6ms inference, 0.9ms postprocess per image at shape (1, 3, 480, 640)\n",
      "\n",
      "0: 480x640 1 apple, 1 orange, 48.7ms\n",
      "Speed: 0.9ms preprocess, 48.7ms inference, 0.5ms postprocess per image at shape (1, 3, 480, 640)\n",
      "\n",
      "0: 480x640 1 apple, 49.1ms\n",
      "Speed: 0.9ms preprocess, 49.1ms inference, 0.5ms postprocess per image at shape (1, 3, 480, 640)\n",
      "\n"
     ]
    },
    {
     "name": "stdout",
     "output_type": "stream",
     "text": [
      "Skipping Raw_Mango.d77f4ee1-ebe7-11ed-be95-346f24e2fa38.jpg due to low confidence.\n"
     ]
    },
    {
     "name": "stderr",
     "output_type": "stream",
     "text": [
      "0: 480x640 1 banana, 2 apples, 50.3ms\n",
      "Speed: 0.8ms preprocess, 50.3ms inference, 0.6ms postprocess per image at shape (1, 3, 480, 640)\n",
      "\n",
      "0: 480x640 1 apple, 50.5ms\n",
      "Speed: 0.9ms preprocess, 50.5ms inference, 0.5ms postprocess per image at shape (1, 3, 480, 640)\n",
      "\n",
      "0: 480x640 1 person, 1 sports ball, 49.2ms\n",
      "Speed: 1.0ms preprocess, 49.2ms inference, 0.5ms postprocess per image at shape (1, 3, 480, 640)\n",
      "\n",
      "0: 480x640 (no detections), 46.8ms\n",
      "Speed: 1.0ms preprocess, 46.8ms inference, 0.3ms postprocess per image at shape (1, 3, 480, 640)\n",
      "\n",
      "0: 480x640 2 apples, 51.3ms\n",
      "Speed: 1.2ms preprocess, 51.3ms inference, 0.5ms postprocess per image at shape (1, 3, 480, 640)\n",
      "\n",
      "0: 480x640 1 sports ball, 2 apples, 1 dining table, 61.8ms\n",
      "Speed: 0.8ms preprocess, 61.8ms inference, 0.5ms postprocess per image at shape (1, 3, 480, 640)\n",
      "\n",
      "0: 480x640 1 person, 1 dog, 1 banana, 2 apples, 49.0ms\n",
      "Speed: 0.8ms preprocess, 49.0ms inference, 0.6ms postprocess per image at shape (1, 3, 480, 640)\n",
      "\n"
     ]
    },
    {
     "name": "stdout",
     "output_type": "stream",
     "text": [
      "Skipping Raw_Mango_0_1734.jpg due to no detection.\n"
     ]
    },
    {
     "name": "stderr",
     "output_type": "stream",
     "text": [
      "0: 480x640 1 apple, 50.4ms\n",
      "Speed: 0.8ms preprocess, 50.4ms inference, 0.5ms postprocess per image at shape (1, 3, 480, 640)\n",
      "\n",
      "0: 480x640 1 banana, 1 apple, 54.7ms\n",
      "Speed: 0.9ms preprocess, 54.7ms inference, 0.5ms postprocess per image at shape (1, 3, 480, 640)\n",
      "\n",
      "0: 480x640 1 banana, 65.5ms\n",
      "Speed: 1.3ms preprocess, 65.5ms inference, 0.5ms postprocess per image at shape (1, 3, 480, 640)\n",
      "\n"
     ]
    },
    {
     "name": "stdout",
     "output_type": "stream",
     "text": [
      "Skipping Raw_Mango_0_1640.jpg due to low confidence.\n",
      "Skipping Raw_Mango.adeb429b-ebd0-11ed-93e9-346f24e2fa38.jpg due to low confidence.\n",
      "Skipping Raw_Mango.60e3a2f2-ebd0-11ed-91ae-346f24e2fa38.jpg due to low confidence.\n"
     ]
    },
    {
     "name": "stderr",
     "output_type": "stream",
     "text": [
      "0: 480x640 1 person, 1 banana, 1 apple, 67.1ms\n",
      "Speed: 0.9ms preprocess, 67.1ms inference, 0.6ms postprocess per image at shape (1, 3, 480, 640)\n",
      "\n",
      "0: 480x640 1 apple, 52.2ms\n",
      "Speed: 1.5ms preprocess, 52.2ms inference, 0.5ms postprocess per image at shape (1, 3, 480, 640)\n",
      "\n",
      "0: 480x640 1 apple, 50.0ms\n",
      "Speed: 1.0ms preprocess, 50.0ms inference, 0.5ms postprocess per image at shape (1, 3, 480, 640)\n",
      "\n",
      "0: 480x640 1 fire hydrant, 1 apple, 53.2ms\n",
      "Speed: 0.9ms preprocess, 53.2ms inference, 0.5ms postprocess per image at shape (1, 3, 480, 640)\n",
      "\n",
      "0: 480x640 1 person, 1 sports ball, 55.0ms\n",
      "Speed: 0.8ms preprocess, 55.0ms inference, 0.5ms postprocess per image at shape (1, 3, 480, 640)\n",
      "\n",
      "0: 480x640 2 apples, 53.9ms\n",
      "Speed: 1.1ms preprocess, 53.9ms inference, 0.6ms postprocess per image at shape (1, 3, 480, 640)\n",
      "\n",
      "0: 480x640 (no detections), 57.0ms\n",
      "Speed: 0.9ms preprocess, 57.0ms inference, 0.3ms postprocess per image at shape (1, 3, 480, 640)\n",
      "\n",
      "0: 480x640 1 person, 1 bench, 1 sports ball, 58.0ms\n",
      "Speed: 5.8ms preprocess, 58.0ms inference, 0.6ms postprocess per image at shape (1, 3, 480, 640)\n"
     ]
    },
    {
     "name": "stdout",
     "output_type": "stream",
     "text": [
      "Skipping Raw_Mango.5201a7f7-ebdb-11ed-8530-346f24e2fa38.jpg due to low confidence.\n",
      "Skipping Raw_Mango.e781d9af-ebe8-11ed-8216-346f24e2fa38.jpg due to no detection.\n"
     ]
    },
    {
     "name": "stderr",
     "output_type": "stream",
     "text": [
      "\n",
      "0: 480x640 2 apples, 84.7ms\n",
      "Speed: 1.6ms preprocess, 84.7ms inference, 0.5ms postprocess per image at shape (1, 3, 480, 640)\n",
      "\n",
      "0: 480x640 1 apple, 1 laptop, 59.8ms\n",
      "Speed: 1.0ms preprocess, 59.8ms inference, 0.6ms postprocess per image at shape (1, 3, 480, 640)\n",
      "\n",
      "0: 480x640 1 banana, 2 apples, 58.5ms\n",
      "Speed: 0.9ms preprocess, 58.5ms inference, 0.6ms postprocess per image at shape (1, 3, 480, 640)\n",
      "\n",
      "0: 480x640 1 apple, 55.2ms\n",
      "Speed: 0.9ms preprocess, 55.2ms inference, 0.6ms postprocess per image at shape (1, 3, 480, 640)\n",
      "\n",
      "0: 480x640 2 apples, 1 orange, 50.5ms\n",
      "Speed: 0.9ms preprocess, 50.5ms inference, 0.5ms postprocess per image at shape (1, 3, 480, 640)\n",
      "\n",
      "0: 480x640 1 person, 1 sports ball, 1 banana, 74.3ms\n",
      "Speed: 0.9ms preprocess, 74.3ms inference, 0.9ms postprocess per image at shape (1, 3, 480, 640)\n",
      "\n",
      "0: 480x640 1 person, 1 banana, 1 hot dog, 1 dining table, 66.6ms\n",
      "Speed: 1.2ms preprocess, 66.6ms inference, 0.5ms postprocess per image at shape (1, 3, 480, 640)\n",
      "\n",
      "0: 480x640 1 banana, 2 apples, 54.2ms\n",
      "Speed: 0.9ms preprocess, 54.2ms inference, 0.5ms postprocess per image at shape (1, 3, 480, 640)\n",
      "\n",
      "0: 480x640 1 banana, 2 apples, 61.3ms\n",
      "Speed: 0.9ms preprocess, 61.3ms inference, 0.6ms postprocess per image at shape (1, 3, 480, 640)\n",
      "\n",
      "0: 480x640 1 bench, 1 knife, 1 apple, 1 laptop, 53.4ms\n",
      "Speed: 1.0ms preprocess, 53.4ms inference, 0.5ms postprocess per image at shape (1, 3, 480, 640)\n",
      "\n",
      "0: 480x640 1 person, 50.1ms\n",
      "Speed: 0.9ms preprocess, 50.1ms inference, 0.5ms postprocess per image at shape (1, 3, 480, 640)\n",
      "\n",
      "0: 480x640 1 umbrella, 1 banana, 55.0ms\n",
      "Speed: 0.9ms preprocess, 55.0ms inference, 0.5ms postprocess per image at shape (1, 3, 480, 640)\n",
      "\n",
      "0: 480x640 2 apples, 47.0ms\n",
      "Speed: 1.0ms preprocess, 47.0ms inference, 0.5ms postprocess per image at shape (1, 3, 480, 640)\n",
      "\n",
      "0: 480x640 1 person, 1 banana, 1 laptop, 1 mouse, 59.1ms\n",
      "Speed: 0.8ms preprocess, 59.1ms inference, 0.5ms postprocess per image at shape (1, 3, 480, 640)\n",
      "\n",
      "0: 480x640 1 apple, 49.2ms\n",
      "Speed: 0.9ms preprocess, 49.2ms inference, 0.7ms postprocess per image at shape (1, 3, 480, 640)\n",
      "\n",
      "0: 480x640 2 apples, 53.8ms\n",
      "Speed: 1.0ms preprocess, 53.8ms inference, 0.5ms postprocess per image at shape (1, 3, 480, 640)\n",
      "\n",
      "0: 480x640 2 apples, 55.6ms\n",
      "Speed: 0.9ms preprocess, 55.6ms inference, 0.4ms postprocess per image at shape (1, 3, 480, 640)\n",
      "\n",
      "0: 480x640 2 apples, 52.3ms\n",
      "Speed: 0.9ms preprocess, 52.3ms inference, 0.6ms postprocess per image at shape (1, 3, 480, 640)\n",
      "\n",
      "0: 480x640 1 person, 1 apple, 114.7ms\n",
      "Speed: 1.1ms preprocess, 114.7ms inference, 0.6ms postprocess per image at shape (1, 3, 480, 640)\n",
      "\n",
      "0: 480x640 1 apple, 1 laptop, 63.1ms\n",
      "Speed: 1.3ms preprocess, 63.1ms inference, 0.5ms postprocess per image at shape (1, 3, 480, 640)\n",
      "\n",
      "0: 480x640 1 person, 1 knife, 1 apple, 1 laptop, 51.0ms\n",
      "Speed: 0.9ms preprocess, 51.0ms inference, 0.5ms postprocess per image at shape (1, 3, 480, 640)\n",
      "\n",
      "0: 480x640 2 persons, 1 sports ball, 50.5ms\n",
      "Speed: 0.9ms preprocess, 50.5ms inference, 0.5ms postprocess per image at shape (1, 3, 480, 640)\n",
      "\n",
      "0: 480x640 1 banana, 1 remote, 50.2ms\n",
      "Speed: 0.9ms preprocess, 50.2ms inference, 0.6ms postprocess per image at shape (1, 3, 480, 640)\n",
      "\n",
      "0: 480x640 2 persons, 1 apple, 57.6ms\n",
      "Speed: 0.9ms preprocess, 57.6ms inference, 0.6ms postprocess per image at shape (1, 3, 480, 640)\n",
      "\n",
      "0: 480x640 1 apple, 1 cell phone, 55.3ms\n",
      "Speed: 1.0ms preprocess, 55.3ms inference, 0.4ms postprocess per image at shape (1, 3, 480, 640)\n",
      "\n",
      "0: 480x640 (no detections), 50.9ms\n",
      "Speed: 1.0ms preprocess, 50.9ms inference, 0.4ms postprocess per image at shape (1, 3, 480, 640)\n",
      "\n"
     ]
    },
    {
     "name": "stdout",
     "output_type": "stream",
     "text": [
      "Skipping Raw_Mango.baa5d509-ebe7-11ed-a802-346f24e2fa38.jpg due to low confidence.\n",
      "Skipping Raw_Mango.d7e13c7f-ebe8-11ed-aa2a-346f24e2fa38.jpg due to low confidence.\n",
      "Skipping Raw_Mango.f3300688-ebe7-11ed-9001-346f24e2fa38.jpg due to low confidence.\n",
      "Skipping Raw_Mango.510ece6e-ebe8-11ed-8c10-346f24e2fa38.jpg due to no detection.\n"
     ]
    },
    {
     "name": "stderr",
     "output_type": "stream",
     "text": [
      "0: 480x640 2 persons, 1 apple, 50.4ms\n",
      "Speed: 1.4ms preprocess, 50.4ms inference, 0.6ms postprocess per image at shape (1, 3, 480, 640)\n",
      "\n",
      "0: 480x640 2 apples, 48.2ms\n",
      "Speed: 0.9ms preprocess, 48.2ms inference, 0.6ms postprocess per image at shape (1, 3, 480, 640)\n",
      "\n",
      "0: 480x640 1 person, 1 banana, 1 laptop, 48.0ms\n",
      "Speed: 1.1ms preprocess, 48.0ms inference, 0.5ms postprocess per image at shape (1, 3, 480, 640)\n",
      "\n",
      "0: 480x640 1 person, 1 banana, 1 apple, 1 laptop, 47.8ms\n",
      "Speed: 0.8ms preprocess, 47.8ms inference, 0.6ms postprocess per image at shape (1, 3, 480, 640)\n",
      "\n"
     ]
    },
    {
     "name": "stdout",
     "output_type": "stream",
     "text": [
      "Skipping Raw_Mango.862ff898-ebd0-11ed-8641-346f24e2fa38.jpg due to low confidence.\n",
      "Skipping Raw_Mango.bff6e457-ebd0-11ed-9d47-346f24e2fa38.jpg due to low confidence.\n"
     ]
    },
    {
     "name": "stderr",
     "output_type": "stream",
     "text": [
      "0: 480x640 1 apple, 2 laptops, 47.4ms\n",
      "Speed: 0.8ms preprocess, 47.4ms inference, 0.5ms postprocess per image at shape (1, 3, 480, 640)\n",
      "\n",
      "0: 480x640 2 apples, 49.2ms\n",
      "Speed: 0.9ms preprocess, 49.2ms inference, 0.5ms postprocess per image at shape (1, 3, 480, 640)\n",
      "\n",
      "0: 480x640 1 banana, 2 apples, 1 dining table, 48.3ms\n",
      "Speed: 0.8ms preprocess, 48.3ms inference, 0.5ms postprocess per image at shape (1, 3, 480, 640)\n",
      "\n",
      "0: 480x640 1 apple, 51.5ms\n",
      "Speed: 1.0ms preprocess, 51.5ms inference, 0.5ms postprocess per image at shape (1, 3, 480, 640)\n",
      "\n"
     ]
    },
    {
     "name": "stdout",
     "output_type": "stream",
     "text": [
      "Skipping Raw_Mango.1d4d0298-ebe8-11ed-a5d7-346f24e2fa38.jpg due to low confidence.\n",
      "Skipping Raw_Mango_0_1297.jpg due to low confidence.\n"
     ]
    },
    {
     "name": "stderr",
     "output_type": "stream",
     "text": [
      "0: 480x640 1 person, 1 apple, 1 dining table, 1 laptop, 65.1ms\n",
      "Speed: 0.8ms preprocess, 65.1ms inference, 0.6ms postprocess per image at shape (1, 3, 480, 640)\n",
      "\n",
      "0: 480x640 1 person, 1 sports ball, 1 laptop, 47.9ms\n",
      "Speed: 0.9ms preprocess, 47.9ms inference, 0.5ms postprocess per image at shape (1, 3, 480, 640)\n",
      "\n",
      "0: 480x640 3 apples, 1 orange, 1 dining table, 47.3ms\n",
      "Speed: 1.1ms preprocess, 47.3ms inference, 0.5ms postprocess per image at shape (1, 3, 480, 640)\n",
      "\n",
      "0: 480x640 1 banana, 1 dining table, 47.5ms\n",
      "Speed: 1.1ms preprocess, 47.5ms inference, 0.7ms postprocess per image at shape (1, 3, 480, 640)\n",
      "\n",
      "0: 480x640 1 apple, 44.7ms\n",
      "Speed: 1.1ms preprocess, 44.7ms inference, 0.4ms postprocess per image at shape (1, 3, 480, 640)\n",
      "\n",
      "0: 480x640 1 person, 1 apple, 47.2ms\n",
      "Speed: 1.1ms preprocess, 47.2ms inference, 0.6ms postprocess per image at shape (1, 3, 480, 640)\n",
      "\n",
      "0: 480x640 1 banana, 2 apples, 49.4ms\n",
      "Speed: 0.9ms preprocess, 49.4ms inference, 0.6ms postprocess per image at shape (1, 3, 480, 640)\n",
      "\n",
      "0: 480x640 1 person, 3 apples, 46.2ms\n",
      "Speed: 1.0ms preprocess, 46.2ms inference, 0.5ms postprocess per image at shape (1, 3, 480, 640)\n",
      "\n"
     ]
    },
    {
     "name": "stdout",
     "output_type": "stream",
     "text": [
      "Skipping Raw_Mango.2e29b102-ebe8-11ed-a538-346f24e2fa38.jpg due to low confidence.\n",
      "Skipping Raw_Mango.839d63c5-ebe8-11ed-b277-346f24e2fa38.jpg due to low confidence.\n"
     ]
    },
    {
     "name": "stderr",
     "output_type": "stream",
     "text": [
      "0: 480x640 1 fork, 1 apple, 49.7ms\n",
      "Speed: 0.9ms preprocess, 49.7ms inference, 0.5ms postprocess per image at shape (1, 3, 480, 640)\n",
      "\n",
      "0: 480x640 2 bananas, 1 apple, 1 cell phone, 46.8ms\n",
      "Speed: 1.1ms preprocess, 46.8ms inference, 0.5ms postprocess per image at shape (1, 3, 480, 640)\n",
      "\n",
      "0: 480x640 1 bowl, 2 apples, 47.7ms\n",
      "Speed: 1.0ms preprocess, 47.7ms inference, 0.5ms postprocess per image at shape (1, 3, 480, 640)\n",
      "\n",
      "0: 480x640 1 person, 1 sports ball, 1 apple, 47.8ms\n",
      "Speed: 0.8ms preprocess, 47.8ms inference, 0.5ms postprocess per image at shape (1, 3, 480, 640)\n",
      "\n"
     ]
    },
    {
     "name": "stdout",
     "output_type": "stream",
     "text": [
      "Skipping Raw_Mango_0_816.jpg due to low confidence.\n",
      "Skipping Raw_Mango.92e57ac4-ebe7-11ed-a941-346f24e2fa38.jpg due to low confidence.\n",
      "Skipping Raw_Mango.73ecdd0e-ebcf-11ed-a73d-346f24e2fa38.jpg due to low confidence.\n"
     ]
    },
    {
     "name": "stderr",
     "output_type": "stream",
     "text": [
      "0: 480x640 2 apples, 64.7ms\n",
      "Speed: 0.9ms preprocess, 64.7ms inference, 0.5ms postprocess per image at shape (1, 3, 480, 640)\n",
      "\n",
      "0: 480x640 1 bench, 1 knife, 1 apple, 47.5ms\n",
      "Speed: 0.9ms preprocess, 47.5ms inference, 0.4ms postprocess per image at shape (1, 3, 480, 640)\n",
      "\n",
      "0: 480x640 (no detections), 46.8ms\n",
      "Speed: 0.9ms preprocess, 46.8ms inference, 0.3ms postprocess per image at shape (1, 3, 480, 640)\n",
      "\n",
      "0: 480x640 (no detections), 48.0ms\n",
      "Speed: 0.9ms preprocess, 48.0ms inference, 0.3ms postprocess per image at shape (1, 3, 480, 640)\n",
      "\n"
     ]
    },
    {
     "name": "stdout",
     "output_type": "stream",
     "text": [
      "Skipping Raw_Mango.efed4507-ebe8-11ed-a683-346f24e2fa38.jpg due to low confidence.\n",
      "Skipping Raw_Mango.dc4c8332-ebe7-11ed-ac7a-346f24e2fa38.jpg due to low confidence.\n",
      "Skipping Raw_Mango.80000565-ebe8-11ed-a9db-346f24e2fa38.jpg due to no detection.\n",
      "Skipping Raw_Mango.6b4d1434-ebdb-11ed-a2c2-346f24e2fa38.jpg due to no detection.\n"
     ]
    },
    {
     "name": "stderr",
     "output_type": "stream",
     "text": [
      "0: 480x640 1 knife, 1 apple, 46.3ms\n",
      "Speed: 0.9ms preprocess, 46.3ms inference, 0.5ms postprocess per image at shape (1, 3, 480, 640)\n",
      "\n",
      "0: 480x640 2 apples, 50.8ms\n",
      "Speed: 1.0ms preprocess, 50.8ms inference, 0.5ms postprocess per image at shape (1, 3, 480, 640)\n",
      "\n",
      "0: 480x640 1 bench, 2 bananas, 2 laptops, 60.4ms\n",
      "Speed: 3.2ms preprocess, 60.4ms inference, 0.5ms postprocess per image at shape (1, 3, 480, 640)\n",
      "\n",
      "0: 480x640 1 bench, 1 banana, 1 laptop, 46.2ms\n",
      "Speed: 0.8ms preprocess, 46.2ms inference, 0.5ms postprocess per image at shape (1, 3, 480, 640)\n",
      "\n"
     ]
    },
    {
     "name": "stdout",
     "output_type": "stream",
     "text": [
      "Skipping Raw_Mango.73f8d6bc-ebe8-11ed-bb9a-346f24e2fa38.jpg due to low confidence.\n",
      "Skipping Raw_Mango.a4f78d74-ebe7-11ed-abe9-346f24e2fa38.jpg due to low confidence.\n"
     ]
    },
    {
     "name": "stderr",
     "output_type": "stream",
     "text": [
      "0: 480x640 1 apple, 1 dining table, 49.3ms\n",
      "Speed: 0.8ms preprocess, 49.3ms inference, 0.5ms postprocess per image at shape (1, 3, 480, 640)\n",
      "\n",
      "0: 480x640 1 banana, 2 apples, 50.6ms\n",
      "Speed: 0.9ms preprocess, 50.6ms inference, 0.5ms postprocess per image at shape (1, 3, 480, 640)\n",
      "\n",
      "0: 480x640 1 apple, 1 orange, 51.0ms\n",
      "Speed: 1.2ms preprocess, 51.0ms inference, 0.6ms postprocess per image at shape (1, 3, 480, 640)\n",
      "\n",
      "0: 480x640 1 laptop, 1 mouse, 49.5ms\n",
      "Speed: 0.9ms preprocess, 49.5ms inference, 0.4ms postprocess per image at shape (1, 3, 480, 640)\n",
      "\n",
      "0: 480x640 1 apple, 50.1ms\n",
      "Speed: 0.9ms preprocess, 50.1ms inference, 0.5ms postprocess per image at shape (1, 3, 480, 640)\n",
      "\n",
      "0: 480x640 1 surfboard, 1 apple, 57.5ms\n",
      "Speed: 0.8ms preprocess, 57.5ms inference, 0.9ms postprocess per image at shape (1, 3, 480, 640)\n",
      "\n",
      "0: 480x640 1 apple, 60.6ms\n",
      "Speed: 1.2ms preprocess, 60.6ms inference, 0.5ms postprocess per image at shape (1, 3, 480, 640)\n",
      "\n",
      "0: 480x640 1 knife, 1 apple, 49.4ms\n",
      "Speed: 0.9ms preprocess, 49.4ms inference, 0.6ms postprocess per image at shape (1, 3, 480, 640)\n",
      "\n"
     ]
    },
    {
     "name": "stdout",
     "output_type": "stream",
     "text": [
      "Skipping Raw_Mango_0_547.jpg due to low confidence.\n",
      "Skipping Raw_Mango.d2af7ba4-ebe7-11ed-a938-346f24e2fa38.jpg due to low confidence.\n",
      "Skipping Raw_Mango_0_553.jpg due to low confidence.\n"
     ]
    },
    {
     "name": "stderr",
     "output_type": "stream",
     "text": [
      "0: 480x640 1 apple, 50.3ms\n",
      "Speed: 0.8ms preprocess, 50.3ms inference, 0.5ms postprocess per image at shape (1, 3, 480, 640)\n",
      "\n",
      "0: 480x640 2 persons, 1 dining table, 1 laptop, 51.7ms\n",
      "Speed: 1.2ms preprocess, 51.7ms inference, 0.6ms postprocess per image at shape (1, 3, 480, 640)\n",
      "\n",
      "0: 480x640 2 apples, 1 dining table, 1 laptop, 50.0ms\n",
      "Speed: 1.3ms preprocess, 50.0ms inference, 0.5ms postprocess per image at shape (1, 3, 480, 640)\n",
      "\n",
      "0: 480x640 1 banana, 49.9ms\n",
      "Speed: 1.0ms preprocess, 49.9ms inference, 0.5ms postprocess per image at shape (1, 3, 480, 640)\n",
      "\n",
      "0: 480x640 1 apple, 51.3ms\n",
      "Speed: 1.0ms preprocess, 51.3ms inference, 0.5ms postprocess per image at shape (1, 3, 480, 640)\n",
      "\n",
      "0: 480x640 1 banana, 49.5ms\n",
      "Speed: 0.9ms preprocess, 49.5ms inference, 0.5ms postprocess per image at shape (1, 3, 480, 640)\n",
      "\n",
      "0: 480x640 (no detections), 47.9ms\n",
      "Speed: 1.4ms preprocess, 47.9ms inference, 0.3ms postprocess per image at shape (1, 3, 480, 640)\n",
      "\n",
      "0: 480x640 2 apples, 53.6ms\n",
      "Speed: 1.0ms preprocess, 53.6ms inference, 0.5ms postprocess per image at shape (1, 3, 480, 640)\n",
      "\n",
      "0: 480x640 (no detections), 51.0ms\n",
      "Speed: 0.7ms preprocess, 51.0ms inference, 0.3ms postprocess per image at shape (1, 3, 480, 640)\n",
      "\n"
     ]
    },
    {
     "name": "stdout",
     "output_type": "stream",
     "text": [
      "Skipping Raw_Mango.90d8bf90-ebe8-11ed-bfb0-346f24e2fa38.jpg due to low confidence.\n",
      "Skipping Raw_Mango.e51c019a-ebe8-11ed-9d79-346f24e2fa38.jpg due to no detection.\n",
      "Skipping Raw_Mango.3f013c1b-ebe8-11ed-bddd-346f24e2fa38.jpg due to no detection.\n"
     ]
    },
    {
     "name": "stderr",
     "output_type": "stream",
     "text": [
      "0: 480x640 1 banana, 1 apple, 68.5ms\n",
      "Speed: 0.8ms preprocess, 68.5ms inference, 0.5ms postprocess per image at shape (1, 3, 480, 640)\n",
      "\n",
      "0: 480x640 (no detections), 49.5ms\n",
      "Speed: 0.9ms preprocess, 49.5ms inference, 0.3ms postprocess per image at shape (1, 3, 480, 640)\n",
      "\n",
      "0: 480x640 2 apples, 48.5ms\n",
      "Speed: 0.9ms preprocess, 48.5ms inference, 0.4ms postprocess per image at shape (1, 3, 480, 640)\n",
      "\n",
      "0: 480x640 3 bananas, 2 apples, 52.6ms\n",
      "Speed: 0.9ms preprocess, 52.6ms inference, 0.6ms postprocess per image at shape (1, 3, 480, 640)\n",
      "\n"
     ]
    },
    {
     "name": "stdout",
     "output_type": "stream",
     "text": [
      "Skipping Raw_Mango.768d8a17-ebd0-11ed-b4fe-346f24e2fa38.jpg due to low confidence.\n",
      "Skipping Raw_Mango.e722c1f5-ebe7-11ed-aafe-346f24e2fa38.jpg due to no detection.\n"
     ]
    },
    {
     "name": "stderr",
     "output_type": "stream",
     "text": [
      "0: 480x640 1 banana, 1 apple, 1 laptop, 51.0ms\n",
      "Speed: 1.1ms preprocess, 51.0ms inference, 0.6ms postprocess per image at shape (1, 3, 480, 640)\n",
      "\n",
      "0: 480x640 2 suitcases, 1 sports ball, 1 apple, 54.7ms\n",
      "Speed: 0.8ms preprocess, 54.7ms inference, 0.5ms postprocess per image at shape (1, 3, 480, 640)\n",
      "\n",
      "0: 480x640 1 apple, 53.8ms\n",
      "Speed: 0.8ms preprocess, 53.8ms inference, 0.5ms postprocess per image at shape (1, 3, 480, 640)\n",
      "\n",
      "0: 480x640 1 knife, 1 apple, 54.4ms\n",
      "Speed: 1.0ms preprocess, 54.4ms inference, 0.5ms postprocess per image at shape (1, 3, 480, 640)\n",
      "\n",
      "0: 480x640 1 apple, 55.1ms\n",
      "Speed: 1.3ms preprocess, 55.1ms inference, 0.5ms postprocess per image at shape (1, 3, 480, 640)\n",
      "\n"
     ]
    },
    {
     "name": "stdout",
     "output_type": "stream",
     "text": [
      "Skipping Raw_Mango.b052cfbe-ebd0-11ed-ac31-346f24e2fa38.jpg due to low confidence.\n",
      "Skipping Raw_Mango_0_784.jpg due to low confidence.\n"
     ]
    },
    {
     "name": "stderr",
     "output_type": "stream",
     "text": [
      "0: 480x640 2 persons, 52.3ms\n",
      "Speed: 1.1ms preprocess, 52.3ms inference, 1.1ms postprocess per image at shape (1, 3, 480, 640)\n",
      "\n",
      "0: 480x640 1 apple, 53.5ms\n",
      "Speed: 0.9ms preprocess, 53.5ms inference, 0.6ms postprocess per image at shape (1, 3, 480, 640)\n",
      "\n",
      "0: 480x640 1 apple, 52.7ms\n",
      "Speed: 0.9ms preprocess, 52.7ms inference, 0.5ms postprocess per image at shape (1, 3, 480, 640)\n",
      "\n",
      "0: 480x640 1 boat, 1 bird, 2 apples, 53.0ms\n",
      "Speed: 1.1ms preprocess, 53.0ms inference, 0.6ms postprocess per image at shape (1, 3, 480, 640)\n",
      "\n",
      "0: 480x640 1 apple, 56.2ms\n",
      "Speed: 1.0ms preprocess, 56.2ms inference, 0.4ms postprocess per image at shape (1, 3, 480, 640)\n",
      "\n",
      "0: 480x640 1 bench, 1 apple, 1 laptop, 1 mouse, 67.3ms\n",
      "Speed: 1.2ms preprocess, 67.3ms inference, 1.1ms postprocess per image at shape (1, 3, 480, 640)\n",
      "\n",
      "0: 480x640 2 apples, 64.9ms\n",
      "Speed: 3.1ms preprocess, 64.9ms inference, 0.5ms postprocess per image at shape (1, 3, 480, 640)\n",
      "\n"
     ]
    },
    {
     "name": "stdout",
     "output_type": "stream",
     "text": [
      "Skipping Raw_Mango.5e0cdb98-ebdb-11ed-bd91-346f24e2fa38.jpg due to low confidence.\n"
     ]
    },
    {
     "name": "stderr",
     "output_type": "stream",
     "text": [
      "0: 480x640 (no detections), 53.3ms\n",
      "Speed: 0.7ms preprocess, 53.3ms inference, 0.3ms postprocess per image at shape (1, 3, 480, 640)\n",
      "\n",
      "0: 480x640 1 person, 55.8ms\n",
      "Speed: 1.0ms preprocess, 55.8ms inference, 0.4ms postprocess per image at shape (1, 3, 480, 640)\n",
      "\n",
      "0: 480x640 1 apple, 50.9ms\n",
      "Speed: 0.9ms preprocess, 50.9ms inference, 0.4ms postprocess per image at shape (1, 3, 480, 640)\n",
      "\n",
      "0: 480x640 2 apples, 60.3ms\n",
      "Speed: 1.2ms preprocess, 60.3ms inference, 0.5ms postprocess per image at shape (1, 3, 480, 640)\n",
      "\n"
     ]
    },
    {
     "name": "stdout",
     "output_type": "stream",
     "text": [
      "Skipping Raw_Mango_0_800.jpg due to no detection.\n",
      "Skipping Raw_Mango.8fa58856-ebe8-11ed-b914-346f24e2fa38.jpg due to low confidence.\n",
      "Skipping Raw_Mango_0_1900.jpg due to low confidence.\n"
     ]
    },
    {
     "name": "stderr",
     "output_type": "stream",
     "text": [
      "0: 480x640 1 person, 4 apples, 57.6ms\n",
      "Speed: 0.9ms preprocess, 57.6ms inference, 0.7ms postprocess per image at shape (1, 3, 480, 640)\n",
      "\n",
      "0: 480x640 1 banana, 2 apples, 47.8ms\n",
      "Speed: 0.9ms preprocess, 47.8ms inference, 0.5ms postprocess per image at shape (1, 3, 480, 640)\n",
      "\n",
      "0: 480x640 2 persons, 1 apple, 1 remote, 47.8ms\n",
      "Speed: 0.8ms preprocess, 47.8ms inference, 0.5ms postprocess per image at shape (1, 3, 480, 640)\n",
      "\n",
      "0: 480x640 2 apples, 48.0ms\n",
      "Speed: 0.8ms preprocess, 48.0ms inference, 0.4ms postprocess per image at shape (1, 3, 480, 640)\n",
      "\n",
      "0: 480x640 1 apple, 1 laptop, 48.4ms\n",
      "Speed: 0.8ms preprocess, 48.4ms inference, 0.5ms postprocess per image at shape (1, 3, 480, 640)\n",
      "\n",
      "0: 480x640 2 laptops, 46.5ms\n",
      "Speed: 0.7ms preprocess, 46.5ms inference, 0.4ms postprocess per image at shape (1, 3, 480, 640)\n",
      "\n",
      "0: 480x640 1 apple, 52.0ms\n",
      "Speed: 0.8ms preprocess, 52.0ms inference, 0.7ms postprocess per image at shape (1, 3, 480, 640)\n",
      "\n",
      "0: 480x640 (no detections), 53.4ms\n",
      "Speed: 0.8ms preprocess, 53.4ms inference, 0.4ms postprocess per image at shape (1, 3, 480, 640)\n",
      "\n",
      "0: 480x640 (no detections), 57.0ms\n",
      "Speed: 0.8ms preprocess, 57.0ms inference, 0.6ms postprocess per image at shape (1, 3, 480, 640)\n",
      "\n",
      "0: 480x640 1 person, 1 banana, 1 laptop, 52.0ms\n",
      "Speed: 1.5ms preprocess, 52.0ms inference, 0.5ms postprocess per image at shape (1, 3, 480, 640)\n",
      "\n",
      "0: 480x640 2 apples, 49.3ms\n",
      "Speed: 0.8ms preprocess, 49.3ms inference, 0.5ms postprocess per image at shape (1, 3, 480, 640)\n",
      "\n"
     ]
    },
    {
     "name": "stdout",
     "output_type": "stream",
     "text": [
      "Skipping Raw_Mango.be40354f-ebe7-11ed-ae3e-346f24e2fa38.jpg due to no detection.\n",
      "Skipping Raw_Mango.7c64dd20-ebe8-11ed-88a0-346f24e2fa38.jpg due to no detection.\n",
      "Skipping Raw_Mango.936e5984-ebd0-11ed-9eae-346f24e2fa38.jpg due to low confidence.\n"
     ]
    },
    {
     "name": "stderr",
     "output_type": "stream",
     "text": [
      "0: 480x640 1 person, 1 apple, 1 cell phone, 53.7ms\n",
      "Speed: 0.8ms preprocess, 53.7ms inference, 0.5ms postprocess per image at shape (1, 3, 480, 640)\n",
      "\n",
      "0: 480x640 1 apple, 1 dining table, 50.7ms\n",
      "Speed: 0.9ms preprocess, 50.7ms inference, 0.4ms postprocess per image at shape (1, 3, 480, 640)\n",
      "\n",
      "0: 480x640 1 apple, 1 orange, 52.9ms\n",
      "Speed: 1.2ms preprocess, 52.9ms inference, 0.6ms postprocess per image at shape (1, 3, 480, 640)\n",
      "\n",
      "0: 480x640 1 apple, 59.6ms\n",
      "Speed: 0.9ms preprocess, 59.6ms inference, 0.6ms postprocess per image at shape (1, 3, 480, 640)\n",
      "\n",
      "0: 480x640 2 apples, 57.8ms\n",
      "Speed: 0.9ms preprocess, 57.8ms inference, 0.5ms postprocess per image at shape (1, 3, 480, 640)\n",
      "\n"
     ]
    },
    {
     "name": "stdout",
     "output_type": "stream",
     "text": [
      "Skipping Raw_Mango.7088c236-ebd0-11ed-aa9d-346f24e2fa38.jpg due to low confidence.\n"
     ]
    },
    {
     "name": "stderr",
     "output_type": "stream",
     "text": [
      "0: 480x640 2 benchs, 1 apple, 1 laptop, 1 keyboard, 48.5ms\n",
      "Speed: 1.0ms preprocess, 48.5ms inference, 0.5ms postprocess per image at shape (1, 3, 480, 640)\n",
      "\n",
      "0: 480x640 1 apple, 49.6ms\n",
      "Speed: 0.8ms preprocess, 49.6ms inference, 0.5ms postprocess per image at shape (1, 3, 480, 640)\n",
      "\n",
      "0: 480x640 1 banana, 2 apples, 1 orange, 50.1ms\n",
      "Speed: 0.9ms preprocess, 50.1ms inference, 0.6ms postprocess per image at shape (1, 3, 480, 640)\n",
      "\n",
      "0: 480x640 1 person, 1 banana, 2 apples, 49.6ms\n",
      "Speed: 0.8ms preprocess, 49.6ms inference, 0.4ms postprocess per image at shape (1, 3, 480, 640)\n",
      "\n",
      "0: 480x640 3 apples, 52.8ms\n",
      "Speed: 1.0ms preprocess, 52.8ms inference, 0.5ms postprocess per image at shape (1, 3, 480, 640)\n",
      "\n",
      "0: 480x640 1 knife, 1 banana, 51.4ms\n",
      "Speed: 0.8ms preprocess, 51.4ms inference, 0.5ms postprocess per image at shape (1, 3, 480, 640)\n",
      "\n",
      "0: 480x640 1 person, 1 banana, 2 apples, 55.1ms\n",
      "Speed: 1.1ms preprocess, 55.1ms inference, 1.4ms postprocess per image at shape (1, 3, 480, 640)\n",
      "\n",
      "0: 480x640 1 person, 2 apples, 60.4ms\n",
      "Speed: 1.7ms preprocess, 60.4ms inference, 0.5ms postprocess per image at shape (1, 3, 480, 640)\n",
      "\n",
      "0: 480x640 1 apple, 50.0ms\n",
      "Speed: 1.0ms preprocess, 50.0ms inference, 1.0ms postprocess per image at shape (1, 3, 480, 640)\n",
      "\n"
     ]
    },
    {
     "name": "stdout",
     "output_type": "stream",
     "text": [
      "Skipping Raw_Mango.d9e738e0-ebe7-11ed-9511-346f24e2fa38.jpg due to low confidence.\n"
     ]
    },
    {
     "name": "stderr",
     "output_type": "stream",
     "text": [
      "0: 480x640 1 person, 1 apple, 53.6ms\n",
      "Speed: 0.9ms preprocess, 53.6ms inference, 0.6ms postprocess per image at shape (1, 3, 480, 640)\n",
      "\n",
      "0: 480x640 1 spoon, 1 cell phone, 48.6ms\n",
      "Speed: 0.8ms preprocess, 48.6ms inference, 0.4ms postprocess per image at shape (1, 3, 480, 640)\n",
      "\n",
      "0: 480x640 (no detections), 53.0ms\n",
      "Speed: 0.9ms preprocess, 53.0ms inference, 0.7ms postprocess per image at shape (1, 3, 480, 640)\n",
      "\n",
      "0: 480x640 1 apple, 1 laptop, 52.5ms\n",
      "Speed: 0.8ms preprocess, 52.5ms inference, 1.0ms postprocess per image at shape (1, 3, 480, 640)\n",
      "\n",
      "0: 480x640 1 bicycle, 2 apples, 48.7ms\n",
      "Speed: 1.1ms preprocess, 48.7ms inference, 0.5ms postprocess per image at shape (1, 3, 480, 640)\n",
      "\n"
     ]
    },
    {
     "name": "stdout",
     "output_type": "stream",
     "text": [
      "Skipping Raw_Mango_0_236.jpg due to low confidence.\n",
      "Skipping Raw_Mango.bbda644e-ebe7-11ed-9f59-346f24e2fa38.jpg due to no detection.\n"
     ]
    },
    {
     "name": "stderr",
     "output_type": "stream",
     "text": [
      "0: 480x640 1 apple, 60.4ms\n",
      "Speed: 0.9ms preprocess, 60.4ms inference, 0.5ms postprocess per image at shape (1, 3, 480, 640)\n",
      "\n",
      "0: 480x640 1 apple, 51.7ms\n",
      "Speed: 0.9ms preprocess, 51.7ms inference, 0.9ms postprocess per image at shape (1, 3, 480, 640)\n",
      "\n",
      "0: 480x640 (no detections), 53.0ms\n",
      "Speed: 1.0ms preprocess, 53.0ms inference, 0.3ms postprocess per image at shape (1, 3, 480, 640)\n",
      "\n",
      "0: 480x640 1 laptop, 1 mouse, 51.6ms\n",
      "Speed: 1.0ms preprocess, 51.6ms inference, 0.5ms postprocess per image at shape (1, 3, 480, 640)\n",
      "\n",
      "0: 480x640 1 person, 1 apple, 1 laptop, 51.7ms\n",
      "Speed: 0.8ms preprocess, 51.7ms inference, 0.5ms postprocess per image at shape (1, 3, 480, 640)\n",
      "\n",
      "0: 480x640 1 boat, 2 apples, 59.3ms\n",
      "Speed: 0.8ms preprocess, 59.3ms inference, 0.5ms postprocess per image at shape (1, 3, 480, 640)\n",
      "\n"
     ]
    },
    {
     "name": "stdout",
     "output_type": "stream",
     "text": [
      "Skipping Raw_Mango_0_593.jpg due to no detection.\n"
     ]
    },
    {
     "name": "stderr",
     "output_type": "stream",
     "text": [
      "0: 480x640 1 apple, 71.5ms\n",
      "Speed: 0.9ms preprocess, 71.5ms inference, 0.6ms postprocess per image at shape (1, 3, 480, 640)\n",
      "\n",
      "0: 480x640 1 banana, 51.4ms\n",
      "Speed: 0.9ms preprocess, 51.4ms inference, 0.4ms postprocess per image at shape (1, 3, 480, 640)\n",
      "\n",
      "0: 480x640 (no detections), 51.4ms\n",
      "Speed: 0.9ms preprocess, 51.4ms inference, 0.3ms postprocess per image at shape (1, 3, 480, 640)\n",
      "\n",
      "0: 480x640 2 persons, 1 apple, 54.5ms\n",
      "Speed: 0.9ms preprocess, 54.5ms inference, 0.5ms postprocess per image at shape (1, 3, 480, 640)\n",
      "\n",
      "0: 480x640 1 apple, 50.8ms\n",
      "Speed: 0.9ms preprocess, 50.8ms inference, 0.6ms postprocess per image at shape (1, 3, 480, 640)\n",
      "\n"
     ]
    },
    {
     "name": "stdout",
     "output_type": "stream",
     "text": [
      "Skipping Raw_Mango.a97e57c4-ebda-11ed-b414-346f24e2fa38.jpg due to low confidence.\n",
      "Skipping Raw_Mango_0_1379.jpg due to no detection.\n",
      "Skipping Raw_Mango.72f1fff1-ebd0-11ed-9498-346f24e2fa38.jpg due to low confidence.\n"
     ]
    },
    {
     "name": "stderr",
     "output_type": "stream",
     "text": [
      "0: 480x640 3 apples, 52.5ms\n",
      "Speed: 1.0ms preprocess, 52.5ms inference, 0.5ms postprocess per image at shape (1, 3, 480, 640)\n",
      "\n",
      "0: 480x640 1 person, 1 banana, 49.9ms\n",
      "Speed: 0.8ms preprocess, 49.9ms inference, 0.5ms postprocess per image at shape (1, 3, 480, 640)\n",
      "\n",
      "0: 480x640 1 tv, 50.9ms\n",
      "Speed: 0.8ms preprocess, 50.9ms inference, 0.7ms postprocess per image at shape (1, 3, 480, 640)\n",
      "\n",
      "0: 480x640 3 apples, 50.8ms\n",
      "Speed: 0.9ms preprocess, 50.8ms inference, 0.5ms postprocess per image at shape (1, 3, 480, 640)\n",
      "\n",
      "0: 480x640 2 apples, 51.9ms\n",
      "Speed: 0.9ms preprocess, 51.9ms inference, 0.5ms postprocess per image at shape (1, 3, 480, 640)\n",
      "\n",
      "0: 480x640 1 person, 1 banana, 1 apple, 52.9ms\n",
      "Speed: 0.9ms preprocess, 52.9ms inference, 0.5ms postprocess per image at shape (1, 3, 480, 640)\n",
      "\n"
     ]
    },
    {
     "name": "stdout",
     "output_type": "stream",
     "text": [
      "Skipping Raw_Mango_0_1190.jpg due to low confidence.\n",
      "Skipping Raw_Mango_0_735.jpg due to low confidence.\n"
     ]
    },
    {
     "name": "stderr",
     "output_type": "stream",
     "text": [
      "0: 480x640 1 banana, 2 apples, 56.5ms\n",
      "Speed: 0.8ms preprocess, 56.5ms inference, 1.1ms postprocess per image at shape (1, 3, 480, 640)\n",
      "\n",
      "0: 480x640 1 apple, 55.9ms\n",
      "Speed: 1.0ms preprocess, 55.9ms inference, 0.5ms postprocess per image at shape (1, 3, 480, 640)\n",
      "\n",
      "0: 480x640 2 persons, 68.2ms\n",
      "Speed: 0.9ms preprocess, 68.2ms inference, 0.4ms postprocess per image at shape (1, 3, 480, 640)\n",
      "\n",
      "0: 480x640 1 sports ball, 48.1ms\n",
      "Speed: 0.9ms preprocess, 48.1ms inference, 0.4ms postprocess per image at shape (1, 3, 480, 640)\n",
      "\n",
      "0: 480x640 2 apples, 46.3ms\n",
      "Speed: 1.1ms preprocess, 46.3ms inference, 0.4ms postprocess per image at shape (1, 3, 480, 640)\n",
      "\n"
     ]
    },
    {
     "name": "stdout",
     "output_type": "stream",
     "text": [
      "Skipping Raw_Mango.fa3461fb-eb54-11ed-bb8f-088fc3734c75.jpg due to low confidence.\n",
      "Skipping Raw_Mango.c3674745-ebe8-11ed-a4e2-346f24e2fa38.jpg due to low confidence.\n",
      "Skipping Raw_Mango.e4bc5aca-ebe7-11ed-b2f6-346f24e2fa38.jpg due to low confidence.\n"
     ]
    },
    {
     "name": "stderr",
     "output_type": "stream",
     "text": [
      "0: 480x640 1 apple, 1 orange, 54.7ms\n",
      "Speed: 0.9ms preprocess, 54.7ms inference, 0.5ms postprocess per image at shape (1, 3, 480, 640)\n",
      "\n",
      "0: 480x640 (no detections), 51.8ms\n",
      "Speed: 1.1ms preprocess, 51.8ms inference, 0.4ms postprocess per image at shape (1, 3, 480, 640)\n",
      "\n",
      "0: 480x640 1 person, 48.7ms\n",
      "Speed: 0.9ms preprocess, 48.7ms inference, 0.5ms postprocess per image at shape (1, 3, 480, 640)\n",
      "\n",
      "0: 480x640 2 persons, 1 sports ball, 2 skateboards, 47.9ms\n",
      "Speed: 0.9ms preprocess, 47.9ms inference, 0.5ms postprocess per image at shape (1, 3, 480, 640)\n",
      "\n"
     ]
    },
    {
     "name": "stdout",
     "output_type": "stream",
     "text": [
      "Skipping Raw_Mango_0_682.jpg due to low confidence.\n",
      "Skipping Raw_Mango.78c95430-ebe8-11ed-8c7b-346f24e2fa38.jpg due to no detection.\n"
     ]
    },
    {
     "name": "stderr",
     "output_type": "stream",
     "text": [
      "0: 480x640 1 banana, 1 apple, 51.1ms\n",
      "Speed: 0.9ms preprocess, 51.1ms inference, 0.5ms postprocess per image at shape (1, 3, 480, 640)\n",
      "\n",
      "0: 480x640 1 apple, 50.3ms\n",
      "Speed: 1.2ms preprocess, 50.3ms inference, 0.5ms postprocess per image at shape (1, 3, 480, 640)\n",
      "\n",
      "0: 480x640 1 person, 1 apple, 49.8ms\n",
      "Speed: 0.9ms preprocess, 49.8ms inference, 0.8ms postprocess per image at shape (1, 3, 480, 640)\n",
      "\n",
      "0: 480x640 2 apples, 50.4ms\n",
      "Speed: 0.8ms preprocess, 50.4ms inference, 0.5ms postprocess per image at shape (1, 3, 480, 640)\n",
      "\n",
      "0: 480x640 2 persons, 1 sports ball, 1 apple, 48.8ms\n",
      "Speed: 1.0ms preprocess, 48.8ms inference, 0.8ms postprocess per image at shape (1, 3, 480, 640)\n",
      "\n",
      "0: 480x640 1 person, 1 banana, 50.7ms\n",
      "Speed: 1.1ms preprocess, 50.7ms inference, 0.5ms postprocess per image at shape (1, 3, 480, 640)\n",
      "\n",
      "0: 480x640 1 apple, 47.2ms\n",
      "Speed: 0.8ms preprocess, 47.2ms inference, 0.4ms postprocess per image at shape (1, 3, 480, 640)\n",
      "\n",
      "0: 480x640 1 banana, 1 apple, 71.4ms\n",
      "Speed: 0.9ms preprocess, 71.4ms inference, 0.5ms postprocess per image at shape (1, 3, 480, 640)\n",
      "\n",
      "0: 480x640 1 apple, 67.0ms\n",
      "Speed: 1.0ms preprocess, 67.0ms inference, 0.5ms postprocess per image at shape (1, 3, 480, 640)\n",
      "\n"
     ]
    },
    {
     "name": "stdout",
     "output_type": "stream",
     "text": [
      "Skipping Raw_Mango.95a06b7e-ebcf-11ed-bc4b-346f24e2fa38.jpg due to low confidence.\n"
     ]
    },
    {
     "name": "stderr",
     "output_type": "stream",
     "text": [
      "0: 480x640 2 apples, 48.7ms\n",
      "Speed: 1.1ms preprocess, 48.7ms inference, 0.5ms postprocess per image at shape (1, 3, 480, 640)\n",
      "\n",
      "0: 480x640 1 apple, 50.8ms\n",
      "Speed: 2.1ms preprocess, 50.8ms inference, 0.5ms postprocess per image at shape (1, 3, 480, 640)\n",
      "\n",
      "0: 480x640 2 apples, 1 orange, 48.5ms\n",
      "Speed: 0.9ms preprocess, 48.5ms inference, 0.5ms postprocess per image at shape (1, 3, 480, 640)\n",
      "\n",
      "0: 480x640 1 person, 1 banana, 48.6ms\n",
      "Speed: 0.8ms preprocess, 48.6ms inference, 0.5ms postprocess per image at shape (1, 3, 480, 640)\n",
      "\n",
      "0: 480x640 1 person, 1 banana, 2 apples, 51.7ms\n",
      "Speed: 0.9ms preprocess, 51.7ms inference, 0.9ms postprocess per image at shape (1, 3, 480, 640)\n",
      "\n",
      "0: 480x640 1 apple, 1 dining table, 2 laptops, 51.7ms\n",
      "Speed: 0.9ms preprocess, 51.7ms inference, 0.5ms postprocess per image at shape (1, 3, 480, 640)\n",
      "\n",
      "0: 480x640 1 apple, 53.0ms\n",
      "Speed: 1.0ms preprocess, 53.0ms inference, 0.5ms postprocess per image at shape (1, 3, 480, 640)\n",
      "\n",
      "0: 480x640 1 sports ball, 2 apples, 52.7ms\n",
      "Speed: 1.0ms preprocess, 52.7ms inference, 0.5ms postprocess per image at shape (1, 3, 480, 640)\n",
      "\n",
      "0: 480x640 1 apple, 1 laptop, 51.2ms\n",
      "Speed: 0.9ms preprocess, 51.2ms inference, 0.5ms postprocess per image at shape (1, 3, 480, 640)\n",
      "\n",
      "0: 480x640 2 persons, 1 sports ball, 1 apple, 50.8ms\n",
      "Speed: 1.3ms preprocess, 50.8ms inference, 0.6ms postprocess per image at shape (1, 3, 480, 640)\n",
      "\n"
     ]
    },
    {
     "name": "stdout",
     "output_type": "stream",
     "text": [
      "Skipping Raw_Mango.923a9af2-ebd0-11ed-987c-346f24e2fa38.jpg due to low confidence.\n"
     ]
    },
    {
     "name": "stderr",
     "output_type": "stream",
     "text": [
      "0: 480x640 2 persons, 1 sports ball, 76.8ms\n",
      "Speed: 2.6ms preprocess, 76.8ms inference, 0.9ms postprocess per image at shape (1, 3, 480, 640)\n",
      "\n",
      "0: 480x640 1 person, 1 banana, 2 apples, 72.3ms\n",
      "Speed: 1.7ms preprocess, 72.3ms inference, 0.6ms postprocess per image at shape (1, 3, 480, 640)\n",
      "\n",
      "0: 480x640 1 person, 1 apple, 57.8ms\n",
      "Speed: 1.1ms preprocess, 57.8ms inference, 0.4ms postprocess per image at shape (1, 3, 480, 640)\n",
      "\n",
      "0: 480x640 1 surfboard, 57.1ms\n",
      "Speed: 1.0ms preprocess, 57.1ms inference, 0.5ms postprocess per image at shape (1, 3, 480, 640)\n",
      "\n",
      "0: 480x640 1 person, 1 apple, 1 laptop, 60.3ms\n",
      "Speed: 0.9ms preprocess, 60.3ms inference, 0.6ms postprocess per image at shape (1, 3, 480, 640)\n",
      "\n",
      "0: 480x640 1 person, 1 banana, 82.4ms\n",
      "Speed: 1.0ms preprocess, 82.4ms inference, 0.5ms postprocess per image at shape (1, 3, 480, 640)\n",
      "\n"
     ]
    },
    {
     "name": "stdout",
     "output_type": "stream",
     "text": [
      "Skipping Raw_Mango.3dcd2509-ebe8-11ed-a34d-346f24e2fa38.jpg due to low confidence.\n"
     ]
    },
    {
     "name": "stderr",
     "output_type": "stream",
     "text": [
      "0: 480x640 (no detections), 76.9ms\n",
      "Speed: 0.9ms preprocess, 76.9ms inference, 0.3ms postprocess per image at shape (1, 3, 480, 640)\n",
      "\n",
      "0: 480x640 1 apple, 1 chair, 61.6ms\n",
      "Speed: 1.3ms preprocess, 61.6ms inference, 0.5ms postprocess per image at shape (1, 3, 480, 640)\n",
      "\n",
      "0: 480x640 1 apple, 1 dining table, 69.8ms\n",
      "Speed: 1.6ms preprocess, 69.8ms inference, 0.8ms postprocess per image at shape (1, 3, 480, 640)\n",
      "\n"
     ]
    },
    {
     "name": "stdout",
     "output_type": "stream",
     "text": [
      "Skipping Raw_Mango.be945f82-ebe8-11ed-931d-346f24e2fa38.jpg due to no detection.\n"
     ]
    },
    {
     "name": "stderr",
     "output_type": "stream",
     "text": [
      "0: 480x640 1 apple, 51.3ms\n",
      "Speed: 1.4ms preprocess, 51.3ms inference, 0.5ms postprocess per image at shape (1, 3, 480, 640)\n",
      "\n",
      "0: 480x640 2 apples, 50.0ms\n",
      "Speed: 1.3ms preprocess, 50.0ms inference, 0.6ms postprocess per image at shape (1, 3, 480, 640)\n",
      "\n",
      "0: 480x640 2 apples, 50.1ms\n",
      "Speed: 1.0ms preprocess, 50.1ms inference, 0.5ms postprocess per image at shape (1, 3, 480, 640)\n",
      "\n",
      "0: 480x640 2 apples, 53.6ms\n",
      "Speed: 0.9ms preprocess, 53.6ms inference, 0.4ms postprocess per image at shape (1, 3, 480, 640)\n",
      "\n"
     ]
    },
    {
     "name": "stdout",
     "output_type": "stream",
     "text": [
      "Skipping Raw_Mango.95a8856b-ebe8-11ed-a613-346f24e2fa38.jpg due to low confidence.\n"
     ]
    },
    {
     "name": "stderr",
     "output_type": "stream",
     "text": [
      "0: 480x640 1 person, 1 apple, 1 laptop, 50.6ms\n",
      "Speed: 1.1ms preprocess, 50.6ms inference, 0.4ms postprocess per image at shape (1, 3, 480, 640)\n",
      "\n",
      "0: 480x640 1 person, 51.0ms\n",
      "Speed: 0.8ms preprocess, 51.0ms inference, 0.6ms postprocess per image at shape (1, 3, 480, 640)\n",
      "\n",
      "0: 480x640 3 apples, 50.8ms\n",
      "Speed: 0.8ms preprocess, 50.8ms inference, 0.5ms postprocess per image at shape (1, 3, 480, 640)\n",
      "\n",
      "0: 480x640 1 apple, 50.5ms\n",
      "Speed: 1.2ms preprocess, 50.5ms inference, 0.4ms postprocess per image at shape (1, 3, 480, 640)\n",
      "\n",
      "0: 480x640 1 spoon, 49.8ms\n",
      "Speed: 1.1ms preprocess, 49.8ms inference, 0.5ms postprocess per image at shape (1, 3, 480, 640)\n",
      "\n"
     ]
    },
    {
     "name": "stdout",
     "output_type": "stream",
     "text": [
      "Skipping Raw_Mango.5015367d-ebd0-11ed-a6c8-346f24e2fa38.jpg due to low confidence.\n",
      "Skipping Raw_Mango_0_1146.jpg due to low confidence.\n",
      "Skipping Raw_Mango_0_1634.jpg due to low confidence.\n",
      "Skipping Raw_Mango_0_907.jpg due to low confidence.\n"
     ]
    },
    {
     "name": "stderr",
     "output_type": "stream",
     "text": [
      "0: 480x640 1 bird, 1 apple, 50.3ms\n",
      "Speed: 1.0ms preprocess, 50.3ms inference, 0.5ms postprocess per image at shape (1, 3, 480, 640)\n",
      "\n",
      "0: 480x640 1 person, 1 apple, 69.7ms\n",
      "Speed: 0.9ms preprocess, 69.7ms inference, 0.5ms postprocess per image at shape (1, 3, 480, 640)\n",
      "\n",
      "0: 480x640 2 apples, 48.0ms\n",
      "Speed: 0.9ms preprocess, 48.0ms inference, 0.5ms postprocess per image at shape (1, 3, 480, 640)\n",
      "\n",
      "0: 480x640 1 banana, 1 apple, 49.7ms\n",
      "Speed: 0.8ms preprocess, 49.7ms inference, 0.4ms postprocess per image at shape (1, 3, 480, 640)\n",
      "\n",
      "0: 480x640 1 knife, 1 banana, 1 apple, 48.7ms\n",
      "Speed: 0.8ms preprocess, 48.7ms inference, 0.5ms postprocess per image at shape (1, 3, 480, 640)\n",
      "\n",
      "0: 480x640 1 banana, 48.3ms\n",
      "Speed: 1.2ms preprocess, 48.3ms inference, 0.5ms postprocess per image at shape (1, 3, 480, 640)\n",
      "\n",
      "0: 480x640 1 apple, 48.0ms\n",
      "Speed: 0.7ms preprocess, 48.0ms inference, 0.4ms postprocess per image at shape (1, 3, 480, 640)\n",
      "\n"
     ]
    },
    {
     "name": "stdout",
     "output_type": "stream",
     "text": [
      "Skipping Raw_Mango.6c806dbc-ebdb-11ed-89fc-346f24e2fa38.jpg due to low confidence.\n",
      "Skipping Raw_Mango.752f10d5-ebe8-11ed-98c2-346f24e2fa38.jpg due to low confidence.\n"
     ]
    },
    {
     "name": "stderr",
     "output_type": "stream",
     "text": [
      "0: 480x640 3 apples, 53.1ms\n",
      "Speed: 1.1ms preprocess, 53.1ms inference, 0.5ms postprocess per image at shape (1, 3, 480, 640)\n",
      "\n",
      "0: 480x640 1 banana, 50.6ms\n",
      "Speed: 1.1ms preprocess, 50.6ms inference, 0.5ms postprocess per image at shape (1, 3, 480, 640)\n",
      "\n",
      "0: 480x640 2 apples, 50.9ms\n",
      "Speed: 0.9ms preprocess, 50.9ms inference, 0.5ms postprocess per image at shape (1, 3, 480, 640)\n",
      "\n",
      "0: 480x640 3 apples, 52.4ms\n",
      "Speed: 0.8ms preprocess, 52.4ms inference, 0.5ms postprocess per image at shape (1, 3, 480, 640)\n",
      "\n",
      "0: 480x640 2 apples, 54.1ms\n",
      "Speed: 1.1ms preprocess, 54.1ms inference, 0.5ms postprocess per image at shape (1, 3, 480, 640)\n",
      "\n"
     ]
    },
    {
     "name": "stdout",
     "output_type": "stream",
     "text": [
      "Skipping Raw_Mango.104fd4db-ebd0-11ed-bb44-346f24e2fa38.jpg due to low confidence.\n",
      "Skipping Raw_Mango_0_252.jpg due to low confidence.\n"
     ]
    },
    {
     "name": "stderr",
     "output_type": "stream",
     "text": [
      "0: 480x640 1 apple, 56.6ms\n",
      "Speed: 1.1ms preprocess, 56.6ms inference, 0.5ms postprocess per image at shape (1, 3, 480, 640)\n",
      "\n",
      "0: 480x640 1 apple, 2 laptops, 51.4ms\n",
      "Speed: 0.9ms preprocess, 51.4ms inference, 0.5ms postprocess per image at shape (1, 3, 480, 640)\n",
      "\n",
      "0: 480x640 2 apples, 56.0ms\n",
      "Speed: 1.6ms preprocess, 56.0ms inference, 0.6ms postprocess per image at shape (1, 3, 480, 640)\n",
      "\n",
      "0: 480x640 2 persons, 1 apple, 1 hot dog, 1 dining table, 1 remote, 56.4ms\n",
      "Speed: 0.9ms preprocess, 56.4ms inference, 0.6ms postprocess per image at shape (1, 3, 480, 640)\n",
      "\n",
      "0: 480x640 1 apple, 1 vase, 54.0ms\n",
      "Speed: 1.0ms preprocess, 54.0ms inference, 0.5ms postprocess per image at shape (1, 3, 480, 640)\n",
      "\n"
     ]
    },
    {
     "name": "stdout",
     "output_type": "stream",
     "text": [
      "Skipping Raw_Mango.01a0033c-ebe8-11ed-a53c-346f24e2fa38.jpg due to low confidence.\n"
     ]
    },
    {
     "name": "stderr",
     "output_type": "stream",
     "text": [
      "0: 480x640 1 apple, 72.1ms\n",
      "Speed: 1.3ms preprocess, 72.1ms inference, 0.4ms postprocess per image at shape (1, 3, 480, 640)\n",
      "\n",
      "0: 480x640 1 bird, 1 banana, 2 apples, 52.1ms\n",
      "Speed: 0.8ms preprocess, 52.1ms inference, 0.5ms postprocess per image at shape (1, 3, 480, 640)\n",
      "\n",
      "0: 480x640 1 apple, 53.6ms\n",
      "Speed: 1.6ms preprocess, 53.6ms inference, 0.5ms postprocess per image at shape (1, 3, 480, 640)\n",
      "\n",
      "0: 480x640 1 apple, 47.2ms\n",
      "Speed: 0.9ms preprocess, 47.2ms inference, 0.6ms postprocess per image at shape (1, 3, 480, 640)\n",
      "\n"
     ]
    },
    {
     "name": "stdout",
     "output_type": "stream",
     "text": [
      "Skipping Raw_Mango.e634aa31-ebcf-11ed-b6e2-346f24e2fa38.jpg due to low confidence.\n"
     ]
    },
    {
     "name": "stderr",
     "output_type": "stream",
     "text": [
      "0: 480x640 1 person, 1 skateboard, 1 apple, 1 orange, 51.8ms\n",
      "Speed: 0.9ms preprocess, 51.8ms inference, 0.5ms postprocess per image at shape (1, 3, 480, 640)\n",
      "\n",
      "0: 480x640 1 apple, 43.9ms\n",
      "Speed: 1.1ms preprocess, 43.9ms inference, 0.5ms postprocess per image at shape (1, 3, 480, 640)\n",
      "\n",
      "0: 480x640 1 banana, 1 laptop, 1 keyboard, 48.0ms\n",
      "Speed: 0.9ms preprocess, 48.0ms inference, 0.5ms postprocess per image at shape (1, 3, 480, 640)\n",
      "\n",
      "0: 480x640 1 banana, 1 apple, 79.4ms\n",
      "Speed: 0.9ms preprocess, 79.4ms inference, 0.6ms postprocess per image at shape (1, 3, 480, 640)\n",
      "\n",
      "0: 480x640 2 apples, 57.4ms\n",
      "Speed: 1.0ms preprocess, 57.4ms inference, 0.8ms postprocess per image at shape (1, 3, 480, 640)\n",
      "\n",
      "0: 480x640 2 persons, 1 bowl, 1 apple, 56.7ms\n",
      "Speed: 1.2ms preprocess, 56.7ms inference, 0.6ms postprocess per image at shape (1, 3, 480, 640)\n",
      "\n",
      "0: 480x640 2 apples, 1 laptop, 1 mouse, 55.1ms\n",
      "Speed: 1.1ms preprocess, 55.1ms inference, 0.5ms postprocess per image at shape (1, 3, 480, 640)\n",
      "\n"
     ]
    },
    {
     "name": "stdout",
     "output_type": "stream",
     "text": [
      "Skipping Raw_Mango.65b422b0-ebd0-11ed-a40b-346f24e2fa38.jpg due to low confidence.\n",
      "Skipping Raw_Mango.de7ee851-ebda-11ed-89a6-346f24e2fa38.jpg due to low confidence.\n"
     ]
    },
    {
     "name": "stderr",
     "output_type": "stream",
     "text": [
      "0: 480x640 1 banana, 2 apples, 58.1ms\n",
      "Speed: 0.8ms preprocess, 58.1ms inference, 0.5ms postprocess per image at shape (1, 3, 480, 640)\n",
      "\n",
      "0: 480x640 1 apple, 49.8ms\n",
      "Speed: 1.1ms preprocess, 49.8ms inference, 0.5ms postprocess per image at shape (1, 3, 480, 640)\n",
      "\n",
      "0: 480x640 1 apple, 51.5ms\n",
      "Speed: 1.0ms preprocess, 51.5ms inference, 0.5ms postprocess per image at shape (1, 3, 480, 640)\n",
      "\n",
      "0: 480x640 1 apple, 48.5ms\n",
      "Speed: 0.8ms preprocess, 48.5ms inference, 0.5ms postprocess per image at shape (1, 3, 480, 640)\n",
      "\n",
      "0: 480x640 1 sports ball, 1 apple, 1 orange, 50.2ms\n",
      "Speed: 1.1ms preprocess, 50.2ms inference, 0.5ms postprocess per image at shape (1, 3, 480, 640)\n",
      "\n",
      "0: 480x640 1 apple, 1 laptop, 1 keyboard, 57.3ms\n",
      "Speed: 1.0ms preprocess, 57.3ms inference, 0.5ms postprocess per image at shape (1, 3, 480, 640)\n",
      "\n",
      "0: 480x640 2 apples, 1 dining table, 59.8ms\n",
      "Speed: 1.2ms preprocess, 59.8ms inference, 0.6ms postprocess per image at shape (1, 3, 480, 640)\n",
      "\n",
      "0: 480x640 1 apple, 45.9ms\n",
      "Speed: 1.6ms preprocess, 45.9ms inference, 0.5ms postprocess per image at shape (1, 3, 480, 640)\n",
      "\n"
     ]
    },
    {
     "name": "stdout",
     "output_type": "stream",
     "text": [
      "Skipping Raw_Mango.980916f8-ebcf-11ed-bb34-346f24e2fa38.jpg due to low confidence.\n",
      "Skipping Raw_Mango.c391ed2d-ebd0-11ed-8e87-346f24e2fa38.jpg due to low confidence.\n",
      "Skipping Raw_Mango.12e7a943-ebda-11ed-8bba-346f24e2fa38.jpg due to low confidence.\n"
     ]
    },
    {
     "name": "stderr",
     "output_type": "stream",
     "text": [
      "0: 480x640 1 apple, 49.5ms\n",
      "Speed: 1.2ms preprocess, 49.5ms inference, 0.6ms postprocess per image at shape (1, 3, 480, 640)\n",
      "\n",
      "0: 480x640 2 apples, 51.6ms\n",
      "Speed: 1.2ms preprocess, 51.6ms inference, 0.6ms postprocess per image at shape (1, 3, 480, 640)\n",
      "\n",
      "0: 480x640 1 laptop, 1 mouse, 1 keyboard, 54.5ms\n",
      "Speed: 1.3ms preprocess, 54.5ms inference, 0.5ms postprocess per image at shape (1, 3, 480, 640)\n",
      "\n",
      "0: 480x640 1 laptop, 1 mouse, 48.2ms\n",
      "Speed: 0.9ms preprocess, 48.2ms inference, 0.6ms postprocess per image at shape (1, 3, 480, 640)\n",
      "\n",
      "0: 480x640 (no detections), 47.4ms\n",
      "Speed: 0.7ms preprocess, 47.4ms inference, 0.3ms postprocess per image at shape (1, 3, 480, 640)\n",
      "\n",
      "0: 480x640 2 apples, 1 dining table, 49.5ms\n",
      "Speed: 0.8ms preprocess, 49.5ms inference, 0.7ms postprocess per image at shape (1, 3, 480, 640)\n",
      "\n",
      "0: 480x640 1 banana, 1 apple, 1 laptop, 48.7ms\n",
      "Speed: 1.0ms preprocess, 48.7ms inference, 0.5ms postprocess per image at shape (1, 3, 480, 640)\n",
      "\n",
      "0: 480x640 1 person, 1 banana, 46.8ms\n",
      "Speed: 0.8ms preprocess, 46.8ms inference, 0.4ms postprocess per image at shape (1, 3, 480, 640)\n",
      "\n"
     ]
    },
    {
     "name": "stdout",
     "output_type": "stream",
     "text": [
      "Skipping Raw_Mango.b97164ce-ebe7-11ed-b4ad-346f24e2fa38.jpg due to no detection.\n",
      "Skipping Raw_Mango.a6b431d0-ebd0-11ed-867a-346f24e2fa38.jpg due to low confidence.\n",
      "Skipping Raw_Mango.920c0295-ebe8-11ed-8223-346f24e2fa38.jpg due to low confidence.\n"
     ]
    },
    {
     "name": "stderr",
     "output_type": "stream",
     "text": [
      "0: 480x640 2 apples, 47.5ms\n",
      "Speed: 1.2ms preprocess, 47.5ms inference, 0.5ms postprocess per image at shape (1, 3, 480, 640)\n",
      "\n",
      "0: 480x640 1 person, 1 banana, 1 apple, 47.8ms\n",
      "Speed: 0.8ms preprocess, 47.8ms inference, 0.6ms postprocess per image at shape (1, 3, 480, 640)\n",
      "\n",
      "0: 480x640 1 person, 1 apple, 2 laptops, 50.9ms\n",
      "Speed: 0.9ms preprocess, 50.9ms inference, 0.6ms postprocess per image at shape (1, 3, 480, 640)\n",
      "\n",
      "0: 480x640 2 apples, 1 orange, 48.1ms\n",
      "Speed: 0.9ms preprocess, 48.1ms inference, 1.0ms postprocess per image at shape (1, 3, 480, 640)\n",
      "\n"
     ]
    },
    {
     "name": "stdout",
     "output_type": "stream",
     "text": [
      "Skipping Raw_Mango.bec24b46-ebd0-11ed-8467-346f24e2fa38.jpg due to low confidence.\n"
     ]
    },
    {
     "name": "stderr",
     "output_type": "stream",
     "text": [
      "0: 480x640 1 banana, 2 apples, 51.0ms\n",
      "Speed: 0.8ms preprocess, 51.0ms inference, 0.5ms postprocess per image at shape (1, 3, 480, 640)\n",
      "\n",
      "0: 480x640 1 bird, 1 apple, 49.8ms\n",
      "Speed: 0.8ms preprocess, 49.8ms inference, 0.5ms postprocess per image at shape (1, 3, 480, 640)\n",
      "\n",
      "0: 480x640 1 train, 1 apple, 49.5ms\n",
      "Speed: 0.9ms preprocess, 49.5ms inference, 0.5ms postprocess per image at shape (1, 3, 480, 640)\n",
      "\n",
      "0: 480x640 1 apple, 47.0ms\n",
      "Speed: 1.1ms preprocess, 47.0ms inference, 0.5ms postprocess per image at shape (1, 3, 480, 640)\n",
      "\n",
      "0: 480x640 1 person, 2 boats, 2 apples, 48.2ms\n",
      "Speed: 0.8ms preprocess, 48.2ms inference, 0.7ms postprocess per image at shape (1, 3, 480, 640)\n",
      "\n"
     ]
    },
    {
     "name": "stdout",
     "output_type": "stream",
     "text": [
      "Skipping Raw_Mango.6740394a-ebda-11ed-9121-346f24e2fa38.jpg due to low confidence.\n"
     ]
    },
    {
     "name": "stderr",
     "output_type": "stream",
     "text": [
      "0: 480x640 (no detections), 49.8ms\n",
      "Speed: 0.9ms preprocess, 49.8ms inference, 0.3ms postprocess per image at shape (1, 3, 480, 640)\n",
      "\n",
      "0: 480x640 1 banana, 1 apple, 48.9ms\n",
      "Speed: 0.9ms preprocess, 48.9ms inference, 0.7ms postprocess per image at shape (1, 3, 480, 640)\n",
      "\n",
      "0: 480x640 1 person, 1 apple, 63.1ms\n",
      "Speed: 0.8ms preprocess, 63.1ms inference, 0.5ms postprocess per image at shape (1, 3, 480, 640)\n",
      "\n",
      "0: 480x640 (no detections), 49.2ms\n",
      "Speed: 1.0ms preprocess, 49.2ms inference, 0.3ms postprocess per image at shape (1, 3, 480, 640)\n",
      "\n"
     ]
    },
    {
     "name": "stdout",
     "output_type": "stream",
     "text": [
      "Skipping Raw_Mango_0_10.jpg due to no detection.\n",
      "Skipping Raw_Mango.a715181e-ebda-11ed-ba21-346f24e2fa38.jpg due to low confidence.\n",
      "Skipping Raw_Mango.17491ce0-ebe8-11ed-a0ac-346f24e2fa38.jpg due to no detection.\n"
     ]
    },
    {
     "name": "stderr",
     "output_type": "stream",
     "text": [
      "0: 480x640 1 laptop, 1 keyboard, 52.9ms\n",
      "Speed: 1.4ms preprocess, 52.9ms inference, 0.6ms postprocess per image at shape (1, 3, 480, 640)\n",
      "\n",
      "0: 480x640 1 sports ball, 72.4ms\n",
      "Speed: 1.3ms preprocess, 72.4ms inference, 0.5ms postprocess per image at shape (1, 3, 480, 640)\n",
      "\n",
      "0: 480x640 1 apple, 56.4ms\n",
      "Speed: 1.0ms preprocess, 56.4ms inference, 0.5ms postprocess per image at shape (1, 3, 480, 640)\n",
      "\n",
      "0: 480x640 1 apple, 49.6ms\n",
      "Speed: 0.9ms preprocess, 49.6ms inference, 0.6ms postprocess per image at shape (1, 3, 480, 640)\n",
      "\n",
      "0: 480x640 1 apple, 50.7ms\n",
      "Speed: 1.5ms preprocess, 50.7ms inference, 0.5ms postprocess per image at shape (1, 3, 480, 640)\n",
      "\n"
     ]
    },
    {
     "name": "stdout",
     "output_type": "stream",
     "text": [
      "Skipping Raw_Mango.4f97b70a-ebdb-11ed-8f12-346f24e2fa38.jpg due to low confidence.\n",
      "Skipping Raw_Mango.d1c4bff9-ebcf-11ed-a007-346f24e2fa38.jpg due to low confidence.\n"
     ]
    },
    {
     "name": "stderr",
     "output_type": "stream",
     "text": [
      "0: 480x640 1 apple, 49.8ms\n",
      "Speed: 0.9ms preprocess, 49.8ms inference, 0.4ms postprocess per image at shape (1, 3, 480, 640)\n",
      "\n",
      "0: 480x640 2 apples, 52.3ms\n",
      "Speed: 1.3ms preprocess, 52.3ms inference, 0.6ms postprocess per image at shape (1, 3, 480, 640)\n",
      "\n",
      "0: 480x640 1 person, 1 dining table, 1 laptop, 60.4ms\n",
      "Speed: 1.1ms preprocess, 60.4ms inference, 1.2ms postprocess per image at shape (1, 3, 480, 640)\n",
      "\n"
     ]
    },
    {
     "name": "stdout",
     "output_type": "stream",
     "text": [
      "Skipping Raw_Mango.3698d7e6-ebe8-11ed-a3b4-346f24e2fa38.jpg due to low confidence.\n"
     ]
    },
    {
     "name": "stderr",
     "output_type": "stream",
     "text": [
      "0: 480x640 1 apple, 83.2ms\n",
      "Speed: 1.1ms preprocess, 83.2ms inference, 0.5ms postprocess per image at shape (1, 3, 480, 640)\n",
      "\n",
      "0: 480x640 1 apple, 65.5ms\n",
      "Speed: 1.3ms preprocess, 65.5ms inference, 0.9ms postprocess per image at shape (1, 3, 480, 640)\n",
      "\n",
      "0: 480x640 2 apples, 66.5ms\n",
      "Speed: 1.2ms preprocess, 66.5ms inference, 0.5ms postprocess per image at shape (1, 3, 480, 640)\n",
      "\n"
     ]
    },
    {
     "name": "stdout",
     "output_type": "stream",
     "text": [
      "Skipping Raw_Mango_0_1627.jpg due to low confidence.\n"
     ]
    },
    {
     "name": "stderr",
     "output_type": "stream",
     "text": [
      "0: 480x640 (no detections), 56.5ms\n",
      "Speed: 0.8ms preprocess, 56.5ms inference, 0.3ms postprocess per image at shape (1, 3, 480, 640)\n",
      "\n",
      "0: 480x640 2 apples, 53.1ms\n",
      "Speed: 1.1ms preprocess, 53.1ms inference, 1.2ms postprocess per image at shape (1, 3, 480, 640)\n",
      "\n",
      "0: 480x640 2 apples, 55.3ms\n",
      "Speed: 0.9ms preprocess, 55.3ms inference, 0.5ms postprocess per image at shape (1, 3, 480, 640)\n",
      "\n",
      "0: 480x640 1 apple, 54.4ms\n",
      "Speed: 0.8ms preprocess, 54.4ms inference, 0.5ms postprocess per image at shape (1, 3, 480, 640)\n",
      "\n"
     ]
    },
    {
     "name": "stdout",
     "output_type": "stream",
     "text": [
      "Skipping Raw_Mango.187c2700-ebe8-11ed-99f8-346f24e2fa38.jpg due to no detection.\n",
      "Skipping Raw_Mango.d42c2dcc-ebcf-11ed-802a-346f24e2fa38.jpg due to low confidence.\n"
     ]
    },
    {
     "name": "stderr",
     "output_type": "stream",
     "text": [
      "0: 480x640 2 persons, 1 apple, 1 laptop, 59.2ms\n",
      "Speed: 0.9ms preprocess, 59.2ms inference, 0.6ms postprocess per image at shape (1, 3, 480, 640)\n",
      "\n",
      "0: 480x640 (no detections), 47.4ms\n",
      "Speed: 1.0ms preprocess, 47.4ms inference, 0.3ms postprocess per image at shape (1, 3, 480, 640)\n",
      "\n",
      "0: 480x640 2 persons, 2 apples, 49.0ms\n",
      "Speed: 1.0ms preprocess, 49.0ms inference, 0.5ms postprocess per image at shape (1, 3, 480, 640)\n",
      "\n",
      "0: 480x640 2 apples, 48.3ms\n",
      "Speed: 0.8ms preprocess, 48.3ms inference, 0.5ms postprocess per image at shape (1, 3, 480, 640)\n",
      "\n"
     ]
    },
    {
     "name": "stdout",
     "output_type": "stream",
     "text": [
      "Skipping Raw_Mango.d4462cc4-ebe8-11ed-8495-346f24e2fa38.jpg due to low confidence.\n",
      "Skipping Raw_Mango_0_1784.jpg due to no detection.\n"
     ]
    },
    {
     "name": "stderr",
     "output_type": "stream",
     "text": [
      "0: 480x640 1 banana, 2 apples, 51.8ms\n",
      "Speed: 0.8ms preprocess, 51.8ms inference, 0.5ms postprocess per image at shape (1, 3, 480, 640)\n",
      "\n",
      "0: 480x640 1 apple, 45.4ms\n",
      "Speed: 1.1ms preprocess, 45.4ms inference, 0.4ms postprocess per image at shape (1, 3, 480, 640)\n",
      "\n",
      "0: 480x640 1 apple, 46.6ms\n",
      "Speed: 0.8ms preprocess, 46.6ms inference, 0.5ms postprocess per image at shape (1, 3, 480, 640)\n",
      "\n",
      "0: 480x640 1 person, 1 apple, 46.3ms\n",
      "Speed: 0.8ms preprocess, 46.3ms inference, 0.5ms postprocess per image at shape (1, 3, 480, 640)\n",
      "\n",
      "0: 480x640 2 persons, 1 apple, 1 laptop, 45.9ms\n",
      "Speed: 0.8ms preprocess, 45.9ms inference, 0.6ms postprocess per image at shape (1, 3, 480, 640)\n",
      "\n"
     ]
    },
    {
     "name": "stdout",
     "output_type": "stream",
     "text": [
      "Skipping Raw_Mango_0_1223.jpg due to low confidence.\n"
     ]
    },
    {
     "name": "stderr",
     "output_type": "stream",
     "text": [
      "0: 480x640 1 banana, 2 apples, 47.6ms\n",
      "Speed: 0.9ms preprocess, 47.6ms inference, 0.5ms postprocess per image at shape (1, 3, 480, 640)\n",
      "\n",
      "0: 480x640 1 person, 1 banana, 46.4ms\n",
      "Speed: 0.9ms preprocess, 46.4ms inference, 0.5ms postprocess per image at shape (1, 3, 480, 640)\n",
      "\n",
      "0: 480x640 1 person, 1 apple, 1 dining table, 55.0ms\n",
      "Speed: 0.8ms preprocess, 55.0ms inference, 0.6ms postprocess per image at shape (1, 3, 480, 640)\n",
      "\n",
      "0: 480x640 1 person, 1 apple, 47.0ms\n",
      "Speed: 1.2ms preprocess, 47.0ms inference, 0.5ms postprocess per image at shape (1, 3, 480, 640)\n",
      "\n",
      "0: 480x640 1 person, 1 sports ball, 1 apple, 1 dining table, 2 laptops, 47.1ms\n",
      "Speed: 0.8ms preprocess, 47.1ms inference, 0.5ms postprocess per image at shape (1, 3, 480, 640)\n",
      "\n"
     ]
    },
    {
     "name": "stdout",
     "output_type": "stream",
     "text": [
      "Skipping Raw_Mango.5fb06340-ebd0-11ed-8d0c-346f24e2fa38.jpg due to low confidence.\n"
     ]
    },
    {
     "name": "stderr",
     "output_type": "stream",
     "text": [
      "0: 480x640 1 banana, 2 apples, 1 laptop, 48.4ms\n",
      "Speed: 0.9ms preprocess, 48.4ms inference, 0.5ms postprocess per image at shape (1, 3, 480, 640)\n",
      "\n",
      "0: 480x640 1 banana, 1 apple, 1 laptop, 46.9ms\n",
      "Speed: 0.9ms preprocess, 46.9ms inference, 0.5ms postprocess per image at shape (1, 3, 480, 640)\n",
      "\n",
      "0: 480x640 1 apple, 46.4ms\n",
      "Speed: 0.8ms preprocess, 46.4ms inference, 0.5ms postprocess per image at shape (1, 3, 480, 640)\n",
      "\n",
      "0: 480x640 1 person, 2 apples, 45.3ms\n",
      "Speed: 0.7ms preprocess, 45.3ms inference, 0.5ms postprocess per image at shape (1, 3, 480, 640)\n",
      "\n",
      "0: 480x640 2 apples, 45.8ms\n",
      "Speed: 1.1ms preprocess, 45.8ms inference, 0.5ms postprocess per image at shape (1, 3, 480, 640)\n",
      "\n",
      "0: 480x640 1 banana, 2 apples, 47.1ms\n",
      "Speed: 0.8ms preprocess, 47.1ms inference, 0.4ms postprocess per image at shape (1, 3, 480, 640)\n",
      "\n",
      "0: 480x640 (no detections), 44.8ms\n",
      "Speed: 0.9ms preprocess, 44.8ms inference, 0.3ms postprocess per image at shape (1, 3, 480, 640)\n",
      "\n",
      "0: 480x640 1 person, 2 apples, 46.6ms\n",
      "Speed: 1.0ms preprocess, 46.6ms inference, 0.5ms postprocess per image at shape (1, 3, 480, 640)\n",
      "\n",
      "0: 480x640 1 apple, 44.8ms\n",
      "Speed: 0.9ms preprocess, 44.8ms inference, 0.5ms postprocess per image at shape (1, 3, 480, 640)\n",
      "\n",
      "0: 480x640 1 person, 1 apple, 1 laptop, 45.5ms\n",
      "Speed: 0.9ms preprocess, 45.5ms inference, 0.5ms postprocess per image at shape (1, 3, 480, 640)\n",
      "\n"
     ]
    },
    {
     "name": "stdout",
     "output_type": "stream",
     "text": [
      "Skipping Raw_Mango.3b66abcc-ebe8-11ed-8897-346f24e2fa38.jpg due to no detection.\n"
     ]
    },
    {
     "name": "stderr",
     "output_type": "stream",
     "text": [
      "0: 480x640 1 knife, 1 apple, 45.3ms\n",
      "Speed: 0.8ms preprocess, 45.3ms inference, 0.5ms postprocess per image at shape (1, 3, 480, 640)\n",
      "\n",
      "0: 480x640 1 apple, 46.4ms\n",
      "Speed: 0.9ms preprocess, 46.4ms inference, 0.5ms postprocess per image at shape (1, 3, 480, 640)\n",
      "\n",
      "0: 480x640 (no detections), 45.8ms\n",
      "Speed: 0.9ms preprocess, 45.8ms inference, 0.3ms postprocess per image at shape (1, 3, 480, 640)\n",
      "\n",
      "0: 480x640 1 apple, 43.3ms\n",
      "Speed: 1.1ms preprocess, 43.3ms inference, 0.5ms postprocess per image at shape (1, 3, 480, 640)\n",
      "\n",
      "0: 480x640 1 airplane, 1 apple, 50.1ms\n",
      "Speed: 0.9ms preprocess, 50.1ms inference, 0.8ms postprocess per image at shape (1, 3, 480, 640)\n",
      "\n",
      "0: 480x640 1 apple, 48.5ms\n",
      "Speed: 0.9ms preprocess, 48.5ms inference, 0.5ms postprocess per image at shape (1, 3, 480, 640)\n",
      "\n"
     ]
    },
    {
     "name": "stdout",
     "output_type": "stream",
     "text": [
      "Skipping Raw_Mango.cddeb4f3-ebe7-11ed-a4d8-346f24e2fa38.jpg due to no detection.\n"
     ]
    },
    {
     "name": "stderr",
     "output_type": "stream",
     "text": [
      "0: 480x640 1 person, 1 apple, 1 laptop, 49.2ms\n",
      "Speed: 1.0ms preprocess, 49.2ms inference, 0.5ms postprocess per image at shape (1, 3, 480, 640)\n",
      "\n",
      "0: 480x640 3 bananas, 2 apples, 46.9ms\n",
      "Speed: 1.2ms preprocess, 46.9ms inference, 0.6ms postprocess per image at shape (1, 3, 480, 640)\n",
      "\n",
      "0: 480x640 1 apple, 49.6ms\n",
      "Speed: 0.9ms preprocess, 49.6ms inference, 0.6ms postprocess per image at shape (1, 3, 480, 640)\n",
      "\n",
      "0: 480x640 1 person, 1 apple, 47.1ms\n",
      "Speed: 0.9ms preprocess, 47.1ms inference, 0.4ms postprocess per image at shape (1, 3, 480, 640)\n",
      "\n",
      "0: 480x640 1 banana, 2 apples, 1 orange, 47.1ms\n",
      "Speed: 0.9ms preprocess, 47.1ms inference, 0.8ms postprocess per image at shape (1, 3, 480, 640)\n",
      "\n",
      "0: 480x640 1 knife, 1 apple, 46.9ms\n",
      "Speed: 0.9ms preprocess, 46.9ms inference, 0.4ms postprocess per image at shape (1, 3, 480, 640)\n",
      "\n"
     ]
    },
    {
     "name": "stdout",
     "output_type": "stream",
     "text": [
      "Skipping Raw_Mango.dde3360e-ebe8-11ed-a338-346f24e2fa38.jpg due to low confidence.\n",
      "Skipping Raw_Mango.7d97607a-ebe8-11ed-812c-346f24e2fa38.jpg due to low confidence.\n",
      "Skipping Raw_Mango.deb6b76e-ebe7-11ed-a0d1-346f24e2fa38.jpg due to low confidence.\n"
     ]
    },
    {
     "name": "stderr",
     "output_type": "stream",
     "text": [
      "0: 480x640 2 apples, 49.1ms\n",
      "Speed: 1.3ms preprocess, 49.1ms inference, 0.5ms postprocess per image at shape (1, 3, 480, 640)\n",
      "\n",
      "0: 480x640 1 person, 1 apple, 1 cell phone, 50.4ms\n",
      "Speed: 0.8ms preprocess, 50.4ms inference, 0.5ms postprocess per image at shape (1, 3, 480, 640)\n",
      "\n",
      "0: 480x640 2 apples, 1 dining table, 49.3ms\n",
      "Speed: 0.8ms preprocess, 49.3ms inference, 0.5ms postprocess per image at shape (1, 3, 480, 640)\n",
      "\n",
      "0: 480x640 2 apples, 1 orange, 52.7ms\n",
      "Speed: 1.0ms preprocess, 52.7ms inference, 0.4ms postprocess per image at shape (1, 3, 480, 640)\n",
      "\n",
      "0: 480x640 1 knife, 1 banana, 1 cell phone, 49.2ms\n",
      "Speed: 0.9ms preprocess, 49.2ms inference, 0.6ms postprocess per image at shape (1, 3, 480, 640)\n",
      "\n",
      "0: 480x640 1 person, 63.4ms\n",
      "Speed: 0.8ms preprocess, 63.4ms inference, 0.5ms postprocess per image at shape (1, 3, 480, 640)\n",
      "\n",
      "0: 480x640 1 apple, 1 laptop, 47.0ms\n",
      "Speed: 0.9ms preprocess, 47.0ms inference, 0.8ms postprocess per image at shape (1, 3, 480, 640)\n",
      "\n",
      "0: 480x640 1 banana, 47.8ms\n",
      "Speed: 1.0ms preprocess, 47.8ms inference, 0.5ms postprocess per image at shape (1, 3, 480, 640)\n",
      "\n",
      "0: 480x640 1 sports ball, 1 apple, 1 orange, 48.4ms\n",
      "Speed: 0.9ms preprocess, 48.4ms inference, 0.5ms postprocess per image at shape (1, 3, 480, 640)\n",
      "\n"
     ]
    },
    {
     "name": "stdout",
     "output_type": "stream",
     "text": [
      "Skipping Raw_Mango.8ad58509-ebe8-11ed-b8a2-346f24e2fa38.jpg due to low confidence.\n",
      "Skipping Raw_Mango_0_240.jpg due to low confidence.\n"
     ]
    },
    {
     "name": "stderr",
     "output_type": "stream",
     "text": [
      "0: 480x640 2 apples, 1 orange, 50.5ms\n",
      "Speed: 0.9ms preprocess, 50.5ms inference, 0.5ms postprocess per image at shape (1, 3, 480, 640)\n",
      "\n",
      "0: 480x640 2 apples, 51.7ms\n",
      "Speed: 0.9ms preprocess, 51.7ms inference, 0.4ms postprocess per image at shape (1, 3, 480, 640)\n",
      "\n",
      "0: 480x640 1 person, 1 apple, 47.2ms\n",
      "Speed: 0.8ms preprocess, 47.2ms inference, 0.7ms postprocess per image at shape (1, 3, 480, 640)\n",
      "\n",
      "0: 480x640 1 dining table, 1 laptop, 50.0ms\n",
      "Speed: 1.5ms preprocess, 50.0ms inference, 0.5ms postprocess per image at shape (1, 3, 480, 640)\n",
      "\n",
      "0: 480x640 1 apple, 47.8ms\n",
      "Speed: 0.9ms preprocess, 47.8ms inference, 0.6ms postprocess per image at shape (1, 3, 480, 640)\n",
      "\n",
      "0: 480x640 1 person, 1 boat, 1 apple, 49.8ms\n",
      "Speed: 1.0ms preprocess, 49.8ms inference, 0.5ms postprocess per image at shape (1, 3, 480, 640)\n",
      "\n",
      "0: 480x640 1 apple, 47.7ms\n",
      "Speed: 1.1ms preprocess, 47.7ms inference, 0.4ms postprocess per image at shape (1, 3, 480, 640)\n",
      "\n",
      "0: 480x640 1 bench, 1 laptop, 48.9ms\n",
      "Speed: 0.9ms preprocess, 48.9ms inference, 0.4ms postprocess per image at shape (1, 3, 480, 640)\n",
      "\n",
      "0: 480x640 2 apples, 46.8ms\n",
      "Speed: 1.1ms preprocess, 46.8ms inference, 0.6ms postprocess per image at shape (1, 3, 480, 640)\n",
      "\n",
      "0: 480x640 1 person, 1 apple, 1 orange, 47.5ms\n",
      "Speed: 0.9ms preprocess, 47.5ms inference, 0.5ms postprocess per image at shape (1, 3, 480, 640)\n",
      "\n"
     ]
    },
    {
     "name": "stdout",
     "output_type": "stream",
     "text": [
      "Skipping Raw_Mango.f6cb5675-ebe7-11ed-a98f-346f24e2fa38.jpg due to low confidence.\n",
      "Skipping Raw_Mango.e98c6ac5-ebe7-11ed-a298-346f24e2fa38.jpg due to low confidence.\n"
     ]
    },
    {
     "name": "stderr",
     "output_type": "stream",
     "text": [
      "0: 480x640 2 knifes, 50.3ms\n",
      "Speed: 0.9ms preprocess, 50.3ms inference, 0.4ms postprocess per image at shape (1, 3, 480, 640)\n",
      "\n",
      "0: 480x640 1 knife, 1 apple, 49.5ms\n",
      "Speed: 0.9ms preprocess, 49.5ms inference, 0.5ms postprocess per image at shape (1, 3, 480, 640)\n",
      "\n",
      "0: 480x640 1 spoon, 1 tv, 48.8ms\n",
      "Speed: 0.9ms preprocess, 48.8ms inference, 0.8ms postprocess per image at shape (1, 3, 480, 640)\n",
      "\n",
      "0: 480x640 1 apple, 48.8ms\n",
      "Speed: 0.8ms preprocess, 48.8ms inference, 0.5ms postprocess per image at shape (1, 3, 480, 640)\n",
      "\n"
     ]
    },
    {
     "name": "stdout",
     "output_type": "stream",
     "text": [
      "Skipping Raw_Mango.8e71f1b9-ebe8-11ed-8787-346f24e2fa38.jpg due to low confidence.\n",
      "Skipping Raw_Mango_0_1022.jpg due to low confidence.\n"
     ]
    },
    {
     "name": "stderr",
     "output_type": "stream",
     "text": [
      "0: 480x640 1 person, 1 sports ball, 49.2ms\n",
      "Speed: 0.8ms preprocess, 49.2ms inference, 0.5ms postprocess per image at shape (1, 3, 480, 640)\n",
      "\n",
      "0: 480x640 1 surfboard, 1 knife, 1 dining table, 1 laptop, 45.2ms\n",
      "Speed: 0.9ms preprocess, 45.2ms inference, 0.5ms postprocess per image at shape (1, 3, 480, 640)\n",
      "\n",
      "0: 480x640 1 person, 1 laptop, 1 mouse, 47.9ms\n",
      "Speed: 1.1ms preprocess, 47.9ms inference, 0.5ms postprocess per image at shape (1, 3, 480, 640)\n",
      "\n",
      "0: 480x640 1 person, 1 knife, 43.6ms\n",
      "Speed: 0.8ms preprocess, 43.6ms inference, 0.4ms postprocess per image at shape (1, 3, 480, 640)\n",
      "\n",
      "0: 480x640 1 person, 1 frisbee, 1 sports ball, 47.4ms\n",
      "Speed: 0.8ms preprocess, 47.4ms inference, 0.4ms postprocess per image at shape (1, 3, 480, 640)\n",
      "\n",
      "0: 480x640 1 person, 1 banana, 45.9ms\n",
      "Speed: 0.8ms preprocess, 45.9ms inference, 0.5ms postprocess per image at shape (1, 3, 480, 640)\n",
      "\n",
      "0: 480x640 1 apple, 46.4ms\n",
      "Speed: 1.0ms preprocess, 46.4ms inference, 0.5ms postprocess per image at shape (1, 3, 480, 640)\n",
      "\n"
     ]
    },
    {
     "name": "stdout",
     "output_type": "stream",
     "text": [
      "Skipping Raw_Mango.87389ec8-ebe8-11ed-97ec-346f24e2fa38.jpg due to low confidence.\n"
     ]
    },
    {
     "name": "stderr",
     "output_type": "stream",
     "text": [
      "0: 480x640 1 banana, 2 apples, 49.7ms\n",
      "Speed: 0.9ms preprocess, 49.7ms inference, 0.5ms postprocess per image at shape (1, 3, 480, 640)\n",
      "\n",
      "0: 480x640 1 person, 1 knife, 1 apple, 60.9ms\n",
      "Speed: 1.0ms preprocess, 60.9ms inference, 0.5ms postprocess per image at shape (1, 3, 480, 640)\n",
      "\n",
      "0: 480x640 2 apples, 46.8ms\n",
      "Speed: 0.9ms preprocess, 46.8ms inference, 0.5ms postprocess per image at shape (1, 3, 480, 640)\n",
      "\n",
      "0: 480x640 2 bananas, 1 apple, 1 laptop, 44.7ms\n",
      "Speed: 0.9ms preprocess, 44.7ms inference, 0.6ms postprocess per image at shape (1, 3, 480, 640)\n",
      "\n",
      "0: 480x640 1 person, 1 knife, 44.6ms\n",
      "Speed: 0.9ms preprocess, 44.6ms inference, 0.5ms postprocess per image at shape (1, 3, 480, 640)\n",
      "\n"
     ]
    },
    {
     "name": "stdout",
     "output_type": "stream",
     "text": [
      "Skipping Raw_Mango.e04ab52b-ebe8-11ed-8a36-346f24e2fa38.jpg due to low confidence.\n",
      "Skipping Raw_Mango.8133c19a-ebe8-11ed-acd7-346f24e2fa38.jpg due to low confidence.\n"
     ]
    },
    {
     "name": "stderr",
     "output_type": "stream",
     "text": [
      "0: 480x640 1 bird, 2 apples, 48.6ms\n",
      "Speed: 0.9ms preprocess, 48.6ms inference, 0.5ms postprocess per image at shape (1, 3, 480, 640)\n",
      "\n",
      "0: 480x640 1 banana, 1 apple, 47.8ms\n",
      "Speed: 0.8ms preprocess, 47.8ms inference, 0.5ms postprocess per image at shape (1, 3, 480, 640)\n",
      "\n",
      "0: 480x640 1 bench, 1 apple, 2 laptops, 49.1ms\n",
      "Speed: 0.9ms preprocess, 49.1ms inference, 0.5ms postprocess per image at shape (1, 3, 480, 640)\n",
      "\n",
      "0: 480x640 (no detections), 50.1ms\n",
      "Speed: 0.9ms preprocess, 50.1ms inference, 0.3ms postprocess per image at shape (1, 3, 480, 640)\n",
      "\n",
      "0: 480x640 1 apple, 59.3ms\n",
      "Speed: 0.9ms preprocess, 59.3ms inference, 0.5ms postprocess per image at shape (1, 3, 480, 640)\n",
      "\n",
      "0: 480x640 1 banana, 1 apple, 73.1ms\n",
      "Speed: 0.9ms preprocess, 73.1ms inference, 1.2ms postprocess per image at shape (1, 3, 480, 640)\n",
      "\n"
     ]
    },
    {
     "name": "stdout",
     "output_type": "stream",
     "text": [
      "Skipping Raw_Mango.694e355f-ebd0-11ed-887b-346f24e2fa38.jpg due to no detection.\n"
     ]
    },
    {
     "name": "stderr",
     "output_type": "stream",
     "text": [
      "0: 480x640 1 sports ball, 1 apple, 1 orange, 67.6ms\n",
      "Speed: 1.6ms preprocess, 67.6ms inference, 0.8ms postprocess per image at shape (1, 3, 480, 640)\n",
      "\n",
      "0: 480x640 2 apples, 1 orange, 63.8ms\n",
      "Speed: 1.4ms preprocess, 63.8ms inference, 0.8ms postprocess per image at shape (1, 3, 480, 640)\n",
      "\n",
      "0: 480x640 1 frisbee, 1 banana, 2 apples, 58.0ms\n",
      "Speed: 1.1ms preprocess, 58.0ms inference, 0.5ms postprocess per image at shape (1, 3, 480, 640)\n",
      "\n",
      "0: 480x640 1 apple, 53.4ms\n",
      "Speed: 1.0ms preprocess, 53.4ms inference, 0.6ms postprocess per image at shape (1, 3, 480, 640)\n",
      "\n",
      "0: 480x640 3 apples, 57.3ms\n",
      "Speed: 1.1ms preprocess, 57.3ms inference, 0.8ms postprocess per image at shape (1, 3, 480, 640)\n",
      "\n",
      "0: 480x640 1 suitcase, 54.4ms\n",
      "Speed: 1.0ms preprocess, 54.4ms inference, 0.5ms postprocess per image at shape (1, 3, 480, 640)\n",
      "\n",
      "0: 480x640 1 banana, 54.4ms\n",
      "Speed: 1.1ms preprocess, 54.4ms inference, 0.6ms postprocess per image at shape (1, 3, 480, 640)\n",
      "\n",
      "0: 480x640 1 apple, 51.3ms\n",
      "Speed: 1.3ms preprocess, 51.3ms inference, 0.5ms postprocess per image at shape (1, 3, 480, 640)\n",
      "\n",
      "0: 480x640 1 banana, 2 apples, 53.8ms\n",
      "Speed: 0.9ms preprocess, 53.8ms inference, 0.6ms postprocess per image at shape (1, 3, 480, 640)\n",
      "\n",
      "0: 480x640 2 persons, 1 banana, 49.8ms\n",
      "Speed: 0.8ms preprocess, 49.8ms inference, 0.5ms postprocess per image at shape (1, 3, 480, 640)\n",
      "\n"
     ]
    },
    {
     "name": "stdout",
     "output_type": "stream",
     "text": [
      "Skipping Raw_Mango.3c5898f6-ebdb-11ed-a634-346f24e2fa38.jpg due to low confidence.\n",
      "Skipping Raw_Mango.b1ed6258-ebda-11ed-9a44-346f24e2fa38.jpg due to low confidence.\n"
     ]
    },
    {
     "name": "stderr",
     "output_type": "stream",
     "text": [
      "0: 480x640 1 apple, 51.7ms\n",
      "Speed: 0.8ms preprocess, 51.7ms inference, 0.7ms postprocess per image at shape (1, 3, 480, 640)\n",
      "\n",
      "0: 480x640 1 knife, 78.9ms\n",
      "Speed: 1.4ms preprocess, 78.9ms inference, 0.5ms postprocess per image at shape (1, 3, 480, 640)\n",
      "\n",
      "0: 480x640 (no detections), 56.4ms\n",
      "Speed: 1.0ms preprocess, 56.4ms inference, 0.5ms postprocess per image at shape (1, 3, 480, 640)\n",
      "\n",
      "0: 480x640 1 apple, 55.7ms\n",
      "Speed: 1.0ms preprocess, 55.7ms inference, 0.5ms postprocess per image at shape (1, 3, 480, 640)\n",
      "\n",
      "0: 480x640 1 person, 1 skateboard, 1 apple, 1 orange, 55.0ms\n",
      "Speed: 1.5ms preprocess, 55.0ms inference, 0.6ms postprocess per image at shape (1, 3, 480, 640)\n",
      "\n"
     ]
    },
    {
     "name": "stdout",
     "output_type": "stream",
     "text": [
      "Skipping Raw_Mango.1ae5f084-ebe8-11ed-ad0b-346f24e2fa38.jpg due to low confidence.\n",
      "Skipping Raw_Mango.5715f12d-ebe8-11ed-974f-346f24e2fa38.jpg due to no detection.\n"
     ]
    },
    {
     "name": "stderr",
     "output_type": "stream",
     "text": [
      "0: 480x640 1 person, 2 apples, 61.3ms\n",
      "Speed: 1.0ms preprocess, 61.3ms inference, 0.6ms postprocess per image at shape (1, 3, 480, 640)\n",
      "\n",
      "0: 480x640 1 person, 1 laptop, 1 book, 50.7ms\n",
      "Speed: 1.3ms preprocess, 50.7ms inference, 0.5ms postprocess per image at shape (1, 3, 480, 640)\n",
      "\n",
      "0: 480x640 1 knife, 51.3ms\n",
      "Speed: 0.8ms preprocess, 51.3ms inference, 0.5ms postprocess per image at shape (1, 3, 480, 640)\n",
      "\n",
      "0: 480x640 1 apple, 52.2ms\n",
      "Speed: 0.9ms preprocess, 52.2ms inference, 0.8ms postprocess per image at shape (1, 3, 480, 640)\n",
      "\n",
      "0: 480x640 1 apple, 52.1ms\n",
      "Speed: 0.9ms preprocess, 52.1ms inference, 0.5ms postprocess per image at shape (1, 3, 480, 640)\n",
      "\n",
      "0: 480x640 1 sports ball, 51.1ms\n",
      "Speed: 0.9ms preprocess, 51.1ms inference, 0.5ms postprocess per image at shape (1, 3, 480, 640)\n",
      "\n"
     ]
    },
    {
     "name": "stdout",
     "output_type": "stream",
     "text": [
      "Skipping Raw_Mango_0_1180.jpg due to low confidence.\n",
      "Skipping Raw_Mango.50ccaf16-ebdb-11ed-bd8a-346f24e2fa38.jpg due to low confidence.\n"
     ]
    },
    {
     "name": "stderr",
     "output_type": "stream",
     "text": [
      "0: 480x640 1 banana, 1 dining table, 52.2ms\n",
      "Speed: 0.8ms preprocess, 52.2ms inference, 0.5ms postprocess per image at shape (1, 3, 480, 640)\n",
      "\n",
      "0: 480x640 2 apples, 66.6ms\n",
      "Speed: 1.2ms preprocess, 66.6ms inference, 0.5ms postprocess per image at shape (1, 3, 480, 640)\n",
      "\n",
      "0: 480x640 1 sports ball, 1 knife, 55.1ms\n",
      "Speed: 0.9ms preprocess, 55.1ms inference, 0.7ms postprocess per image at shape (1, 3, 480, 640)\n",
      "\n",
      "0: 480x640 1 banana, 2 apples, 51.4ms\n",
      "Speed: 1.0ms preprocess, 51.4ms inference, 0.5ms postprocess per image at shape (1, 3, 480, 640)\n",
      "\n"
     ]
    },
    {
     "name": "stdout",
     "output_type": "stream",
     "text": [
      "Skipping Raw_Mango.802dcbf3-ebd0-11ed-82d0-346f24e2fa38.jpg due to low confidence.\n",
      "Skipping Raw_Mango.3a32bef0-ebe8-11ed-93c6-346f24e2fa38.jpg due to low confidence.\n"
     ]
    },
    {
     "name": "stderr",
     "output_type": "stream",
     "text": [
      "0: 480x640 2 apples, 51.7ms\n",
      "Speed: 1.1ms preprocess, 51.7ms inference, 0.6ms postprocess per image at shape (1, 3, 480, 640)\n",
      "\n",
      "0: 480x640 1 apple, 1 orange, 50.0ms\n",
      "Speed: 0.9ms preprocess, 50.0ms inference, 0.4ms postprocess per image at shape (1, 3, 480, 640)\n",
      "\n",
      "0: 480x640 1 apple, 49.9ms\n",
      "Speed: 0.8ms preprocess, 49.9ms inference, 0.5ms postprocess per image at shape (1, 3, 480, 640)\n",
      "\n",
      "0: 480x640 1 banana, 1 apple, 50.9ms\n",
      "Speed: 1.3ms preprocess, 50.9ms inference, 0.5ms postprocess per image at shape (1, 3, 480, 640)\n",
      "\n",
      "0: 480x640 1 banana, 1 apple, 51.3ms\n",
      "Speed: 0.9ms preprocess, 51.3ms inference, 0.5ms postprocess per image at shape (1, 3, 480, 640)\n",
      "\n",
      "0: 480x640 1 bench, 57.7ms\n",
      "Speed: 0.9ms preprocess, 57.7ms inference, 0.5ms postprocess per image at shape (1, 3, 480, 640)\n",
      "\n",
      "0: 480x640 1 apple, 60.1ms\n",
      "Speed: 1.2ms preprocess, 60.1ms inference, 0.8ms postprocess per image at shape (1, 3, 480, 640)\n",
      "\n",
      "0: 480x640 1 apple, 1 dining table, 54.0ms\n",
      "Speed: 0.9ms preprocess, 54.0ms inference, 0.5ms postprocess per image at shape (1, 3, 480, 640)\n",
      "\n"
     ]
    },
    {
     "name": "stdout",
     "output_type": "stream",
     "text": [
      "Skipping Raw_Mango.634a43f7-ebd0-11ed-a3b1-346f24e2fa38.jpg due to low confidence.\n",
      "Skipping Raw_Mango_0_282.jpg due to low confidence.\n"
     ]
    },
    {
     "name": "stderr",
     "output_type": "stream",
     "text": [
      "0: 480x640 1 apple, 1 laptop, 52.9ms\n",
      "Speed: 1.0ms preprocess, 52.9ms inference, 0.4ms postprocess per image at shape (1, 3, 480, 640)\n",
      "\n",
      "0: 480x640 2 benchs, 1 apple, 1 laptop, 51.1ms\n",
      "Speed: 0.8ms preprocess, 51.1ms inference, 0.6ms postprocess per image at shape (1, 3, 480, 640)\n",
      "\n",
      "0: 480x640 1 knife, 1 apple, 48.8ms\n",
      "Speed: 1.3ms preprocess, 48.8ms inference, 0.5ms postprocess per image at shape (1, 3, 480, 640)\n",
      "\n",
      "0: 480x640 2 apples, 48.8ms\n",
      "Speed: 0.8ms preprocess, 48.8ms inference, 0.6ms postprocess per image at shape (1, 3, 480, 640)\n",
      "\n"
     ]
    },
    {
     "name": "stdout",
     "output_type": "stream",
     "text": [
      "Skipping Raw_Mango.96dd8290-ebe8-11ed-bc2f-346f24e2fa38.jpg due to low confidence.\n",
      "Skipping Raw_Mango.3c999c5c-ebe8-11ed-ad31-346f24e2fa38.jpg due to low confidence.\n",
      "Skipping Raw_Mango.4edde36f-ebd0-11ed-900a-346f24e2fa38.jpg due to low confidence.\n"
     ]
    },
    {
     "name": "stderr",
     "output_type": "stream",
     "text": [
      "0: 480x640 2 benchs, 1 apple, 1 laptop, 50.7ms\n",
      "Speed: 0.8ms preprocess, 50.7ms inference, 0.5ms postprocess per image at shape (1, 3, 480, 640)\n",
      "\n",
      "0: 480x640 1 banana, 1 apple, 67.4ms\n",
      "Speed: 1.3ms preprocess, 67.4ms inference, 0.5ms postprocess per image at shape (1, 3, 480, 640)\n",
      "\n",
      "0: 480x640 2 apples, 47.7ms\n",
      "Speed: 0.9ms preprocess, 47.7ms inference, 0.5ms postprocess per image at shape (1, 3, 480, 640)\n",
      "\n",
      "0: 480x640 1 apple, 1 orange, 46.9ms\n",
      "Speed: 0.9ms preprocess, 46.9ms inference, 0.5ms postprocess per image at shape (1, 3, 480, 640)\n",
      "\n",
      "0: 480x640 1 bench, 1 laptop, 1 mouse, 47.0ms\n",
      "Speed: 1.0ms preprocess, 47.0ms inference, 0.6ms postprocess per image at shape (1, 3, 480, 640)\n",
      "\n"
     ]
    },
    {
     "name": "stdout",
     "output_type": "stream",
     "text": [
      "Skipping Raw_Mango.1782455e-ebd0-11ed-8abf-346f24e2fa38.jpg due to low confidence.\n"
     ]
    },
    {
     "name": "stderr",
     "output_type": "stream",
     "text": [
      "0: 480x640 1 bird, 1 apple, 49.6ms\n",
      "Speed: 0.7ms preprocess, 49.6ms inference, 0.6ms postprocess per image at shape (1, 3, 480, 640)\n",
      "\n",
      "0: 480x640 2 persons, 2 apples, 48.7ms\n",
      "Speed: 0.9ms preprocess, 48.7ms inference, 0.7ms postprocess per image at shape (1, 3, 480, 640)\n",
      "\n",
      "0: 480x640 1 apple, 2 oranges, 47.4ms\n",
      "Speed: 0.8ms preprocess, 47.4ms inference, 0.4ms postprocess per image at shape (1, 3, 480, 640)\n",
      "\n",
      "0: 480x640 2 apples, 1 orange, 48.0ms\n",
      "Speed: 0.8ms preprocess, 48.0ms inference, 0.5ms postprocess per image at shape (1, 3, 480, 640)\n",
      "\n",
      "0: 480x640 2 apples, 48.5ms\n",
      "Speed: 1.0ms preprocess, 48.5ms inference, 0.4ms postprocess per image at shape (1, 3, 480, 640)\n",
      "\n",
      "0: 480x640 1 apple, 46.9ms\n",
      "Speed: 0.9ms preprocess, 46.9ms inference, 0.5ms postprocess per image at shape (1, 3, 480, 640)\n",
      "\n"
     ]
    },
    {
     "name": "stdout",
     "output_type": "stream",
     "text": [
      "Skipping Raw_Mango.bb283ebd-ebd0-11ed-a346-346f24e2fa38.jpg due to low confidence.\n"
     ]
    },
    {
     "name": "stderr",
     "output_type": "stream",
     "text": [
      "0: 480x640 2 apples, 47.8ms\n",
      "Speed: 0.8ms preprocess, 47.8ms inference, 0.6ms postprocess per image at shape (1, 3, 480, 640)\n",
      "\n",
      "0: 480x640 1 banana, 2 apples, 49.5ms\n",
      "Speed: 1.0ms preprocess, 49.5ms inference, 0.5ms postprocess per image at shape (1, 3, 480, 640)\n",
      "\n",
      "0: 480x640 2 apples, 46.6ms\n",
      "Speed: 1.0ms preprocess, 46.6ms inference, 0.5ms postprocess per image at shape (1, 3, 480, 640)\n",
      "\n",
      "0: 480x640 1 apple, 1 laptop, 1 mouse, 48.5ms\n",
      "Speed: 0.8ms preprocess, 48.5ms inference, 0.5ms postprocess per image at shape (1, 3, 480, 640)\n",
      "\n",
      "0: 480x640 1 spoon, 1 apple, 1 laptop, 1 mouse, 47.4ms\n",
      "Speed: 1.0ms preprocess, 47.4ms inference, 0.5ms postprocess per image at shape (1, 3, 480, 640)\n",
      "\n",
      "0: 480x640 1 person, 46.7ms\n",
      "Speed: 1.1ms preprocess, 46.7ms inference, 0.7ms postprocess per image at shape (1, 3, 480, 640)\n",
      "\n"
     ]
    },
    {
     "name": "stdout",
     "output_type": "stream",
     "text": [
      "Skipping Raw_Mango.f80000ea-ebe7-11ed-b9c6-346f24e2fa38.jpg due to low confidence.\n"
     ]
    },
    {
     "name": "stderr",
     "output_type": "stream",
     "text": [
      "0: 480x640 1 person, 2 apples, 48.0ms\n",
      "Speed: 0.8ms preprocess, 48.0ms inference, 0.8ms postprocess per image at shape (1, 3, 480, 640)\n",
      "\n",
      "0: 480x640 1 banana, 1 apple, 60.6ms\n",
      "Speed: 1.4ms preprocess, 60.6ms inference, 0.5ms postprocess per image at shape (1, 3, 480, 640)\n",
      "\n",
      "0: 480x640 1 banana, 46.0ms\n",
      "Speed: 0.9ms preprocess, 46.0ms inference, 0.4ms postprocess per image at shape (1, 3, 480, 640)\n",
      "\n",
      "0: 480x640 1 apple, 62.6ms\n",
      "Speed: 0.9ms preprocess, 62.6ms inference, 0.5ms postprocess per image at shape (1, 3, 480, 640)\n",
      "\n",
      "0: 480x640 2 apples, 49.4ms\n",
      "Speed: 0.9ms preprocess, 49.4ms inference, 0.5ms postprocess per image at shape (1, 3, 480, 640)\n",
      "\n",
      "0: 480x640 1 person, 48.6ms\n",
      "Speed: 0.7ms preprocess, 48.6ms inference, 0.6ms postprocess per image at shape (1, 3, 480, 640)\n",
      "\n"
     ]
    },
    {
     "name": "stdout",
     "output_type": "stream",
     "text": [
      "Skipping Raw_Mango.c5ce8162-ebe8-11ed-baa8-346f24e2fa38.jpg due to low confidence.\n"
     ]
    },
    {
     "name": "stderr",
     "output_type": "stream",
     "text": [
      "0: 480x640 2 laptops, 50.9ms\n",
      "Speed: 0.9ms preprocess, 50.9ms inference, 0.5ms postprocess per image at shape (1, 3, 480, 640)\n",
      "\n",
      "0: 480x640 1 person, 1 knife, 1 apple, 1 scissors, 48.6ms\n",
      "Speed: 0.8ms preprocess, 48.6ms inference, 0.5ms postprocess per image at shape (1, 3, 480, 640)\n",
      "\n",
      "0: 480x640 2 apples, 49.5ms\n",
      "Speed: 0.9ms preprocess, 49.5ms inference, 0.5ms postprocess per image at shape (1, 3, 480, 640)\n",
      "\n",
      "0: 480x640 1 apple, 1 laptop, 48.0ms\n",
      "Speed: 1.6ms preprocess, 48.0ms inference, 0.5ms postprocess per image at shape (1, 3, 480, 640)\n",
      "\n",
      "0: 480x640 1 bench, 1 laptop, 48.3ms\n",
      "Speed: 0.9ms preprocess, 48.3ms inference, 0.4ms postprocess per image at shape (1, 3, 480, 640)\n",
      "\n"
     ]
    },
    {
     "name": "stdout",
     "output_type": "stream",
     "text": [
      "Skipping Raw_Mango.8269c671-ebe8-11ed-805e-346f24e2fa38.jpg due to low confidence.\n",
      "Skipping Raw_Mango.a893b0ca-ebe7-11ed-bc40-346f24e2fa38.jpg due to low confidence.\n"
     ]
    },
    {
     "name": "stderr",
     "output_type": "stream",
     "text": [
      "0: 480x640 1 apple, 49.1ms\n",
      "Speed: 1.0ms preprocess, 49.1ms inference, 0.5ms postprocess per image at shape (1, 3, 480, 640)\n",
      "\n",
      "0: 480x640 1 person, 2 apples, 49.1ms\n",
      "Speed: 1.1ms preprocess, 49.1ms inference, 0.5ms postprocess per image at shape (1, 3, 480, 640)\n",
      "\n",
      "0: 480x640 1 bench, 1 banana, 1 laptop, 48.2ms\n",
      "Speed: 0.9ms preprocess, 48.2ms inference, 0.6ms postprocess per image at shape (1, 3, 480, 640)\n",
      "\n",
      "0: 480x640 2 apples, 44.8ms\n",
      "Speed: 0.9ms preprocess, 44.8ms inference, 0.5ms postprocess per image at shape (1, 3, 480, 640)\n",
      "\n",
      "0: 480x640 2 persons, 2 apples, 1 remote, 1 cell phone, 49.6ms\n",
      "Speed: 0.9ms preprocess, 49.6ms inference, 0.6ms postprocess per image at shape (1, 3, 480, 640)\n",
      "\n",
      "0: 480x640 1 bench, 2 laptops, 50.1ms\n",
      "Speed: 0.8ms preprocess, 50.1ms inference, 0.6ms postprocess per image at shape (1, 3, 480, 640)\n",
      "\n",
      "0: 480x640 1 apple, 49.7ms\n",
      "Speed: 0.8ms preprocess, 49.7ms inference, 0.6ms postprocess per image at shape (1, 3, 480, 640)\n",
      "\n",
      "0: 480x640 1 person, 1 apple, 49.2ms\n",
      "Speed: 0.9ms preprocess, 49.2ms inference, 0.5ms postprocess per image at shape (1, 3, 480, 640)\n",
      "\n",
      "0: 480x640 1 person, 1 frisbee, 1 sports ball, 1 apple, 49.2ms\n",
      "Speed: 0.7ms preprocess, 49.2ms inference, 0.5ms postprocess per image at shape (1, 3, 480, 640)\n",
      "\n",
      "0: 480x640 1 train, 1 banana, 2 apples, 67.4ms\n",
      "Speed: 1.0ms preprocess, 67.4ms inference, 0.6ms postprocess per image at shape (1, 3, 480, 640)\n",
      "\n"
     ]
    },
    {
     "name": "stdout",
     "output_type": "stream",
     "text": [
      "Skipping Raw_Mango.32397e49-ebda-11ed-9e79-346f24e2fa38.jpg due to low confidence.\n"
     ]
    },
    {
     "name": "stderr",
     "output_type": "stream",
     "text": [
      "0: 480x640 (no detections), 50.2ms\n",
      "Speed: 0.8ms preprocess, 50.2ms inference, 0.3ms postprocess per image at shape (1, 3, 480, 640)\n",
      "\n",
      "0: 480x640 2 bananas, 1 apple, 48.5ms\n",
      "Speed: 0.8ms preprocess, 48.5ms inference, 0.4ms postprocess per image at shape (1, 3, 480, 640)\n",
      "\n",
      "0: 480x640 1 apple, 50.0ms\n",
      "Speed: 1.0ms preprocess, 50.0ms inference, 0.5ms postprocess per image at shape (1, 3, 480, 640)\n",
      "\n",
      "0: 480x640 2 apples, 54.3ms\n",
      "Speed: 1.1ms preprocess, 54.3ms inference, 0.4ms postprocess per image at shape (1, 3, 480, 640)\n",
      "\n"
     ]
    },
    {
     "name": "stdout",
     "output_type": "stream",
     "text": [
      "Skipping Raw_Mango.55e0f052-ebe8-11ed-8df8-346f24e2fa38.jpg due to no detection.\n",
      "Skipping Raw_Mango.8c337ebc-ebd0-11ed-8cc1-346f24e2fa38.jpg due to low confidence.\n"
     ]
    },
    {
     "name": "stderr",
     "output_type": "stream",
     "text": [
      "0: 480x640 1 banana, 2 apples, 55.2ms\n",
      "Speed: 1.0ms preprocess, 55.2ms inference, 0.5ms postprocess per image at shape (1, 3, 480, 640)\n",
      "\n",
      "0: 480x640 (no detections), 54.8ms\n",
      "Speed: 1.1ms preprocess, 54.8ms inference, 0.4ms postprocess per image at shape (1, 3, 480, 640)\n",
      "\n",
      "0: 480x640 1 bench, 1 apple, 2 laptops, 54.9ms\n",
      "Speed: 0.9ms preprocess, 54.9ms inference, 0.5ms postprocess per image at shape (1, 3, 480, 640)\n",
      "\n",
      "0: 480x640 1 person, 4 bananas, 2 apples, 55.9ms\n",
      "Speed: 0.9ms preprocess, 55.9ms inference, 0.5ms postprocess per image at shape (1, 3, 480, 640)\n",
      "\n",
      "0: 480x640 1 banana, 2 apples, 1 orange, 59.6ms\n",
      "Speed: 0.9ms preprocess, 59.6ms inference, 0.5ms postprocess per image at shape (1, 3, 480, 640)\n",
      "\n"
     ]
    },
    {
     "name": "stdout",
     "output_type": "stream",
     "text": [
      "Skipping Raw_Mango_0_715.jpg due to no detection.\n"
     ]
    },
    {
     "name": "stderr",
     "output_type": "stream",
     "text": [
      "0: 480x640 1 laptop, 62.9ms\n",
      "Speed: 1.0ms preprocess, 62.9ms inference, 0.6ms postprocess per image at shape (1, 3, 480, 640)\n",
      "\n",
      "0: 480x640 3 apples, 59.3ms\n",
      "Speed: 1.1ms preprocess, 59.3ms inference, 0.5ms postprocess per image at shape (1, 3, 480, 640)\n",
      "\n",
      "0: 480x640 1 apple, 1 laptop, 54.2ms\n",
      "Speed: 1.0ms preprocess, 54.2ms inference, 0.5ms postprocess per image at shape (1, 3, 480, 640)\n",
      "\n",
      "0: 480x640 1 apple, 53.4ms\n",
      "Speed: 1.0ms preprocess, 53.4ms inference, 0.6ms postprocess per image at shape (1, 3, 480, 640)\n",
      "\n"
     ]
    },
    {
     "name": "stdout",
     "output_type": "stream",
     "text": [
      "Skipping Raw_Mango.ce663952-ebd0-11ed-a91d-346f24e2fa38.jpg due to low confidence.\n"
     ]
    },
    {
     "name": "stderr",
     "output_type": "stream",
     "text": [
      "0: 480x640 1 laptop, 73.7ms\n",
      "Speed: 0.9ms preprocess, 73.7ms inference, 0.6ms postprocess per image at shape (1, 3, 480, 640)\n",
      "\n",
      "0: 480x640 1 sports ball, 2 apples, 55.2ms\n",
      "Speed: 1.0ms preprocess, 55.2ms inference, 0.5ms postprocess per image at shape (1, 3, 480, 640)\n",
      "\n",
      "0: 480x640 2 apples, 54.4ms\n",
      "Speed: 0.8ms preprocess, 54.4ms inference, 0.5ms postprocess per image at shape (1, 3, 480, 640)\n",
      "\n",
      "0: 480x640 1 apple, 1 orange, 56.3ms\n",
      "Speed: 1.0ms preprocess, 56.3ms inference, 0.5ms postprocess per image at shape (1, 3, 480, 640)\n",
      "\n",
      "0: 480x640 1 banana, 2 apples, 51.1ms\n",
      "Speed: 1.1ms preprocess, 51.1ms inference, 0.5ms postprocess per image at shape (1, 3, 480, 640)\n",
      "\n",
      "0: 480x640 1 person, 1 apple, 50.2ms\n",
      "Speed: 0.8ms preprocess, 50.2ms inference, 0.7ms postprocess per image at shape (1, 3, 480, 640)\n",
      "\n",
      "0: 480x640 1 apple, 50.6ms\n",
      "Speed: 0.8ms preprocess, 50.6ms inference, 0.5ms postprocess per image at shape (1, 3, 480, 640)\n",
      "\n",
      "0: 480x640 1 banana, 1 apple, 49.1ms\n",
      "Speed: 1.0ms preprocess, 49.1ms inference, 0.5ms postprocess per image at shape (1, 3, 480, 640)\n",
      "\n",
      "0: 480x640 (no detections), 47.5ms\n",
      "Speed: 0.9ms preprocess, 47.5ms inference, 0.6ms postprocess per image at shape (1, 3, 480, 640)\n",
      "\n",
      "0: 480x640 (no detections), 48.6ms\n",
      "Speed: 0.8ms preprocess, 48.6ms inference, 0.4ms postprocess per image at shape (1, 3, 480, 640)\n",
      "\n",
      "0: 480x640 2 apples, 47.9ms\n",
      "Speed: 0.9ms preprocess, 47.9ms inference, 0.5ms postprocess per image at shape (1, 3, 480, 640)\n",
      "\n",
      "0: 480x640 1 apple, 1 laptop, 51.7ms\n",
      "Speed: 0.8ms preprocess, 51.7ms inference, 0.5ms postprocess per image at shape (1, 3, 480, 640)\n",
      "\n"
     ]
    },
    {
     "name": "stdout",
     "output_type": "stream",
     "text": [
      "Skipping Raw_Mango.00aa53cd-ebd0-11ed-81c5-346f24e2fa38.jpg due to no detection.\n",
      "Skipping Raw_Mango_0_18.jpg due to no detection.\n"
     ]
    },
    {
     "name": "stderr",
     "output_type": "stream",
     "text": [
      "0: 480x640 (no detections), 54.7ms\n",
      "Speed: 1.2ms preprocess, 54.7ms inference, 0.4ms postprocess per image at shape (1, 3, 480, 640)\n",
      "\n",
      "0: 480x640 1 banana, 61.9ms\n",
      "Speed: 1.1ms preprocess, 61.9ms inference, 0.5ms postprocess per image at shape (1, 3, 480, 640)\n",
      "\n",
      "0: 480x640 2 apples, 1 dining table, 57.1ms\n",
      "Speed: 1.4ms preprocess, 57.1ms inference, 0.5ms postprocess per image at shape (1, 3, 480, 640)\n",
      "\n",
      "0: 480x640 1 person, 1 banana, 59.3ms\n",
      "Speed: 1.3ms preprocess, 59.3ms inference, 0.5ms postprocess per image at shape (1, 3, 480, 640)\n"
     ]
    },
    {
     "name": "stdout",
     "output_type": "stream",
     "text": [
      "Skipping Raw_Mango.e9e9f747-ebe8-11ed-9227-346f24e2fa38.jpg due to no detection.\n"
     ]
    },
    {
     "name": "stderr",
     "output_type": "stream",
     "text": [
      "\n",
      "0: 480x640 1 banana, 3 apples, 1 orange, 70.9ms\n",
      "Speed: 0.9ms preprocess, 70.9ms inference, 0.5ms postprocess per image at shape (1, 3, 480, 640)\n",
      "\n",
      "0: 480x640 1 sports ball, 1 apple, 52.4ms\n",
      "Speed: 1.1ms preprocess, 52.4ms inference, 0.5ms postprocess per image at shape (1, 3, 480, 640)\n",
      "\n",
      "0: 480x640 1 person, 49.7ms\n",
      "Speed: 0.9ms preprocess, 49.7ms inference, 0.5ms postprocess per image at shape (1, 3, 480, 640)\n",
      "\n",
      "0: 480x640 2 apples, 56.1ms\n",
      "Speed: 0.9ms preprocess, 56.1ms inference, 0.6ms postprocess per image at shape (1, 3, 480, 640)\n",
      "\n",
      "0: 480x640 1 person, 1 handbag, 1 banana, 2 apples, 53.2ms\n",
      "Speed: 1.1ms preprocess, 53.2ms inference, 0.5ms postprocess per image at shape (1, 3, 480, 640)\n",
      "\n"
     ]
    },
    {
     "name": "stdout",
     "output_type": "stream",
     "text": [
      "Skipping Raw_Mango_0_1165.jpg due to low confidence.\n"
     ]
    },
    {
     "name": "stderr",
     "output_type": "stream",
     "text": [
      "0: 480x640 1 banana, 1 apple, 54.5ms\n",
      "Speed: 1.2ms preprocess, 54.5ms inference, 0.5ms postprocess per image at shape (1, 3, 480, 640)\n",
      "\n",
      "0: 480x640 (no detections), 49.9ms\n",
      "Speed: 0.9ms preprocess, 49.9ms inference, 0.3ms postprocess per image at shape (1, 3, 480, 640)\n",
      "\n",
      "0: 480x640 (no detections), 47.2ms\n",
      "Speed: 1.2ms preprocess, 47.2ms inference, 0.3ms postprocess per image at shape (1, 3, 480, 640)\n",
      "\n",
      "0: 480x640 1 apple, 1 laptop, 49.1ms\n",
      "Speed: 0.8ms preprocess, 49.1ms inference, 0.6ms postprocess per image at shape (1, 3, 480, 640)\n",
      "\n",
      "0: 480x640 3 apples, 49.6ms\n",
      "Speed: 0.8ms preprocess, 49.6ms inference, 0.7ms postprocess per image at shape (1, 3, 480, 640)\n",
      "\n"
     ]
    },
    {
     "name": "stdout",
     "output_type": "stream",
     "text": [
      "Skipping Raw_Mango.59fb30fe-ebda-11ed-818f-346f24e2fa38.jpg due to no detection.\n",
      "Skipping Raw_Mango.e5ef3e24-ebe7-11ed-9c83-346f24e2fa38.jpg due to no detection.\n"
     ]
    },
    {
     "name": "stderr",
     "output_type": "stream",
     "text": [
      "0: 480x640 1 banana, 1 apple, 48.8ms\n",
      "Speed: 0.9ms preprocess, 48.8ms inference, 0.5ms postprocess per image at shape (1, 3, 480, 640)\n",
      "\n",
      "0: 480x640 2 bananas, 1 apple, 51.1ms\n",
      "Speed: 1.4ms preprocess, 51.1ms inference, 0.5ms postprocess per image at shape (1, 3, 480, 640)\n",
      "\n",
      "0: 480x640 1 bench, 1 banana, 1 apple, 1 laptop, 1 keyboard, 50.3ms\n",
      "Speed: 1.0ms preprocess, 50.3ms inference, 0.5ms postprocess per image at shape (1, 3, 480, 640)\n",
      "\n",
      "0: 480x640 1 apple, 49.7ms\n",
      "Speed: 1.0ms preprocess, 49.7ms inference, 0.5ms postprocess per image at shape (1, 3, 480, 640)\n",
      "\n"
     ]
    },
    {
     "name": "stdout",
     "output_type": "stream",
     "text": [
      "Skipping Raw_Mango.6bb82180-ebd0-11ed-84f8-346f24e2fa38.jpg due to low confidence.\n",
      "Skipping Raw_Mango.db1a62b3-ebe7-11ed-a15f-346f24e2fa38.jpg due to low confidence.\n"
     ]
    },
    {
     "name": "stderr",
     "output_type": "stream",
     "text": [
      "0: 480x640 1 apple, 2 laptops, 52.2ms\n",
      "Speed: 1.0ms preprocess, 52.2ms inference, 0.6ms postprocess per image at shape (1, 3, 480, 640)\n",
      "\n",
      "0: 480x640 (no detections), 69.1ms\n",
      "Speed: 0.9ms preprocess, 69.1ms inference, 0.4ms postprocess per image at shape (1, 3, 480, 640)\n",
      "\n",
      "0: 480x640 (no detections), 47.3ms\n",
      "Speed: 0.9ms preprocess, 47.3ms inference, 0.4ms postprocess per image at shape (1, 3, 480, 640)\n",
      "\n",
      "0: 480x640 3 apples, 51.4ms\n",
      "Speed: 1.4ms preprocess, 51.4ms inference, 0.6ms postprocess per image at shape (1, 3, 480, 640)\n",
      "\n",
      "0: 480x640 1 banana, 1 apple, 52.1ms\n",
      "Speed: 0.9ms preprocess, 52.1ms inference, 0.6ms postprocess per image at shape (1, 3, 480, 640)\n",
      "\n"
     ]
    },
    {
     "name": "stdout",
     "output_type": "stream",
     "text": [
      "Skipping Raw_Mango.ff00304e-eb54-11ed-a51f-088fc3734c75.jpg due to no detection.\n",
      "Skipping Raw_Mango.c49b36d3-ebe8-11ed-aa5e-346f24e2fa38.jpg due to no detection.\n",
      "Skipping Raw_Mango.587ed845-ebd0-11ed-bfd8-346f24e2fa38.jpg due to low confidence.\n"
     ]
    },
    {
     "name": "stderr",
     "output_type": "stream",
     "text": [
      "0: 480x640 2 apples, 1 orange, 54.1ms\n",
      "Speed: 1.6ms preprocess, 54.1ms inference, 0.8ms postprocess per image at shape (1, 3, 480, 640)\n",
      "\n",
      "0: 480x640 2 apples, 51.8ms\n",
      "Speed: 1.0ms preprocess, 51.8ms inference, 0.7ms postprocess per image at shape (1, 3, 480, 640)\n",
      "\n",
      "0: 480x640 2 apples, 1 dining table, 1 laptop, 52.1ms\n",
      "Speed: 1.3ms preprocess, 52.1ms inference, 0.7ms postprocess per image at shape (1, 3, 480, 640)\n",
      "\n",
      "0: 480x640 1 person, 1 banana, 2 apples, 52.1ms\n",
      "Speed: 0.8ms preprocess, 52.1ms inference, 0.6ms postprocess per image at shape (1, 3, 480, 640)\n",
      "\n",
      "0: 480x640 1 apple, 1 orange, 52.3ms\n",
      "Speed: 0.9ms preprocess, 52.3ms inference, 0.5ms postprocess per image at shape (1, 3, 480, 640)\n",
      "\n",
      "0: 480x640 1 apple, 50.7ms\n",
      "Speed: 0.9ms preprocess, 50.7ms inference, 0.5ms postprocess per image at shape (1, 3, 480, 640)\n",
      "\n"
     ]
    },
    {
     "name": "stdout",
     "output_type": "stream",
     "text": [
      "Skipping Raw_Mango.954f666d-ebe7-11ed-8f36-346f24e2fa38.jpg due to low confidence.\n"
     ]
    },
    {
     "name": "stderr",
     "output_type": "stream",
     "text": [
      "0: 480x640 1 knife, 1 banana, 1 apple, 55.4ms\n",
      "Speed: 0.9ms preprocess, 55.4ms inference, 0.4ms postprocess per image at shape (1, 3, 480, 640)\n",
      "\n",
      "0: 480x640 1 sports ball, 1 banana, 3 apples, 56.0ms\n",
      "Speed: 1.1ms preprocess, 56.0ms inference, 0.5ms postprocess per image at shape (1, 3, 480, 640)\n",
      "\n",
      "0: 480x640 1 apple, 53.1ms\n",
      "Speed: 0.9ms preprocess, 53.1ms inference, 0.5ms postprocess per image at shape (1, 3, 480, 640)\n",
      "\n",
      "0: 480x640 1 apple, 51.7ms\n",
      "Speed: 0.9ms preprocess, 51.7ms inference, 0.5ms postprocess per image at shape (1, 3, 480, 640)\n",
      "\n"
     ]
    },
    {
     "name": "stdout",
     "output_type": "stream",
     "text": [
      "Skipping Raw_Mango.7662c5be-ebe8-11ed-aa27-346f24e2fa38.jpg due to low confidence.\n",
      "Skipping Raw_Mango.9aa52e07-ebd0-11ed-aac9-346f24e2fa38.jpg due to low confidence.\n"
     ]
    },
    {
     "name": "stderr",
     "output_type": "stream",
     "text": [
      "0: 480x640 1 person, 1 laptop, 1 mouse, 52.6ms\n",
      "Speed: 0.9ms preprocess, 52.6ms inference, 0.6ms postprocess per image at shape (1, 3, 480, 640)\n",
      "\n",
      "0: 480x640 1 apple, 1 laptop, 70.9ms\n",
      "Speed: 1.4ms preprocess, 70.9ms inference, 0.5ms postprocess per image at shape (1, 3, 480, 640)\n",
      "\n",
      "0: 480x640 1 person, 1 knife, 1 apple, 1 laptop, 51.3ms\n",
      "Speed: 1.0ms preprocess, 51.3ms inference, 0.5ms postprocess per image at shape (1, 3, 480, 640)\n",
      "\n",
      "0: 480x640 1 apple, 50.5ms\n",
      "Speed: 0.9ms preprocess, 50.5ms inference, 0.5ms postprocess per image at shape (1, 3, 480, 640)\n",
      "\n",
      "0: 480x640 1 banana, 2 apples, 48.8ms\n",
      "Speed: 1.0ms preprocess, 48.8ms inference, 0.5ms postprocess per image at shape (1, 3, 480, 640)\n",
      "\n",
      "0: 480x640 1 apple, 2 laptops, 51.8ms\n",
      "Speed: 0.8ms preprocess, 51.8ms inference, 0.5ms postprocess per image at shape (1, 3, 480, 640)\n",
      "\n",
      "0: 480x640 1 person, 1 banana, 3 apples, 50.4ms\n",
      "Speed: 0.8ms preprocess, 50.4ms inference, 0.6ms postprocess per image at shape (1, 3, 480, 640)\n",
      "\n",
      "0: 480x640 1 banana, 51.0ms\n",
      "Speed: 0.9ms preprocess, 51.0ms inference, 0.5ms postprocess per image at shape (1, 3, 480, 640)\n",
      "\n",
      "0: 480x640 1 bench, 1 apple, 1 laptop, 55.5ms\n",
      "Speed: 1.1ms preprocess, 55.5ms inference, 0.5ms postprocess per image at shape (1, 3, 480, 640)\n",
      "\n",
      "0: 480x640 2 persons, 1 surfboard, 1 apple, 1 cell phone, 55.0ms\n",
      "Speed: 1.1ms preprocess, 55.0ms inference, 0.6ms postprocess per image at shape (1, 3, 480, 640)\n",
      "\n",
      "0: 480x640 1 apple, 50.1ms\n",
      "Speed: 0.8ms preprocess, 50.1ms inference, 0.5ms postprocess per image at shape (1, 3, 480, 640)\n",
      "\n",
      "0: 480x640 1 person, 1 banana, 1 apple, 56.8ms\n",
      "Speed: 1.0ms preprocess, 56.8ms inference, 0.5ms postprocess per image at shape (1, 3, 480, 640)\n",
      "\n",
      "0: 480x640 1 person, 1 sports ball, 57.5ms\n",
      "Speed: 1.0ms preprocess, 57.5ms inference, 0.5ms postprocess per image at shape (1, 3, 480, 640)\n",
      "\n",
      "0: 480x640 1 banana, 2 apples, 1 dining table, 51.0ms\n",
      "Speed: 1.2ms preprocess, 51.0ms inference, 0.5ms postprocess per image at shape (1, 3, 480, 640)\n",
      "\n",
      "0: 480x640 1 sports ball, 50.4ms\n",
      "Speed: 1.1ms preprocess, 50.4ms inference, 0.7ms postprocess per image at shape (1, 3, 480, 640)\n",
      "\n",
      "0: 480x640 1 mouse, 53.6ms\n",
      "Speed: 1.3ms preprocess, 53.6ms inference, 0.7ms postprocess per image at shape (1, 3, 480, 640)\n",
      "\n",
      "0: 480x640 1 banana, 2 apples, 1 orange, 54.7ms\n",
      "Speed: 0.8ms preprocess, 54.7ms inference, 0.5ms postprocess per image at shape (1, 3, 480, 640)\n",
      "\n",
      "0: 480x640 1 apple, 1 laptop, 55.6ms\n",
      "Speed: 0.7ms preprocess, 55.6ms inference, 0.5ms postprocess per image at shape (1, 3, 480, 640)\n",
      "\n"
     ]
    },
    {
     "name": "stdout",
     "output_type": "stream",
     "text": [
      "Skipping Raw_Mango.52437e34-ebe8-11ed-9b75-346f24e2fa38.jpg due to low confidence.\n",
      "Skipping Raw_Mango.1c18e245-ebe8-11ed-aa58-346f24e2fa38.jpg due to low confidence.\n"
     ]
    },
    {
     "name": "stderr",
     "output_type": "stream",
     "text": [
      "0: 480x640 1 banana, 1 dining table, 57.2ms\n",
      "Speed: 0.8ms preprocess, 57.2ms inference, 0.5ms postprocess per image at shape (1, 3, 480, 640)\n",
      "\n",
      "0: 480x640 1 person, 2 apples, 51.5ms\n",
      "Speed: 0.9ms preprocess, 51.5ms inference, 0.5ms postprocess per image at shape (1, 3, 480, 640)\n",
      "\n",
      "0: 480x640 2 apples, 1 microwave, 51.2ms\n",
      "Speed: 1.0ms preprocess, 51.2ms inference, 0.5ms postprocess per image at shape (1, 3, 480, 640)\n",
      "\n",
      "0: 480x640 2 apples, 53.3ms\n",
      "Speed: 1.0ms preprocess, 53.3ms inference, 0.5ms postprocess per image at shape (1, 3, 480, 640)\n",
      "\n",
      "0: 480x640 1 apple, 1 laptop, 48.7ms\n",
      "Speed: 0.9ms preprocess, 48.7ms inference, 0.6ms postprocess per image at shape (1, 3, 480, 640)\n",
      "\n"
     ]
    },
    {
     "name": "stdout",
     "output_type": "stream",
     "text": [
      "Skipping Raw_Mango.e64faf20-ebe8-11ed-baf1-346f24e2fa38.jpg due to low confidence.\n"
     ]
    },
    {
     "name": "stderr",
     "output_type": "stream",
     "text": [
      "0: 480x640 3 apples, 1 orange, 74.6ms\n",
      "Speed: 1.0ms preprocess, 74.6ms inference, 0.6ms postprocess per image at shape (1, 3, 480, 640)\n",
      "\n",
      "0: 480x640 1 apple, 2 laptops, 46.9ms\n",
      "Speed: 1.3ms preprocess, 46.9ms inference, 0.5ms postprocess per image at shape (1, 3, 480, 640)\n",
      "\n",
      "0: 480x640 1 person, 51.1ms\n",
      "Speed: 0.8ms preprocess, 51.1ms inference, 0.5ms postprocess per image at shape (1, 3, 480, 640)\n",
      "\n",
      "0: 480x640 1 apple, 49.7ms\n",
      "Speed: 1.2ms preprocess, 49.7ms inference, 0.5ms postprocess per image at shape (1, 3, 480, 640)\n",
      "\n",
      "0: 480x640 1 banana, 3 apples, 52.6ms\n",
      "Speed: 1.2ms preprocess, 52.6ms inference, 0.5ms postprocess per image at shape (1, 3, 480, 640)\n",
      "\n",
      "0: 480x640 1 apple, 55.4ms\n",
      "Speed: 0.8ms preprocess, 55.4ms inference, 0.6ms postprocess per image at shape (1, 3, 480, 640)\n",
      "\n"
     ]
    },
    {
     "name": "stdout",
     "output_type": "stream",
     "text": [
      "Skipping Raw_Mango.55a071f0-ebdb-11ed-b577-346f24e2fa38.jpg due to low confidence.\n",
      "Skipping Raw_Mango.87651476-ebd0-11ed-a5c1-346f24e2fa38.jpg due to low confidence.\n"
     ]
    },
    {
     "name": "stderr",
     "output_type": "stream",
     "text": [
      "0: 480x640 1 person, 2 apples, 58.0ms\n",
      "Speed: 1.0ms preprocess, 58.0ms inference, 0.5ms postprocess per image at shape (1, 3, 480, 640)\n",
      "\n",
      "0: 480x640 (no detections), 58.4ms\n",
      "Speed: 1.2ms preprocess, 58.4ms inference, 0.3ms postprocess per image at shape (1, 3, 480, 640)\n",
      "\n",
      "0: 480x640 1 person, 2 apples, 54.6ms\n",
      "Speed: 1.0ms preprocess, 54.6ms inference, 0.7ms postprocess per image at shape (1, 3, 480, 640)\n",
      "\n",
      "0: 480x640 1 person, 52.1ms\n",
      "Speed: 0.9ms preprocess, 52.1ms inference, 0.5ms postprocess per image at shape (1, 3, 480, 640)\n",
      "\n",
      "0: 480x640 1 knife, 1 apple, 54.8ms\n",
      "Speed: 0.9ms preprocess, 54.8ms inference, 0.7ms postprocess per image at shape (1, 3, 480, 640)\n",
      "\n"
     ]
    },
    {
     "name": "stdout",
     "output_type": "stream",
     "text": [
      "Skipping Raw_Mango.8898c421-ebd0-11ed-98dd-346f24e2fa38.jpg due to no detection.\n",
      "Skipping Raw_Mango.8295f767-ebd0-11ed-9231-346f24e2fa38.jpg due to low confidence.\n",
      "Skipping Raw_Mango.295800dc-ebe8-11ed-b928-346f24e2fa38.jpg due to low confidence.\n"
     ]
    },
    {
     "name": "stderr",
     "output_type": "stream",
     "text": [
      "0: 480x640 2 apples, 57.4ms\n",
      "Speed: 1.1ms preprocess, 57.4ms inference, 0.5ms postprocess per image at shape (1, 3, 480, 640)\n",
      "\n",
      "0: 480x640 1 banana, 57.4ms\n",
      "Speed: 1.2ms preprocess, 57.4ms inference, 0.5ms postprocess per image at shape (1, 3, 480, 640)\n",
      "\n",
      "0: 480x640 1 apple, 53.6ms\n",
      "Speed: 0.9ms preprocess, 53.6ms inference, 0.6ms postprocess per image at shape (1, 3, 480, 640)\n",
      "\n",
      "0: 480x640 1 person, 1 backpack, 1 handbag, 54.8ms\n",
      "Speed: 1.5ms preprocess, 54.8ms inference, 0.5ms postprocess per image at shape (1, 3, 480, 640)\n",
      "\n",
      "0: 480x640 2 apples, 72.7ms\n",
      "Speed: 0.8ms preprocess, 72.7ms inference, 0.5ms postprocess per image at shape (1, 3, 480, 640)\n",
      "\n",
      "0: 480x640 1 knife, 1 banana, 1 apple, 56.0ms\n",
      "Speed: 1.1ms preprocess, 56.0ms inference, 0.4ms postprocess per image at shape (1, 3, 480, 640)\n",
      "\n",
      "0: 480x640 2 bananas, 1 apple, 54.8ms\n",
      "Speed: 1.2ms preprocess, 54.8ms inference, 0.5ms postprocess per image at shape (1, 3, 480, 640)\n",
      "\n",
      "0: 480x640 2 persons, 1 skateboard, 2 apples, 55.5ms\n",
      "Speed: 1.1ms preprocess, 55.5ms inference, 0.6ms postprocess per image at shape (1, 3, 480, 640)\n",
      "\n",
      "0: 480x640 1 person, 1 sports ball, 47.4ms\n",
      "Speed: 0.9ms preprocess, 47.4ms inference, 0.5ms postprocess per image at shape (1, 3, 480, 640)\n",
      "\n"
     ]
    },
    {
     "name": "stdout",
     "output_type": "stream",
     "text": [
      "Skipping Raw_Mango.dd83a28c-ebe7-11ed-a3e5-346f24e2fa38.jpg due to low confidence.\n",
      "Skipping Raw_Mango.d8b3ab79-ebe7-11ed-9d80-346f24e2fa38.jpg due to low confidence.\n"
     ]
    },
    {
     "name": "stderr",
     "output_type": "stream",
     "text": [
      "0: 480x640 1 person, 1 banana, 1 apple, 1 laptop, 52.6ms\n",
      "Speed: 1.2ms preprocess, 52.6ms inference, 0.6ms postprocess per image at shape (1, 3, 480, 640)\n",
      "\n",
      "0: 480x640 (no detections), 52.3ms\n",
      "Speed: 1.0ms preprocess, 52.3ms inference, 0.3ms postprocess per image at shape (1, 3, 480, 640)\n",
      "\n",
      "0: 480x640 1 person, 2 apples, 48.7ms\n",
      "Speed: 1.0ms preprocess, 48.7ms inference, 0.5ms postprocess per image at shape (1, 3, 480, 640)\n",
      "\n",
      "0: 480x640 1 banana, 49.6ms\n",
      "Speed: 0.8ms preprocess, 49.6ms inference, 0.5ms postprocess per image at shape (1, 3, 480, 640)\n",
      "\n",
      "0: 480x640 1 knife, 2 apples, 51.4ms\n",
      "Speed: 0.9ms preprocess, 51.4ms inference, 0.6ms postprocess per image at shape (1, 3, 480, 640)\n",
      "\n"
     ]
    },
    {
     "name": "stdout",
     "output_type": "stream",
     "text": [
      "Skipping Raw_Mango_0_100.jpg due to no detection.\n",
      "Skipping Raw_Mango.f933dd87-ebe7-11ed-b0a5-346f24e2fa38.jpg due to low confidence.\n"
     ]
    },
    {
     "name": "stderr",
     "output_type": "stream",
     "text": [
      "0: 480x640 1 person, 1 banana, 52.8ms\n",
      "Speed: 1.0ms preprocess, 52.8ms inference, 0.5ms postprocess per image at shape (1, 3, 480, 640)\n",
      "\n",
      "0: 480x640 1 apple, 1 laptop, 55.2ms\n",
      "Speed: 1.2ms preprocess, 55.2ms inference, 0.5ms postprocess per image at shape (1, 3, 480, 640)\n",
      "\n",
      "0: 480x640 2 apples, 52.3ms\n",
      "Speed: 0.8ms preprocess, 52.3ms inference, 0.5ms postprocess per image at shape (1, 3, 480, 640)\n",
      "\n",
      "0: 480x640 2 apples, 1 chair, 50.6ms\n",
      "Speed: 0.9ms preprocess, 50.6ms inference, 0.5ms postprocess per image at shape (1, 3, 480, 640)\n",
      "\n",
      "0: 480x640 (no detections), 50.2ms\n",
      "Speed: 1.1ms preprocess, 50.2ms inference, 0.3ms postprocess per image at shape (1, 3, 480, 640)\n",
      "\n",
      "0: 480x640 2 apples, 51.3ms\n",
      "Speed: 1.2ms preprocess, 51.3ms inference, 0.5ms postprocess per image at shape (1, 3, 480, 640)\n",
      "\n",
      "0: 480x640 2 apples, 51.4ms\n",
      "Speed: 0.9ms preprocess, 51.4ms inference, 0.8ms postprocess per image at shape (1, 3, 480, 640)\n",
      "\n",
      "0: 480x640 1 apple, 49.7ms\n",
      "Speed: 0.8ms preprocess, 49.7ms inference, 0.7ms postprocess per image at shape (1, 3, 480, 640)\n",
      "\n"
     ]
    },
    {
     "name": "stdout",
     "output_type": "stream",
     "text": [
      "Skipping Raw_Mango.16149475-ebe8-11ed-9fad-346f24e2fa38.jpg due to no detection.\n",
      "Skipping Raw_Mango.6df1f6ce-ebe8-11ed-9003-346f24e2fa38.jpg due to low confidence.\n"
     ]
    },
    {
     "name": "stderr",
     "output_type": "stream",
     "text": [
      "0: 480x640 (no detections), 69.8ms\n",
      "Speed: 0.7ms preprocess, 69.8ms inference, 0.3ms postprocess per image at shape (1, 3, 480, 640)\n",
      "\n",
      "0: 480x640 2 apples, 51.8ms\n",
      "Speed: 1.2ms preprocess, 51.8ms inference, 0.5ms postprocess per image at shape (1, 3, 480, 640)\n",
      "\n",
      "0: 480x640 1 banana, 3 apples, 50.1ms\n",
      "Speed: 0.9ms preprocess, 50.1ms inference, 0.5ms postprocess per image at shape (1, 3, 480, 640)\n",
      "\n",
      "0: 480x640 1 backpack, 1 handbag, 1 apple, 50.7ms\n",
      "Speed: 0.8ms preprocess, 50.7ms inference, 0.4ms postprocess per image at shape (1, 3, 480, 640)\n",
      "\n"
     ]
    },
    {
     "name": "stdout",
     "output_type": "stream",
     "text": [
      "Skipping Raw_Mango.6a57012a-ebe8-11ed-bf71-346f24e2fa38.jpg due to no detection.\n"
     ]
    },
    {
     "name": "stderr",
     "output_type": "stream",
     "text": [
      "0: 480x640 1 surfboard, 2 bananas, 56.7ms\n",
      "Speed: 0.8ms preprocess, 56.7ms inference, 0.5ms postprocess per image at shape (1, 3, 480, 640)\n",
      "\n",
      "0: 480x640 1 person, 1 apple, 1 laptop, 53.1ms\n",
      "Speed: 1.0ms preprocess, 53.1ms inference, 0.5ms postprocess per image at shape (1, 3, 480, 640)\n",
      "\n",
      "0: 480x640 1 apple, 53.1ms\n",
      "Speed: 1.0ms preprocess, 53.1ms inference, 0.6ms postprocess per image at shape (1, 3, 480, 640)\n",
      "\n",
      "0: 480x640 1 person, 1 banana, 1 dining table, 52.4ms\n",
      "Speed: 1.0ms preprocess, 52.4ms inference, 0.5ms postprocess per image at shape (1, 3, 480, 640)\n",
      "\n"
     ]
    },
    {
     "name": "stdout",
     "output_type": "stream",
     "text": [
      "Skipping Raw_Mango.7b313d07-ebe8-11ed-b5a6-346f24e2fa38.jpg due to low confidence.\n"
     ]
    },
    {
     "name": "stderr",
     "output_type": "stream",
     "text": [
      "0: 480x640 2 apples, 1 dining table, 56.2ms\n",
      "Speed: 1.0ms preprocess, 56.2ms inference, 0.5ms postprocess per image at shape (1, 3, 480, 640)\n",
      "\n",
      "0: 480x640 1 sports ball, 2 apples, 52.4ms\n",
      "Speed: 0.9ms preprocess, 52.4ms inference, 0.4ms postprocess per image at shape (1, 3, 480, 640)\n",
      "\n",
      "0: 480x640 3 apples, 52.6ms\n",
      "Speed: 0.9ms preprocess, 52.6ms inference, 0.5ms postprocess per image at shape (1, 3, 480, 640)\n",
      "\n",
      "0: 480x640 1 apple, 1 dining table, 50.2ms\n",
      "Speed: 0.8ms preprocess, 50.2ms inference, 1.0ms postprocess per image at shape (1, 3, 480, 640)\n",
      "\n",
      "0: 480x640 1 apple, 1 orange, 52.4ms\n",
      "Speed: 1.4ms preprocess, 52.4ms inference, 0.5ms postprocess per image at shape (1, 3, 480, 640)\n",
      "\n",
      "0: 480x640 1 person, 1 banana, 1 apple, 51.7ms\n",
      "Speed: 0.8ms preprocess, 51.7ms inference, 0.4ms postprocess per image at shape (1, 3, 480, 640)\n",
      "\n",
      "0: 480x640 1 banana, 52.1ms\n",
      "Speed: 0.8ms preprocess, 52.1ms inference, 0.9ms postprocess per image at shape (1, 3, 480, 640)\n",
      "\n"
     ]
    },
    {
     "name": "stdout",
     "output_type": "stream",
     "text": [
      "Skipping Raw_Mango.ab840808-ebd0-11ed-bb40-346f24e2fa38.jpg due to low confidence.\n",
      "Skipping Raw_Mango.b83e543f-ebe7-11ed-8af3-346f24e2fa38.jpg due to low confidence.\n"
     ]
    },
    {
     "name": "stderr",
     "output_type": "stream",
     "text": [
      "0: 480x640 (no detections), 69.5ms\n",
      "Speed: 0.9ms preprocess, 69.5ms inference, 0.5ms postprocess per image at shape (1, 3, 480, 640)\n",
      "\n",
      "0: 480x640 2 apples, 1 dining table, 51.0ms\n",
      "Speed: 0.9ms preprocess, 51.0ms inference, 0.5ms postprocess per image at shape (1, 3, 480, 640)\n",
      "\n",
      "0: 480x640 1 banana, 1 apple, 52.7ms\n",
      "Speed: 0.9ms preprocess, 52.7ms inference, 0.5ms postprocess per image at shape (1, 3, 480, 640)\n",
      "\n",
      "0: 480x640 2 apples, 1 orange, 55.4ms\n",
      "Speed: 1.0ms preprocess, 55.4ms inference, 0.5ms postprocess per image at shape (1, 3, 480, 640)\n",
      "\n"
     ]
    },
    {
     "name": "stdout",
     "output_type": "stream",
     "text": [
      "Skipping Raw_Mango.e8b67091-ebe8-11ed-ad22-346f24e2fa38.jpg due to no detection.\n"
     ]
    },
    {
     "name": "stderr",
     "output_type": "stream",
     "text": [
      "0: 480x640 1 banana, 2 apples, 55.9ms\n",
      "Speed: 0.8ms preprocess, 55.9ms inference, 0.6ms postprocess per image at shape (1, 3, 480, 640)\n",
      "\n",
      "0: 480x640 1 apple, 1 orange, 56.0ms\n",
      "Speed: 1.0ms preprocess, 56.0ms inference, 0.4ms postprocess per image at shape (1, 3, 480, 640)\n",
      "\n",
      "0: 480x640 1 apple, 51.1ms\n",
      "Speed: 1.0ms preprocess, 51.1ms inference, 0.5ms postprocess per image at shape (1, 3, 480, 640)\n",
      "\n",
      "0: 480x640 1 frisbee, 2 apples, 50.0ms\n",
      "Speed: 1.1ms preprocess, 50.0ms inference, 0.5ms postprocess per image at shape (1, 3, 480, 640)\n",
      "\n",
      "0: 480x640 1 apple, 46.8ms\n",
      "Speed: 1.2ms preprocess, 46.8ms inference, 0.7ms postprocess per image at shape (1, 3, 480, 640)\n",
      "\n",
      "0: 480x640 1 knife, 1 apple, 49.7ms\n",
      "Speed: 1.1ms preprocess, 49.7ms inference, 0.4ms postprocess per image at shape (1, 3, 480, 640)\n",
      "\n",
      "0: 480x640 1 apple, 53.5ms\n",
      "Speed: 1.2ms preprocess, 53.5ms inference, 0.5ms postprocess per image at shape (1, 3, 480, 640)\n",
      "\n",
      "0: 480x640 2 apples, 52.1ms\n",
      "Speed: 0.8ms preprocess, 52.1ms inference, 0.6ms postprocess per image at shape (1, 3, 480, 640)\n",
      "\n",
      "0: 480x640 1 knife, 2 apples, 49.3ms\n",
      "Speed: 1.1ms preprocess, 49.3ms inference, 0.5ms postprocess per image at shape (1, 3, 480, 640)\n",
      "\n"
     ]
    },
    {
     "name": "stdout",
     "output_type": "stream",
     "text": [
      "Skipping Raw_Mango_0_1411.jpg due to low confidence.\n",
      "Skipping Raw_Mango.f463a5fe-ebe7-11ed-8ac0-346f24e2fa38.jpg due to low confidence.\n"
     ]
    },
    {
     "name": "stderr",
     "output_type": "stream",
     "text": [
      "0: 480x640 2 apples, 1 dining table, 53.1ms\n",
      "Speed: 0.8ms preprocess, 53.1ms inference, 0.5ms postprocess per image at shape (1, 3, 480, 640)\n",
      "\n",
      "0: 480x640 2 apples, 48.9ms\n",
      "Speed: 1.2ms preprocess, 48.9ms inference, 0.6ms postprocess per image at shape (1, 3, 480, 640)\n",
      "\n",
      "0: 480x640 1 apple, 49.1ms\n",
      "Speed: 1.2ms preprocess, 49.1ms inference, 0.6ms postprocess per image at shape (1, 3, 480, 640)\n",
      "\n",
      "0: 480x640 2 bananas, 1 apple, 50.7ms\n",
      "Speed: 0.8ms preprocess, 50.7ms inference, 0.7ms postprocess per image at shape (1, 3, 480, 640)\n",
      "\n",
      "0: 480x640 1 apple, 60.1ms\n",
      "Speed: 2.0ms preprocess, 60.1ms inference, 1.1ms postprocess per image at shape (1, 3, 480, 640)\n",
      "\n",
      "0: 480x640 1 apple, 50.2ms\n",
      "Speed: 0.8ms preprocess, 50.2ms inference, 0.8ms postprocess per image at shape (1, 3, 480, 640)\n",
      "\n",
      "0: 480x640 2 apples, 48.9ms\n",
      "Speed: 1.0ms preprocess, 48.9ms inference, 0.5ms postprocess per image at shape (1, 3, 480, 640)\n",
      "\n"
     ]
    },
    {
     "name": "stdout",
     "output_type": "stream",
     "text": [
      "Skipping Raw_Mango.ad643ecb-ebe7-11ed-8c48-346f24e2fa38.jpg due to low confidence.\n"
     ]
    },
    {
     "name": "stderr",
     "output_type": "stream",
     "text": [
      "0: 480x640 1 person, 1 spoon, 1 apple, 1 laptop, 50.2ms\n",
      "Speed: 0.9ms preprocess, 50.2ms inference, 0.5ms postprocess per image at shape (1, 3, 480, 640)\n",
      "\n",
      "0: 480x640 1 person, 1 apple, 1 laptop, 46.9ms\n",
      "Speed: 1.2ms preprocess, 46.9ms inference, 0.4ms postprocess per image at shape (1, 3, 480, 640)\n",
      "\n",
      "0: 480x640 1 apple, 47.6ms\n",
      "Speed: 1.0ms preprocess, 47.6ms inference, 0.5ms postprocess per image at shape (1, 3, 480, 640)\n",
      "\n",
      "0: 480x640 1 banana, 1 apple, 48.8ms\n",
      "Speed: 0.9ms preprocess, 48.8ms inference, 0.5ms postprocess per image at shape (1, 3, 480, 640)\n",
      "\n",
      "0: 480x640 (no detections), 48.3ms\n",
      "Speed: 1.1ms preprocess, 48.3ms inference, 0.3ms postprocess per image at shape (1, 3, 480, 640)\n",
      "\n",
      "0: 480x640 1 person, 1 banana, 2 apples, 49.2ms\n",
      "Speed: 0.9ms preprocess, 49.2ms inference, 0.5ms postprocess per image at shape (1, 3, 480, 640)\n",
      "\n",
      "0: 480x640 1 banana, 2 apples, 49.7ms\n",
      "Speed: 1.3ms preprocess, 49.7ms inference, 0.4ms postprocess per image at shape (1, 3, 480, 640)\n",
      "\n"
     ]
    },
    {
     "name": "stdout",
     "output_type": "stream",
     "text": [
      "Skipping Raw_Mango.9474b67c-ebe8-11ed-a459-346f24e2fa38.jpg due to low confidence.\n",
      "Skipping Raw_Mango.11836ca4-ebd0-11ed-ad44-346f24e2fa38.jpg due to no detection.\n"
     ]
    },
    {
     "name": "stderr",
     "output_type": "stream",
     "text": [
      "0: 480x640 1 person, 1 banana, 1 apple, 1 dining table, 51.2ms\n",
      "Speed: 1.4ms preprocess, 51.2ms inference, 0.5ms postprocess per image at shape (1, 3, 480, 640)\n",
      "\n",
      "0: 480x640 1 apple, 50.1ms\n",
      "Speed: 0.8ms preprocess, 50.1ms inference, 0.5ms postprocess per image at shape (1, 3, 480, 640)\n",
      "\n",
      "0: 480x640 2 apples, 51.3ms\n",
      "Speed: 0.9ms preprocess, 51.3ms inference, 0.6ms postprocess per image at shape (1, 3, 480, 640)\n",
      "\n",
      "0: 480x640 1 sports ball, 1 banana, 1 orange, 50.6ms\n",
      "Speed: 0.9ms preprocess, 50.6ms inference, 0.5ms postprocess per image at shape (1, 3, 480, 640)\n",
      "\n",
      "0: 480x640 3 bananas, 2 apples, 51.3ms\n",
      "Speed: 0.9ms preprocess, 51.3ms inference, 0.5ms postprocess per image at shape (1, 3, 480, 640)\n",
      "\n"
     ]
    },
    {
     "name": "stdout",
     "output_type": "stream",
     "text": [
      "Skipping Raw_Mango.d3e2eecb-ebe7-11ed-8db0-346f24e2fa38.jpg due to low confidence.\n"
     ]
    },
    {
     "name": "stderr",
     "output_type": "stream",
     "text": [
      "0: 480x640 2 apples, 52.9ms\n",
      "Speed: 1.0ms preprocess, 52.9ms inference, 0.6ms postprocess per image at shape (1, 3, 480, 640)\n",
      "\n",
      "0: 480x640 2 persons, 1 apple, 68.1ms\n",
      "Speed: 0.9ms preprocess, 68.1ms inference, 0.6ms postprocess per image at shape (1, 3, 480, 640)\n",
      "\n",
      "0: 480x640 1 frisbee, 1 sports ball, 1 apple, 49.5ms\n",
      "Speed: 0.9ms preprocess, 49.5ms inference, 0.7ms postprocess per image at shape (1, 3, 480, 640)\n",
      "\n",
      "0: 480x640 1 knife, 1 spoon, 1 apple, 53.5ms\n",
      "Speed: 0.8ms preprocess, 53.5ms inference, 0.5ms postprocess per image at shape (1, 3, 480, 640)\n",
      "\n",
      "0: 480x640 1 bench, 1 laptop, 1 mouse, 51.6ms\n",
      "Speed: 1.2ms preprocess, 51.6ms inference, 0.5ms postprocess per image at shape (1, 3, 480, 640)\n",
      "\n",
      "0: 480x640 1 apple, 54.1ms\n",
      "Speed: 1.2ms preprocess, 54.1ms inference, 0.5ms postprocess per image at shape (1, 3, 480, 640)\n",
      "\n",
      "0: 480x640 (no detections), 54.6ms\n",
      "Speed: 0.9ms preprocess, 54.6ms inference, 0.3ms postprocess per image at shape (1, 3, 480, 640)\n",
      "\n",
      "0: 480x640 1 person, 2 apples, 54.5ms\n",
      "Speed: 1.2ms preprocess, 54.5ms inference, 0.6ms postprocess per image at shape (1, 3, 480, 640)\n",
      "\n",
      "0: 480x640 1 person, 53.4ms\n",
      "Speed: 0.8ms preprocess, 53.4ms inference, 0.5ms postprocess per image at shape (1, 3, 480, 640)\n",
      "\n",
      "0: 480x640 2 benchs, 1 apple, 1 laptop, 53.7ms\n",
      "Speed: 1.0ms preprocess, 53.7ms inference, 0.5ms postprocess per image at shape (1, 3, 480, 640)\n",
      "\n"
     ]
    },
    {
     "name": "stdout",
     "output_type": "stream",
     "text": [
      "Skipping Raw_Mango.54ab2546-ebe8-11ed-885e-346f24e2fa38.jpg due to no detection.\n",
      "Skipping Raw_Mango.53356ea8-ebdb-11ed-9757-346f24e2fa38.jpg due to low confidence.\n"
     ]
    },
    {
     "name": "stderr",
     "output_type": "stream",
     "text": [
      "0: 480x640 2 apples, 58.7ms\n",
      "Speed: 0.9ms preprocess, 58.7ms inference, 0.5ms postprocess per image at shape (1, 3, 480, 640)\n",
      "\n",
      "0: 480x640 (no detections), 59.2ms\n",
      "Speed: 0.9ms preprocess, 59.2ms inference, 0.3ms postprocess per image at shape (1, 3, 480, 640)\n",
      "\n",
      "0: 480x640 3 bananas, 2 apples, 57.4ms\n",
      "Speed: 1.0ms preprocess, 57.4ms inference, 0.6ms postprocess per image at shape (1, 3, 480, 640)\n",
      "\n",
      "0: 480x640 1 apple, 55.8ms\n",
      "Speed: 1.1ms preprocess, 55.8ms inference, 0.9ms postprocess per image at shape (1, 3, 480, 640)\n",
      "\n",
      "0: 480x640 1 sports ball, 1 knife, 2 apples, 55.1ms\n",
      "Speed: 0.8ms preprocess, 55.1ms inference, 0.4ms postprocess per image at shape (1, 3, 480, 640)\n",
      "\n"
     ]
    },
    {
     "name": "stdout",
     "output_type": "stream",
     "text": [
      "Skipping Raw_Mango.ed82a618-ebe8-11ed-8325-346f24e2fa38.jpg due to no detection.\n"
     ]
    },
    {
     "name": "stderr",
     "output_type": "stream",
     "text": [
      "0: 480x640 1 banana, 57.3ms\n",
      "Speed: 1.2ms preprocess, 57.3ms inference, 0.4ms postprocess per image at shape (1, 3, 480, 640)\n",
      "\n",
      "0: 480x640 1 frisbee, 1 banana, 57.8ms\n",
      "Speed: 1.3ms preprocess, 57.8ms inference, 0.9ms postprocess per image at shape (1, 3, 480, 640)\n",
      "\n",
      "0: 480x640 1 banana, 1 apple, 1 dining table, 58.4ms\n",
      "Speed: 1.0ms preprocess, 58.4ms inference, 0.5ms postprocess per image at shape (1, 3, 480, 640)\n",
      "\n"
     ]
    },
    {
     "name": "stdout",
     "output_type": "stream",
     "text": [
      "Skipping Raw_Mango.425c2cd3-ebdb-11ed-9c83-346f24e2fa38.jpg due to low confidence.\n",
      "Skipping Raw_Mango.8161c954-ebd0-11ed-818b-346f24e2fa38.jpg due to low confidence.\n"
     ]
    },
    {
     "name": "stderr",
     "output_type": "stream",
     "text": [
      "0: 480x640 1 apple, 77.9ms\n",
      "Speed: 0.9ms preprocess, 77.9ms inference, 0.6ms postprocess per image at shape (1, 3, 480, 640)\n",
      "\n",
      "0: 480x640 1 apple, 62.2ms\n",
      "Speed: 1.6ms preprocess, 62.2ms inference, 1.0ms postprocess per image at shape (1, 3, 480, 640)\n",
      "\n",
      "0: 480x640 2 apples, 58.3ms\n",
      "Speed: 1.1ms preprocess, 58.3ms inference, 0.5ms postprocess per image at shape (1, 3, 480, 640)\n",
      "\n",
      "0: 480x640 3 apples, 1 orange, 53.7ms\n",
      "Speed: 1.2ms preprocess, 53.7ms inference, 0.5ms postprocess per image at shape (1, 3, 480, 640)\n"
     ]
    },
    {
     "name": "stdout",
     "output_type": "stream",
     "text": [
      "Skipping Raw_Mango.11b412b7-ebda-11ed-a922-346f24e2fa38.jpg due to low confidence.\n"
     ]
    },
    {
     "name": "stderr",
     "output_type": "stream",
     "text": [
      "\n",
      "0: 480x640 1 banana, 53.1ms\n",
      "Speed: 1.5ms preprocess, 53.1ms inference, 0.4ms postprocess per image at shape (1, 3, 480, 640)\n",
      "\n",
      "0: 480x640 2 apples, 1 dining table, 52.0ms\n",
      "Speed: 1.3ms preprocess, 52.0ms inference, 0.5ms postprocess per image at shape (1, 3, 480, 640)\n",
      "\n",
      "0: 480x640 1 banana, 1 apple, 4 laptops, 52.9ms\n",
      "Speed: 0.8ms preprocess, 52.9ms inference, 0.4ms postprocess per image at shape (1, 3, 480, 640)\n",
      "\n",
      "0: 480x640 1 apple, 49.0ms\n",
      "Speed: 1.2ms preprocess, 49.0ms inference, 0.7ms postprocess per image at shape (1, 3, 480, 640)\n",
      "\n"
     ]
    },
    {
     "name": "stdout",
     "output_type": "stream",
     "text": [
      "Skipping Raw_Mango.a75e9d78-ebe7-11ed-b45b-346f24e2fa38.jpg due to low confidence.\n",
      "Skipping Raw_Mango.2d23af6f-ebd0-11ed-abf8-346f24e2fa38.jpg due to low confidence.\n"
     ]
    },
    {
     "name": "stderr",
     "output_type": "stream",
     "text": [
      "0: 480x640 1 apple, 52.6ms\n",
      "Speed: 1.3ms preprocess, 52.6ms inference, 0.5ms postprocess per image at shape (1, 3, 480, 640)\n",
      "\n",
      "0: 480x640 3 persons, 1 frisbee, 51.9ms\n",
      "Speed: 0.8ms preprocess, 51.9ms inference, 0.5ms postprocess per image at shape (1, 3, 480, 640)\n",
      "\n",
      "0: 480x640 2 apples, 51.0ms\n",
      "Speed: 1.2ms preprocess, 51.0ms inference, 0.6ms postprocess per image at shape (1, 3, 480, 640)\n",
      "\n",
      "0: 480x640 1 apple, 2 laptops, 59.1ms\n",
      "Speed: 0.9ms preprocess, 59.1ms inference, 1.0ms postprocess per image at shape (1, 3, 480, 640)\n",
      "\n",
      "0: 480x640 2 apples, 52.6ms\n",
      "Speed: 1.0ms preprocess, 52.6ms inference, 0.5ms postprocess per image at shape (1, 3, 480, 640)\n",
      "\n"
     ]
    },
    {
     "name": "stdout",
     "output_type": "stream",
     "text": [
      "Skipping Raw_Mango.3b9cc369-ebd0-11ed-aa8e-346f24e2fa38.jpg due to low confidence.\n"
     ]
    },
    {
     "name": "stderr",
     "output_type": "stream",
     "text": [
      "0: 480x640 (no detections), 72.0ms\n",
      "Speed: 1.1ms preprocess, 72.0ms inference, 0.4ms postprocess per image at shape (1, 3, 480, 640)\n",
      "\n",
      "0: 480x640 2 apples, 52.1ms\n",
      "Speed: 1.1ms preprocess, 52.1ms inference, 0.6ms postprocess per image at shape (1, 3, 480, 640)\n",
      "\n",
      "0: 480x640 1 knife, 48.7ms\n",
      "Speed: 0.9ms preprocess, 48.7ms inference, 0.5ms postprocess per image at shape (1, 3, 480, 640)\n",
      "\n",
      "0: 480x640 2 apples, 49.2ms\n",
      "Speed: 1.2ms preprocess, 49.2ms inference, 0.5ms postprocess per image at shape (1, 3, 480, 640)\n",
      "\n"
     ]
    },
    {
     "name": "stdout",
     "output_type": "stream",
     "text": [
      "Skipping Raw_Mango.597e6b65-ebe8-11ed-aed9-346f24e2fa38.jpg due to no detection.\n",
      "Skipping Raw_Mango.8d3dc8a0-ebe8-11ed-9c5b-346f24e2fa38.jpg due to low confidence.\n"
     ]
    },
    {
     "name": "stderr",
     "output_type": "stream",
     "text": [
      "0: 480x640 1 banana, 2 apples, 53.0ms\n",
      "Speed: 1.2ms preprocess, 53.0ms inference, 0.6ms postprocess per image at shape (1, 3, 480, 640)\n",
      "\n",
      "0: 480x640 2 apples, 1 laptop, 48.5ms\n",
      "Speed: 0.8ms preprocess, 48.5ms inference, 0.7ms postprocess per image at shape (1, 3, 480, 640)\n",
      "\n",
      "0: 480x640 2 apples, 49.3ms\n",
      "Speed: 0.8ms preprocess, 49.3ms inference, 0.6ms postprocess per image at shape (1, 3, 480, 640)\n",
      "\n",
      "0: 480x640 1 bench, 1 spoon, 1 apple, 1 laptop, 45.8ms\n",
      "Speed: 0.8ms preprocess, 45.8ms inference, 0.5ms postprocess per image at shape (1, 3, 480, 640)\n",
      "\n",
      "0: 480x640 2 persons, 1 banana, 1 apple, 1 dining table, 1 remote, 48.9ms\n",
      "Speed: 0.9ms preprocess, 48.9ms inference, 0.8ms postprocess per image at shape (1, 3, 480, 640)\n",
      "\n",
      "0: 480x640 1 apple, 48.1ms\n",
      "Speed: 0.9ms preprocess, 48.1ms inference, 0.5ms postprocess per image at shape (1, 3, 480, 640)\n",
      "\n",
      "0: 480x640 2 apples, 52.4ms\n",
      "Speed: 0.8ms preprocess, 52.4ms inference, 0.7ms postprocess per image at shape (1, 3, 480, 640)\n",
      "\n",
      "0: 480x640 1 apple, 1 orange, 55.0ms\n",
      "Speed: 0.9ms preprocess, 55.0ms inference, 0.5ms postprocess per image at shape (1, 3, 480, 640)\n",
      "\n",
      "0: 480x640 1 apple, 51.1ms\n",
      "Speed: 1.0ms preprocess, 51.1ms inference, 0.5ms postprocess per image at shape (1, 3, 480, 640)\n",
      "\n",
      "0: 480x640 2 persons, 1 sports ball, 47.8ms\n",
      "Speed: 0.9ms preprocess, 47.8ms inference, 0.4ms postprocess per image at shape (1, 3, 480, 640)\n",
      "\n",
      "0: 480x640 1 knife, 1 spoon, 49.0ms\n",
      "Speed: 0.9ms preprocess, 49.0ms inference, 0.5ms postprocess per image at shape (1, 3, 480, 640)\n",
      "\n",
      "0: 480x640 (no detections), 48.2ms\n",
      "Speed: 0.9ms preprocess, 48.2ms inference, 0.4ms postprocess per image at shape (1, 3, 480, 640)\n",
      "\n",
      "0: 480x640 2 apples, 46.9ms\n",
      "Speed: 0.8ms preprocess, 46.9ms inference, 0.5ms postprocess per image at shape (1, 3, 480, 640)\n",
      "\n",
      "0: 480x640 1 apple, 70.8ms\n",
      "Speed: 0.9ms preprocess, 70.8ms inference, 0.5ms postprocess per image at shape (1, 3, 480, 640)\n",
      "\n"
     ]
    },
    {
     "name": "stdout",
     "output_type": "stream",
     "text": [
      "Skipping Raw_Mango.a62b736a-ebe7-11ed-ba0e-346f24e2fa38.jpg due to low confidence.\n",
      "Skipping Raw_Mango_0_207.jpg due to no detection.\n",
      "Skipping Raw_Mango.fa68de40-ebe7-11ed-941e-346f24e2fa38.jpg due to low confidence.\n",
      "Skipping Raw_Mango.705cc200-ebe8-11ed-b209-346f24e2fa38.jpg due to low confidence.\n"
     ]
    },
    {
     "name": "stderr",
     "output_type": "stream",
     "text": [
      "0: 480x640 1 banana, 1 laptop, 54.5ms\n",
      "Speed: 1.0ms preprocess, 54.5ms inference, 0.7ms postprocess per image at shape (1, 3, 480, 640)\n",
      "\n",
      "0: 480x640 2 apples, 1 dining table, 52.8ms\n",
      "Speed: 1.0ms preprocess, 52.8ms inference, 0.9ms postprocess per image at shape (1, 3, 480, 640)\n",
      "\n",
      "0: 480x640 1 person, 1 apple, 51.9ms\n",
      "Speed: 0.9ms preprocess, 51.9ms inference, 0.6ms postprocess per image at shape (1, 3, 480, 640)\n",
      "\n",
      "0: 480x640 1 knife, 1 apple, 56.3ms\n",
      "Speed: 0.9ms preprocess, 56.3ms inference, 0.5ms postprocess per image at shape (1, 3, 480, 640)\n",
      "\n",
      "0: 480x640 1 banana, 2 apples, 54.4ms\n",
      "Speed: 1.1ms preprocess, 54.4ms inference, 0.5ms postprocess per image at shape (1, 3, 480, 640)\n",
      "\n",
      "0: 480x640 1 banana, 51.1ms\n",
      "Speed: 0.9ms preprocess, 51.1ms inference, 0.5ms postprocess per image at shape (1, 3, 480, 640)\n",
      "\n",
      "0: 480x640 2 apples, 48.9ms\n",
      "Speed: 0.9ms preprocess, 48.9ms inference, 0.6ms postprocess per image at shape (1, 3, 480, 640)\n",
      "\n"
     ]
    },
    {
     "name": "stdout",
     "output_type": "stream",
     "text": [
      "Skipping Raw_Mango.bf73f582-ebe7-11ed-909a-346f24e2fa38.jpg due to low confidence.\n"
     ]
    },
    {
     "name": "stderr",
     "output_type": "stream",
     "text": [
      "0: 480x640 1 apple, 1 laptop, 50.4ms\n",
      "Speed: 1.2ms preprocess, 50.4ms inference, 0.7ms postprocess per image at shape (1, 3, 480, 640)\n",
      "\n",
      "0: 480x640 1 sports ball, 50.8ms\n",
      "Speed: 1.1ms preprocess, 50.8ms inference, 0.6ms postprocess per image at shape (1, 3, 480, 640)\n",
      "\n",
      "0: 480x640 1 person, 1 banana, 68.1ms\n",
      "Speed: 0.9ms preprocess, 68.1ms inference, 0.5ms postprocess per image at shape (1, 3, 480, 640)\n",
      "\n",
      "0: 480x640 2 apples, 58.2ms\n",
      "Speed: 1.0ms preprocess, 58.2ms inference, 0.9ms postprocess per image at shape (1, 3, 480, 640)\n",
      "\n",
      "0: 480x640 1 dining table, 56.1ms\n",
      "Speed: 0.9ms preprocess, 56.1ms inference, 1.1ms postprocess per image at shape (1, 3, 480, 640)\n",
      "\n",
      "0: 480x640 1 apple, 56.7ms\n",
      "Speed: 1.1ms preprocess, 56.7ms inference, 0.6ms postprocess per image at shape (1, 3, 480, 640)\n",
      "\n",
      "0: 480x640 1 laptop, 52.4ms\n",
      "Speed: 1.4ms preprocess, 52.4ms inference, 0.8ms postprocess per image at shape (1, 3, 480, 640)\n",
      "\n",
      "0: 480x640 2 benchs, 1 apple, 1 laptop, 51.9ms\n",
      "Speed: 0.9ms preprocess, 51.9ms inference, 0.5ms postprocess per image at shape (1, 3, 480, 640)\n",
      "\n"
     ]
    },
    {
     "name": "stdout",
     "output_type": "stream",
     "text": [
      "Skipping Raw_Mango.7efa17e9-ebd0-11ed-adc2-346f24e2fa38.jpg due to low confidence.\n"
     ]
    },
    {
     "name": "stderr",
     "output_type": "stream",
     "text": [
      "0: 480x640 2 apples, 55.9ms\n",
      "Speed: 1.0ms preprocess, 55.9ms inference, 0.5ms postprocess per image at shape (1, 3, 480, 640)\n",
      "\n",
      "0: 480x640 1 apple, 77.8ms\n",
      "Speed: 1.1ms preprocess, 77.8ms inference, 0.5ms postprocess per image at shape (1, 3, 480, 640)\n",
      "\n",
      "0: 480x640 1 person, 1 apple, 56.3ms\n",
      "Speed: 0.9ms preprocess, 56.3ms inference, 0.6ms postprocess per image at shape (1, 3, 480, 640)\n",
      "\n",
      "0: 480x640 3 persons, 54.6ms\n",
      "Speed: 1.4ms preprocess, 54.6ms inference, 0.5ms postprocess per image at shape (1, 3, 480, 640)\n",
      "\n",
      "0: 480x640 (no detections), 53.0ms\n",
      "Speed: 0.9ms preprocess, 53.0ms inference, 0.3ms postprocess per image at shape (1, 3, 480, 640)\n",
      "\n"
     ]
    },
    {
     "name": "stdout",
     "output_type": "stream",
     "text": [
      "Skipping Raw_Mango_0_818.jpg due to low confidence.\n",
      "Skipping Raw_Mango.7ecbf58a-ebe8-11ed-a895-346f24e2fa38.jpg due to no detection.\n"
     ]
    },
    {
     "name": "stderr",
     "output_type": "stream",
     "text": [
      "0: 480x640 1 apple, 55.0ms\n",
      "Speed: 1.0ms preprocess, 55.0ms inference, 0.5ms postprocess per image at shape (1, 3, 480, 640)\n",
      "\n",
      "0: 480x640 1 apple, 55.2ms\n",
      "Speed: 1.1ms preprocess, 55.2ms inference, 0.5ms postprocess per image at shape (1, 3, 480, 640)\n",
      "\n",
      "0: 480x640 1 apple, 73.1ms\n",
      "Speed: 0.9ms preprocess, 73.1ms inference, 0.5ms postprocess per image at shape (1, 3, 480, 640)\n",
      "\n",
      "0: 480x640 (no detections), 55.5ms\n",
      "Speed: 0.9ms preprocess, 55.5ms inference, 0.3ms postprocess per image at shape (1, 3, 480, 640)\n",
      "\n",
      "0: 480x640 2 persons, 2 apples, 51.3ms\n",
      "Speed: 0.8ms preprocess, 51.3ms inference, 0.5ms postprocess per image at shape (1, 3, 480, 640)\n",
      "\n",
      "0: 480x640 1 sports ball, 2 apples, 1 orange, 50.7ms\n",
      "Speed: 0.8ms preprocess, 50.7ms inference, 0.5ms postprocess per image at shape (1, 3, 480, 640)\n",
      "\n"
     ]
    },
    {
     "name": "stdout",
     "output_type": "stream",
     "text": [
      "Skipping Raw_Mango.c48697d9-ebcf-11ed-bfd6-346f24e2fa38.jpg due to low confidence.\n",
      "Skipping Raw_Mango.6a172abe-ebdb-11ed-94f8-346f24e2fa38.jpg due to no detection.\n",
      "Skipping Raw_Mango.ac74fd7d-ebcf-11ed-9256-346f24e2fa38.jpg due to low confidence.\n"
     ]
    },
    {
     "name": "stderr",
     "output_type": "stream",
     "text": [
      "0: 480x640 1 apple, 54.5ms\n",
      "Speed: 0.9ms preprocess, 54.5ms inference, 0.4ms postprocess per image at shape (1, 3, 480, 640)\n",
      "\n",
      "0: 480x640 1 apple, 53.3ms\n",
      "Speed: 0.9ms preprocess, 53.3ms inference, 0.4ms postprocess per image at shape (1, 3, 480, 640)\n",
      "\n",
      "0: 480x640 1 person, 1 frisbee, 1 sports ball, 55.1ms\n",
      "Speed: 0.8ms preprocess, 55.1ms inference, 0.4ms postprocess per image at shape (1, 3, 480, 640)\n",
      "\n",
      "0: 480x640 1 person, 1 banana, 1 apple, 55.4ms\n",
      "Speed: 1.2ms preprocess, 55.4ms inference, 0.6ms postprocess per image at shape (1, 3, 480, 640)\n",
      "\n"
     ]
    },
    {
     "name": "stdout",
     "output_type": "stream",
     "text": [
      "Skipping Raw_Mango.c30c79eb-ebe7-11ed-a60b-346f24e2fa38.jpg due to low confidence.\n",
      "Skipping Raw_Mango.941ad339-ebe7-11ed-a935-346f24e2fa38.jpg due to low confidence.\n",
      "Skipping Raw_Mango.df16f375-ebe8-11ed-aa25-346f24e2fa38.jpg due to low confidence.\n"
     ]
    },
    {
     "name": "stderr",
     "output_type": "stream",
     "text": [
      "0: 480x640 2 bananas, 2 laptops, 54.8ms\n",
      "Speed: 1.0ms preprocess, 54.8ms inference, 0.4ms postprocess per image at shape (1, 3, 480, 640)\n",
      "\n",
      "0: 480x640 1 apple, 51.9ms\n",
      "Speed: 0.8ms preprocess, 51.9ms inference, 0.5ms postprocess per image at shape (1, 3, 480, 640)\n",
      "\n",
      "0: 480x640 1 apple, 50.7ms\n",
      "Speed: 0.9ms preprocess, 50.7ms inference, 0.4ms postprocess per image at shape (1, 3, 480, 640)\n",
      "\n",
      "0: 480x640 (no detections), 53.0ms\n",
      "Speed: 1.3ms preprocess, 53.0ms inference, 0.4ms postprocess per image at shape (1, 3, 480, 640)\n",
      "\n",
      "0: 480x640 1 banana, 2 apples, 51.6ms\n",
      "Speed: 1.1ms preprocess, 51.6ms inference, 0.5ms postprocess per image at shape (1, 3, 480, 640)\n",
      "\n",
      "0: 480x640 1 person, 1 apple, 51.1ms\n",
      "Speed: 1.1ms preprocess, 51.1ms inference, 0.8ms postprocess per image at shape (1, 3, 480, 640)\n",
      "\n"
     ]
    },
    {
     "name": "stdout",
     "output_type": "stream",
     "text": [
      "Skipping Raw_Mango.58c6c352-ebda-11ed-a90b-346f24e2fa38.jpg due to low confidence.\n",
      "Skipping Raw_Mango_0_158.jpg due to no detection.\n"
     ]
    },
    {
     "name": "stderr",
     "output_type": "stream",
     "text": [
      "0: 480x640 1 sports ball, 1 laptop, 71.4ms\n",
      "Speed: 1.1ms preprocess, 71.4ms inference, 0.5ms postprocess per image at shape (1, 3, 480, 640)\n",
      "\n",
      "0: 480x640 1 banana, 2 apples, 58.1ms\n",
      "Speed: 0.9ms preprocess, 58.1ms inference, 0.5ms postprocess per image at shape (1, 3, 480, 640)\n",
      "\n",
      "0: 480x640 1 apple, 54.6ms\n",
      "Speed: 0.9ms preprocess, 54.6ms inference, 0.6ms postprocess per image at shape (1, 3, 480, 640)\n",
      "\n",
      "0: 480x640 1 banana, 58.0ms\n",
      "Speed: 0.9ms preprocess, 58.0ms inference, 0.5ms postprocess per image at shape (1, 3, 480, 640)\n",
      "\n",
      "0: 480x640 1 apple, 52.6ms\n",
      "Speed: 0.9ms preprocess, 52.6ms inference, 0.5ms postprocess per image at shape (1, 3, 480, 640)\n",
      "\n",
      "0: 480x640 2 apples, 53.9ms\n",
      "Speed: 1.0ms preprocess, 53.9ms inference, 0.5ms postprocess per image at shape (1, 3, 480, 640)\n",
      "\n",
      "0: 480x640 1 apple, 1 orange, 55.2ms\n",
      "Speed: 0.8ms preprocess, 55.2ms inference, 0.5ms postprocess per image at shape (1, 3, 480, 640)\n",
      "\n",
      "0: 480x640 2 persons, 2 apples, 58.2ms\n",
      "Speed: 1.0ms preprocess, 58.2ms inference, 0.5ms postprocess per image at shape (1, 3, 480, 640)\n",
      "\n",
      "0: 480x640 1 banana, 1 apple, 1 laptop, 52.8ms\n",
      "Speed: 1.0ms preprocess, 52.8ms inference, 0.5ms postprocess per image at shape (1, 3, 480, 640)\n",
      "\n",
      "0: 480x640 1 handbag, 1 apple, 1 dining table, 51.2ms\n",
      "Speed: 1.0ms preprocess, 51.2ms inference, 0.6ms postprocess per image at shape (1, 3, 480, 640)\n",
      "\n",
      "0: 480x640 1 handbag, 1 banana, 2 apples, 51.4ms\n",
      "Speed: 0.9ms preprocess, 51.4ms inference, 0.5ms postprocess per image at shape (1, 3, 480, 640)\n",
      "\n",
      "0: 480x640 2 apples, 53.4ms\n",
      "Speed: 0.9ms preprocess, 53.4ms inference, 0.5ms postprocess per image at shape (1, 3, 480, 640)\n",
      "\n",
      "0: 480x640 1 person, 1 banana, 1 laptop, 60.4ms\n",
      "Speed: 0.9ms preprocess, 60.4ms inference, 0.7ms postprocess per image at shape (1, 3, 480, 640)\n",
      "\n",
      "0: 480x640 1 apple, 1 dining table, 50.7ms\n",
      "Speed: 0.9ms preprocess, 50.7ms inference, 0.5ms postprocess per image at shape (1, 3, 480, 640)\n",
      "\n",
      "0: 480x640 1 spoon, 54.1ms\n",
      "Speed: 0.9ms preprocess, 54.1ms inference, 0.5ms postprocess per image at shape (1, 3, 480, 640)\n",
      "\n"
     ]
    },
    {
     "name": "stdout",
     "output_type": "stream",
     "text": [
      "Skipping Raw_Mango.6f27bf9c-ebe8-11ed-92b7-346f24e2fa38.jpg due to low confidence.\n",
      "Skipping Raw_Mango.7c92d6de-ebd0-11ed-8f0f-346f24e2fa38.jpg due to low confidence.\n",
      "Skipping Raw_Mango.b70afdd3-ebe7-11ed-a9a8-346f24e2fa38.jpg due to low confidence.\n"
     ]
    },
    {
     "name": "stderr",
     "output_type": "stream",
     "text": [
      "0: 480x640 2 apples, 56.2ms\n",
      "Speed: 0.8ms preprocess, 56.2ms inference, 0.5ms postprocess per image at shape (1, 3, 480, 640)\n",
      "\n",
      "0: 480x640 1 apple, 2 laptops, 50.8ms\n",
      "Speed: 1.5ms preprocess, 50.8ms inference, 0.6ms postprocess per image at shape (1, 3, 480, 640)\n",
      "\n",
      "0: 480x640 1 apple, 1 laptop, 63.1ms\n",
      "Speed: 2.6ms preprocess, 63.1ms inference, 1.0ms postprocess per image at shape (1, 3, 480, 640)\n",
      "\n",
      "0: 480x640 1 person, 1 apple, 1 laptop, 50.3ms\n",
      "Speed: 1.2ms preprocess, 50.3ms inference, 0.5ms postprocess per image at shape (1, 3, 480, 640)\n",
      "\n",
      "0: 480x640 1 person, 55.1ms\n",
      "Speed: 0.9ms preprocess, 55.1ms inference, 0.5ms postprocess per image at shape (1, 3, 480, 640)\n",
      "\n",
      "0: 480x640 1 sports ball, 1 apple, 48.6ms\n",
      "Speed: 0.9ms preprocess, 48.6ms inference, 0.5ms postprocess per image at shape (1, 3, 480, 640)\n",
      "\n",
      "0: 480x640 1 bench, 1 apple, 1 laptop, 47.9ms\n",
      "Speed: 1.1ms preprocess, 47.9ms inference, 0.5ms postprocess per image at shape (1, 3, 480, 640)\n",
      "\n",
      "0: 480x640 1 person, 1 sports ball, 48.4ms\n",
      "Speed: 1.3ms preprocess, 48.4ms inference, 0.6ms postprocess per image at shape (1, 3, 480, 640)\n",
      "\n",
      "0: 480x640 1 apple, 53.6ms\n",
      "Speed: 0.9ms preprocess, 53.6ms inference, 0.5ms postprocess per image at shape (1, 3, 480, 640)\n",
      "\n"
     ]
    },
    {
     "name": "stdout",
     "output_type": "stream",
     "text": [
      "Skipping Raw_Mango.84c6ff0c-ebcf-11ed-9bca-346f24e2fa38.jpg due to low confidence.\n"
     ]
    },
    {
     "name": "stderr",
     "output_type": "stream",
     "text": [
      "0: 480x640 2 apples, 56.0ms\n",
      "Speed: 1.0ms preprocess, 56.0ms inference, 0.5ms postprocess per image at shape (1, 3, 480, 640)\n",
      "\n",
      "0: 480x640 1 apple, 51.5ms\n",
      "Speed: 0.8ms preprocess, 51.5ms inference, 0.7ms postprocess per image at shape (1, 3, 480, 640)\n",
      "\n",
      "0: 480x640 1 apple, 47.6ms\n",
      "Speed: 0.9ms preprocess, 47.6ms inference, 0.5ms postprocess per image at shape (1, 3, 480, 640)\n",
      "\n",
      "0: 480x640 1 apple, 49.4ms\n",
      "Speed: 1.0ms preprocess, 49.4ms inference, 0.4ms postprocess per image at shape (1, 3, 480, 640)\n",
      "\n",
      "0: 480x640 3 persons, 1 banana, 2 apples, 50.1ms\n",
      "Speed: 0.9ms preprocess, 50.1ms inference, 0.5ms postprocess per image at shape (1, 3, 480, 640)\n",
      "\n"
     ]
    },
    {
     "name": "stdout",
     "output_type": "stream",
     "text": [
      "Skipping Raw_Mango.f902303f-eb54-11ed-9415-088fc3734c75.jpg due to low confidence.\n"
     ]
    },
    {
     "name": "stderr",
     "output_type": "stream",
     "text": [
      "0: 480x640 3 persons, 53.6ms\n",
      "Speed: 1.0ms preprocess, 53.6ms inference, 0.5ms postprocess per image at shape (1, 3, 480, 640)\n",
      "\n",
      "0: 480x640 1 banana, 2 apples, 54.3ms\n",
      "Speed: 0.9ms preprocess, 54.3ms inference, 0.6ms postprocess per image at shape (1, 3, 480, 640)\n",
      "\n",
      "0: 480x640 1 banana, 51.2ms\n",
      "Speed: 1.2ms preprocess, 51.2ms inference, 0.4ms postprocess per image at shape (1, 3, 480, 640)\n",
      "\n",
      "0: 480x640 1 banana, 1 apple, 51.0ms\n",
      "Speed: 0.9ms preprocess, 51.0ms inference, 0.6ms postprocess per image at shape (1, 3, 480, 640)\n",
      "\n"
     ]
    },
    {
     "name": "stdout",
     "output_type": "stream",
     "text": [
      "Skipping Raw_Mango.3cd19c8b-ebd0-11ed-8cce-346f24e2fa38.jpg due to low confidence.\n",
      "Skipping Raw_Mango.6e200cf9-ebd0-11ed-92dc-346f24e2fa38.jpg due to low confidence.\n"
     ]
    },
    {
     "name": "stderr",
     "output_type": "stream",
     "text": [
      "0: 480x640 1 apple, 68.3ms\n",
      "Speed: 1.7ms preprocess, 68.3ms inference, 0.5ms postprocess per image at shape (1, 3, 480, 640)\n",
      "\n",
      "0: 480x640 1 apple, 1 orange, 54.9ms\n",
      "Speed: 1.3ms preprocess, 54.9ms inference, 0.8ms postprocess per image at shape (1, 3, 480, 640)\n",
      "\n",
      "0: 480x640 2 apples, 50.3ms\n",
      "Speed: 0.8ms preprocess, 50.3ms inference, 0.7ms postprocess per image at shape (1, 3, 480, 640)\n",
      "\n",
      "0: 480x640 1 banana, 2 apples, 53.5ms\n",
      "Speed: 1.2ms preprocess, 53.5ms inference, 0.5ms postprocess per image at shape (1, 3, 480, 640)\n",
      "\n",
      "0: 480x640 1 apple, 49.4ms\n",
      "Speed: 1.0ms preprocess, 49.4ms inference, 0.6ms postprocess per image at shape (1, 3, 480, 640)\n",
      "\n",
      "0: 480x640 1 laptop, 50.9ms\n",
      "Speed: 0.8ms preprocess, 50.9ms inference, 0.5ms postprocess per image at shape (1, 3, 480, 640)\n",
      "\n",
      "0: 480x640 1 fire hydrant, 1 apple, 51.3ms\n",
      "Speed: 1.0ms preprocess, 51.3ms inference, 0.4ms postprocess per image at shape (1, 3, 480, 640)\n",
      "\n",
      "0: 480x640 2 apples, 52.6ms\n",
      "Speed: 0.8ms preprocess, 52.6ms inference, 0.6ms postprocess per image at shape (1, 3, 480, 640)\n",
      "\n",
      "0: 480x640 1 apple, 1 orange, 62.6ms\n",
      "Speed: 0.9ms preprocess, 62.6ms inference, 0.6ms postprocess per image at shape (1, 3, 480, 640)\n",
      "\n",
      "0: 480x640 1 apple, 58.2ms\n",
      "Speed: 0.8ms preprocess, 58.2ms inference, 0.5ms postprocess per image at shape (1, 3, 480, 640)\n",
      "\n",
      "0: 480x640 1 knife, 1 spoon, 55.9ms\n",
      "Speed: 1.2ms preprocess, 55.9ms inference, 0.5ms postprocess per image at shape (1, 3, 480, 640)\n",
      "\n",
      "0: 480x640 1 apple, 53.3ms\n",
      "Speed: 0.9ms preprocess, 53.3ms inference, 0.8ms postprocess per image at shape (1, 3, 480, 640)\n",
      "\n",
      "0: 480x640 1 banana, 1 apple, 54.2ms\n",
      "Speed: 0.9ms preprocess, 54.2ms inference, 0.5ms postprocess per image at shape (1, 3, 480, 640)\n",
      "\n"
     ]
    },
    {
     "name": "stdout",
     "output_type": "stream",
     "text": [
      "Skipping Raw_Mango_0_199.jpg due to low confidence.\n",
      "Skipping Raw_Mango_0_1066.jpg due to low confidence.\n"
     ]
    },
    {
     "name": "stderr",
     "output_type": "stream",
     "text": [
      "0: 480x640 1 apple, 1 laptop, 73.4ms\n",
      "Speed: 1.0ms preprocess, 73.4ms inference, 0.7ms postprocess per image at shape (1, 3, 480, 640)\n",
      "\n",
      "0: 480x640 (no detections), 54.0ms\n",
      "Speed: 1.3ms preprocess, 54.0ms inference, 0.3ms postprocess per image at shape (1, 3, 480, 640)\n",
      "\n",
      "0: 480x640 1 apple, 2 laptops, 51.3ms\n",
      "Speed: 1.0ms preprocess, 51.3ms inference, 0.5ms postprocess per image at shape (1, 3, 480, 640)\n",
      "\n",
      "0: 480x640 2 apples, 54.8ms\n",
      "Speed: 0.9ms preprocess, 54.8ms inference, 0.5ms postprocess per image at shape (1, 3, 480, 640)\n",
      "\n",
      "0: 480x640 1 person, 1 banana, 56.6ms\n",
      "Speed: 1.2ms preprocess, 56.6ms inference, 1.0ms postprocess per image at shape (1, 3, 480, 640)\n",
      "\n"
     ]
    },
    {
     "name": "stdout",
     "output_type": "stream",
     "text": [
      "Skipping Raw_Mango.ec4f3d50-ebe8-11ed-bbf6-346f24e2fa38.jpg due to no detection.\n"
     ]
    },
    {
     "name": "stderr",
     "output_type": "stream",
     "text": [
      "0: 480x640 1 person, 1 sports ball, 1 apple, 57.0ms\n",
      "Speed: 1.0ms preprocess, 57.0ms inference, 0.6ms postprocess per image at shape (1, 3, 480, 640)\n",
      "\n",
      "0: 480x640 1 banana, 1 apple, 59.9ms\n",
      "Speed: 1.4ms preprocess, 59.9ms inference, 0.6ms postprocess per image at shape (1, 3, 480, 640)\n",
      "\n",
      "0: 480x640 2 apples, 53.8ms\n",
      "Speed: 1.1ms preprocess, 53.8ms inference, 0.5ms postprocess per image at shape (1, 3, 480, 640)\n",
      "\n",
      "0: 480x640 2 apples, 1 orange, 60.2ms\n",
      "Speed: 1.2ms preprocess, 60.2ms inference, 0.6ms postprocess per image at shape (1, 3, 480, 640)\n",
      "\n",
      "0: 480x640 2 apples, 59.8ms\n",
      "Speed: 1.4ms preprocess, 59.8ms inference, 0.6ms postprocess per image at shape (1, 3, 480, 640)\n",
      "\n",
      "0: 480x640 1 person, 1 banana, 56.9ms\n"
     ]
    },
    {
     "name": "stdout",
     "output_type": "stream",
     "text": [
      "Skipping Raw_Mango.9e44b569-ebd0-11ed-a965-346f24e2fa38.jpg due to low confidence.\n"
     ]
    },
    {
     "name": "stderr",
     "output_type": "stream",
     "text": [
      "Speed: 0.9ms preprocess, 56.9ms inference, 0.5ms postprocess per image at shape (1, 3, 480, 640)\n",
      "\n",
      "0: 480x640 (no detections), 53.0ms\n",
      "Speed: 0.9ms preprocess, 53.0ms inference, 0.3ms postprocess per image at shape (1, 3, 480, 640)\n",
      "\n",
      "0: 480x640 1 boat, 2 apples, 48.4ms\n",
      "Speed: 0.9ms preprocess, 48.4ms inference, 0.5ms postprocess per image at shape (1, 3, 480, 640)\n",
      "\n",
      "0: 480x640 2 apples, 1 orange, 55.7ms\n",
      "Speed: 0.9ms preprocess, 55.7ms inference, 0.5ms postprocess per image at shape (1, 3, 480, 640)\n",
      "\n"
     ]
    },
    {
     "name": "stdout",
     "output_type": "stream",
     "text": [
      "Skipping Raw_Mango.36cc4ca7-ebd0-11ed-b734-346f24e2fa38.jpg due to no detection.\n"
     ]
    },
    {
     "name": "stderr",
     "output_type": "stream",
     "text": [
      "0: 480x640 1 laptop, 1 mouse, 75.9ms\n",
      "Speed: 1.3ms preprocess, 75.9ms inference, 0.5ms postprocess per image at shape (1, 3, 480, 640)\n",
      "\n",
      "0: 480x640 1 person, 1 apple, 53.7ms\n",
      "Speed: 1.4ms preprocess, 53.7ms inference, 0.6ms postprocess per image at shape (1, 3, 480, 640)\n",
      "\n",
      "0: 480x640 1 person, 1 sports ball, 51.9ms\n",
      "Speed: 1.2ms preprocess, 51.9ms inference, 0.5ms postprocess per image at shape (1, 3, 480, 640)\n",
      "\n",
      "0: 480x640 1 apple, 55.4ms\n",
      "Speed: 1.0ms preprocess, 55.4ms inference, 0.6ms postprocess per image at shape (1, 3, 480, 640)\n",
      "\n",
      "0: 480x640 1 apple, 51.3ms\n",
      "Speed: 1.0ms preprocess, 51.3ms inference, 0.5ms postprocess per image at shape (1, 3, 480, 640)\n",
      "\n"
     ]
    },
    {
     "name": "stdout",
     "output_type": "stream",
     "text": [
      "Skipping Raw_Mango_0_365.jpg due to low confidence.\n",
      "Skipping Raw_Mango.825d6a5c-ebcf-11ed-9f52-346f24e2fa38.jpg due to low confidence.\n"
     ]
    },
    {
     "name": "stderr",
     "output_type": "stream",
     "text": [
      "0: 480x640 2 apples, 1 orange, 52.5ms\n",
      "Speed: 1.1ms preprocess, 52.5ms inference, 0.5ms postprocess per image at shape (1, 3, 480, 640)\n",
      "\n",
      "0: 480x640 1 banana, 50.8ms\n",
      "Speed: 0.9ms preprocess, 50.8ms inference, 0.5ms postprocess per image at shape (1, 3, 480, 640)\n",
      "\n",
      "0: 480x640 1 knife, 1 apple, 55.3ms\n",
      "Speed: 0.8ms preprocess, 55.3ms inference, 0.5ms postprocess per image at shape (1, 3, 480, 640)\n",
      "\n",
      "0: 480x640 2 apples, 53.4ms\n",
      "Speed: 0.9ms preprocess, 53.4ms inference, 0.5ms postprocess per image at shape (1, 3, 480, 640)\n",
      "\n",
      "0: 480x640 1 person, 1 sports ball, 1 apple, 1 cell phone, 51.3ms\n",
      "Speed: 0.9ms preprocess, 51.3ms inference, 0.6ms postprocess per image at shape (1, 3, 480, 640)\n",
      "\n"
     ]
    },
    {
     "name": "stdout",
     "output_type": "stream",
     "text": [
      "Skipping Raw_Mango.e3e608e8-ebe8-11ed-8c53-346f24e2fa38.jpg due to low confidence.\n",
      "Skipping Raw_Mango.2a8bd366-ebe8-11ed-b713-346f24e2fa38.jpg due to low confidence.\n"
     ]
    },
    {
     "name": "stderr",
     "output_type": "stream",
     "text": [
      "0: 480x640 (no detections), 51.2ms\n",
      "Speed: 0.8ms preprocess, 51.2ms inference, 0.4ms postprocess per image at shape (1, 3, 480, 640)\n",
      "\n",
      "0: 480x640 1 knife, 1 bowl, 1 banana, 1 apple, 1 dining table, 51.1ms\n",
      "Speed: 1.0ms preprocess, 51.1ms inference, 0.5ms postprocess per image at shape (1, 3, 480, 640)\n",
      "\n",
      "0: 480x640 (no detections), 48.7ms\n",
      "Speed: 0.9ms preprocess, 48.7ms inference, 0.3ms postprocess per image at shape (1, 3, 480, 640)\n",
      "\n",
      "0: 480x640 1 apple, 51.2ms\n",
      "Speed: 1.3ms preprocess, 51.2ms inference, 0.8ms postprocess per image at shape (1, 3, 480, 640)\n",
      "\n"
     ]
    },
    {
     "name": "stdout",
     "output_type": "stream",
     "text": [
      "Skipping Raw_Mango.6f54b4a2-ebd0-11ed-8080-346f24e2fa38.jpg due to no detection.\n",
      "Skipping Raw_Mango_0_826.jpg due to no detection.\n"
     ]
    },
    {
     "name": "stderr",
     "output_type": "stream",
     "text": [
      "0: 480x640 1 backpack, 1 apple, 65.4ms\n",
      "Speed: 0.9ms preprocess, 65.4ms inference, 0.5ms postprocess per image at shape (1, 3, 480, 640)\n",
      "\n",
      "0: 480x640 1 apple, 50.2ms\n",
      "Speed: 2.3ms preprocess, 50.2ms inference, 0.6ms postprocess per image at shape (1, 3, 480, 640)\n",
      "\n",
      "0: 480x640 1 sports ball, 1 apple, 54.1ms\n",
      "Speed: 0.9ms preprocess, 54.1ms inference, 0.4ms postprocess per image at shape (1, 3, 480, 640)\n",
      "\n",
      "0: 480x640 1 apple, 57.1ms\n",
      "Speed: 1.2ms preprocess, 57.1ms inference, 0.8ms postprocess per image at shape (1, 3, 480, 640)\n",
      "\n",
      "0: 480x640 1 apple, 54.2ms\n",
      "Speed: 1.0ms preprocess, 54.2ms inference, 0.8ms postprocess per image at shape (1, 3, 480, 640)\n",
      "\n",
      "0: 480x640 1 banana, 2 apples, 51.6ms\n",
      "Speed: 0.9ms preprocess, 51.6ms inference, 0.5ms postprocess per image at shape (1, 3, 480, 640)\n",
      "\n"
     ]
    },
    {
     "name": "stdout",
     "output_type": "stream",
     "text": [
      "Skipping Raw_Mango.4391160c-ebdb-11ed-9017-346f24e2fa38.jpg due to low confidence.\n"
     ]
    },
    {
     "name": "stderr",
     "output_type": "stream",
     "text": [
      "0: 480x640 1 person, 1 banana, 51.7ms\n",
      "Speed: 1.1ms preprocess, 51.7ms inference, 0.6ms postprocess per image at shape (1, 3, 480, 640)\n",
      "\n",
      "0: 480x640 1 banana, 2 apples, 54.8ms\n",
      "Speed: 1.0ms preprocess, 54.8ms inference, 0.5ms postprocess per image at shape (1, 3, 480, 640)\n",
      "\n",
      "0: 480x640 1 banana, 1 apple, 57.1ms\n",
      "Speed: 1.0ms preprocess, 57.1ms inference, 0.5ms postprocess per image at shape (1, 3, 480, 640)\n",
      "\n",
      "0: 480x640 1 apple, 1 dining table, 2 laptops, 59.2ms\n",
      "Speed: 1.2ms preprocess, 59.2ms inference, 0.5ms postprocess per image at shape (1, 3, 480, 640)\n",
      "\n",
      "0: 480x640 1 person, 2 apples, 1 clock, 58.7ms\n",
      "Speed: 0.9ms preprocess, 58.7ms inference, 0.5ms postprocess per image at shape (1, 3, 480, 640)\n",
      "\n",
      "0: 480x640 1 apple, 59.0ms\n",
      "Speed: 1.0ms preprocess, 59.0ms inference, 0.4ms postprocess per image at shape (1, 3, 480, 640)\n"
     ]
    },
    {
     "name": "stdout",
     "output_type": "stream",
     "text": [
      "Skipping Raw_Mango.574b6189-ebd0-11ed-a77c-346f24e2fa38.jpg due to low confidence.\n"
     ]
    },
    {
     "name": "stderr",
     "output_type": "stream",
     "text": [
      "\n",
      "0: 480x640 1 person, 1 banana, 1 apple, 65.8ms\n",
      "Speed: 1.4ms preprocess, 65.8ms inference, 0.5ms postprocess per image at shape (1, 3, 480, 640)\n",
      "\n",
      "0: 480x640 2 apples, 61.6ms\n",
      "Speed: 1.0ms preprocess, 61.6ms inference, 0.6ms postprocess per image at shape (1, 3, 480, 640)\n",
      "\n",
      "0: 480x640 1 apple, 60.6ms\n",
      "Speed: 1.1ms preprocess, 60.6ms inference, 0.5ms postprocess per image at shape (1, 3, 480, 640)\n",
      "\n",
      "0: 480x640 1 bench, 1 knife, 1 apple, 74.1ms\n",
      "Speed: 0.9ms preprocess, 74.1ms inference, 4.6ms postprocess per image at shape (1, 3, 480, 640)\n",
      "\n",
      "0: 480x640 (no detections), 55.6ms\n",
      "Speed: 0.8ms preprocess, 55.6ms inference, 0.3ms postprocess per image at shape (1, 3, 480, 640)\n",
      "\n",
      "0: 480x640 1 person, 1 apple, 1 laptop, 2 mouses, 56.1ms\n",
      "Speed: 0.9ms preprocess, 56.1ms inference, 0.5ms postprocess per image at shape (1, 3, 480, 640)\n",
      "\n",
      "0: 480x640 2 apples, 59.0ms\n",
      "Speed: 1.0ms preprocess, 59.0ms inference, 0.6ms postprocess per image at shape (1, 3, 480, 640)\n",
      "\n",
      "0: 480x640 2 persons, 1 sports ball, 1 apple, 57.7ms\n",
      "Speed: 0.9ms preprocess, 57.7ms inference, 0.5ms postprocess per image at shape (1, 3, 480, 640)\n",
      "\n"
     ]
    },
    {
     "name": "stdout",
     "output_type": "stream",
     "text": [
      "Skipping Raw_Mango.584a4a79-ebe8-11ed-acef-346f24e2fa38.jpg due to no detection.\n"
     ]
    },
    {
     "name": "stderr",
     "output_type": "stream",
     "text": [
      "0: 480x640 1 apple, 62.6ms\n",
      "Speed: 1.0ms preprocess, 62.6ms inference, 0.7ms postprocess per image at shape (1, 3, 480, 640)\n",
      "\n",
      "0: 480x640 1 sports ball, 1 apple, 72.9ms\n",
      "Speed: 0.9ms preprocess, 72.9ms inference, 0.5ms postprocess per image at shape (1, 3, 480, 640)\n",
      "\n",
      "0: 480x640 1 person, 1 banana, 61.2ms\n",
      "Speed: 1.0ms preprocess, 61.2ms inference, 0.5ms postprocess per image at shape (1, 3, 480, 640)\n",
      "\n",
      "0: 480x640 1 bird, 1 sports ball, 1 apple, 60.4ms\n",
      "Speed: 0.9ms preprocess, 60.4ms inference, 0.8ms postprocess per image at shape (1, 3, 480, 640)\n",
      "\n",
      "0: 480x640 1 apple, 1 mouse, 51.3ms\n",
      "Speed: 0.9ms preprocess, 51.3ms inference, 0.8ms postprocess per image at shape (1, 3, 480, 640)\n",
      "\n"
     ]
    },
    {
     "name": "stdout",
     "output_type": "stream",
     "text": [
      "Skipping Raw_Mango.3ec0204d-ebdb-11ed-9d54-346f24e2fa38.jpg due to low confidence.\n",
      "Skipping Raw_Mango.4035434e-ebe8-11ed-83dc-346f24e2fa38.jpg due to low confidence.\n"
     ]
    },
    {
     "name": "stderr",
     "output_type": "stream",
     "text": [
      "0: 480x640 1 apple, 56.4ms\n",
      "Speed: 0.9ms preprocess, 56.4ms inference, 0.6ms postprocess per image at shape (1, 3, 480, 640)\n",
      "\n",
      "0: 480x640 1 apple, 54.3ms\n",
      "Speed: 1.1ms preprocess, 54.3ms inference, 0.6ms postprocess per image at shape (1, 3, 480, 640)\n",
      "\n",
      "0: 480x640 2 apples, 52.0ms\n",
      "Speed: 1.6ms preprocess, 52.0ms inference, 0.5ms postprocess per image at shape (1, 3, 480, 640)\n",
      "\n",
      "0: 480x640 1 bench, 1 laptop, 55.7ms\n",
      "Speed: 0.9ms preprocess, 55.7ms inference, 0.5ms postprocess per image at shape (1, 3, 480, 640)\n",
      "\n",
      "0: 480x640 2 apples, 57.3ms\n",
      "Speed: 1.4ms preprocess, 57.3ms inference, 0.6ms postprocess per image at shape (1, 3, 480, 640)\n",
      "\n",
      "0: 480x640 2 apples, 75.6ms\n",
      "Speed: 0.8ms preprocess, 75.6ms inference, 0.5ms postprocess per image at shape (1, 3, 480, 640)\n",
      "\n",
      "0: 480x640 2 apples, 55.1ms\n",
      "Speed: 0.9ms preprocess, 55.1ms inference, 0.9ms postprocess per image at shape (1, 3, 480, 640)\n",
      "\n",
      "0: 480x640 2 persons, 1 banana, 1 dining table, 58.6ms\n",
      "Speed: 1.4ms preprocess, 58.6ms inference, 0.5ms postprocess per image at shape (1, 3, 480, 640)\n",
      "\n",
      "0: 480x640 1 banana, 1 apple, 48.2ms\n",
      "Speed: 1.1ms preprocess, 48.2ms inference, 0.8ms postprocess per image at shape (1, 3, 480, 640)\n",
      "\n",
      "0: 480x640 1 banana, 1 apple, 1 orange, 48.4ms\n",
      "Speed: 0.9ms preprocess, 48.4ms inference, 0.5ms postprocess per image at shape (1, 3, 480, 640)\n",
      "\n",
      "0: 480x640 1 sports ball, 1 apple, 46.0ms\n",
      "Speed: 0.8ms preprocess, 46.0ms inference, 0.4ms postprocess per image at shape (1, 3, 480, 640)\n",
      "\n",
      "0: 480x640 1 bench, 1 laptop, 1 mouse, 50.0ms\n",
      "Speed: 0.9ms preprocess, 50.0ms inference, 0.5ms postprocess per image at shape (1, 3, 480, 640)\n",
      "\n"
     ]
    },
    {
     "name": "stdout",
     "output_type": "stream",
     "text": [
      "Skipping Raw_Mango.6cec430c-ebd0-11ed-92df-346f24e2fa38.jpg due to low confidence.\n"
     ]
    },
    {
     "name": "stderr",
     "output_type": "stream",
     "text": [
      "0: 480x640 1 sports ball, 1 apple, 1 orange, 56.0ms\n",
      "Speed: 1.3ms preprocess, 56.0ms inference, 0.5ms postprocess per image at shape (1, 3, 480, 640)\n",
      "\n",
      "0: 480x640 1 apple, 1 laptop, 62.5ms\n",
      "Speed: 1.1ms preprocess, 62.5ms inference, 0.5ms postprocess per image at shape (1, 3, 480, 640)\n",
      "\n",
      "0: 480x640 1 person, 56.9ms\n",
      "Speed: 0.9ms preprocess, 56.9ms inference, 0.6ms postprocess per image at shape (1, 3, 480, 640)\n",
      "\n",
      "0: 480x640 1 banana, 1 apple, 54.7ms\n",
      "Speed: 0.9ms preprocess, 54.7ms inference, 0.5ms postprocess per image at shape (1, 3, 480, 640)\n",
      "\n",
      "0: 480x640 2 apples, 49.4ms\n",
      "Speed: 1.1ms preprocess, 49.4ms inference, 0.5ms postprocess per image at shape (1, 3, 480, 640)\n",
      "\n",
      "0: 480x640 1 apple, 1 laptop, 48.2ms\n",
      "Speed: 1.2ms preprocess, 48.2ms inference, 0.5ms postprocess per image at shape (1, 3, 480, 640)\n",
      "\n",
      "0: 480x640 1 banana, 2 apples, 1 dining table, 48.7ms\n",
      "Speed: 0.9ms preprocess, 48.7ms inference, 0.9ms postprocess per image at shape (1, 3, 480, 640)\n",
      "\n"
     ]
    },
    {
     "name": "stdout",
     "output_type": "stream",
     "text": [
      "Skipping Raw_Mango.5f407f70-ebdb-11ed-ba58-346f24e2fa38.jpg due to low confidence.\n",
      "Skipping Raw_Mango.c2603392-ebd0-11ed-8f63-346f24e2fa38.jpg due to low confidence.\n"
     ]
    },
    {
     "name": "stderr",
     "output_type": "stream",
     "text": [
      "0: 480x640 2 apples, 54.1ms\n",
      "Speed: 1.0ms preprocess, 54.1ms inference, 0.5ms postprocess per image at shape (1, 3, 480, 640)\n",
      "\n",
      "0: 480x640 2 persons, 2 bananas, 1 remote, 70.5ms\n",
      "Speed: 0.8ms preprocess, 70.5ms inference, 0.5ms postprocess per image at shape (1, 3, 480, 640)\n",
      "\n",
      "0: 480x640 1 apple, 1 laptop, 51.2ms\n",
      "Speed: 0.8ms preprocess, 51.2ms inference, 0.5ms postprocess per image at shape (1, 3, 480, 640)\n",
      "\n",
      "0: 480x640 1 person, 1 banana, 58.8ms\n",
      "Speed: 0.9ms preprocess, 58.8ms inference, 0.6ms postprocess per image at shape (1, 3, 480, 640)\n",
      "\n",
      "0: 480x640 1 orange, 54.1ms\n",
      "Speed: 0.9ms preprocess, 54.1ms inference, 0.5ms postprocess per image at shape (1, 3, 480, 640)\n",
      "\n",
      "0: 480x640 1 frisbee, 1 banana, 3 apples, 54.6ms\n",
      "Speed: 0.9ms preprocess, 54.6ms inference, 0.5ms postprocess per image at shape (1, 3, 480, 640)\n",
      "\n",
      "0: 480x640 1 person, 2 apples, 51.2ms\n",
      "Speed: 1.2ms preprocess, 51.2ms inference, 0.6ms postprocess per image at shape (1, 3, 480, 640)\n",
      "\n"
     ]
    },
    {
     "name": "stdout",
     "output_type": "stream",
     "text": [
      "Skipping Raw_Mango.eceddcb9-ebda-11ed-b501-346f24e2fa38.jpg due to low confidence.\n",
      "Skipping Raw_Mango.75218a76-ebcf-11ed-afb6-346f24e2fa38.jpg due to low confidence.\n"
     ]
    },
    {
     "name": "stderr",
     "output_type": "stream",
     "text": [
      "0: 480x640 (no detections), 55.0ms\n",
      "Speed: 0.9ms preprocess, 55.0ms inference, 0.3ms postprocess per image at shape (1, 3, 480, 640)\n",
      "\n",
      "0: 480x640 2 persons, 1 apple, 50.0ms\n",
      "Speed: 1.0ms preprocess, 50.0ms inference, 0.5ms postprocess per image at shape (1, 3, 480, 640)\n",
      "\n",
      "0: 480x640 2 apples, 48.5ms\n",
      "Speed: 0.8ms preprocess, 48.5ms inference, 1.0ms postprocess per image at shape (1, 3, 480, 640)\n",
      "\n",
      "0: 480x640 1 apple, 56.1ms\n",
      "Speed: 1.4ms preprocess, 56.1ms inference, 0.5ms postprocess per image at shape (1, 3, 480, 640)\n",
      "\n"
     ]
    },
    {
     "name": "stdout",
     "output_type": "stream",
     "text": [
      "Skipping Raw_Mango.77965fa9-ebe8-11ed-80c2-346f24e2fa38.jpg due to no detection.\n",
      "Skipping Raw_Mango.bfc9997e-ebe8-11ed-b16a-346f24e2fa38.jpg due to low confidence.\n",
      "Skipping Raw_Mango.c953bce4-ebcf-11ed-bf72-346f24e2fa38.jpg due to low confidence.\n"
     ]
    },
    {
     "name": "stderr",
     "output_type": "stream",
     "text": [
      "0: 480x640 1 apple, 57.3ms\n",
      "Speed: 0.7ms preprocess, 57.3ms inference, 0.5ms postprocess per image at shape (1, 3, 480, 640)\n",
      "\n",
      "0: 480x640 1 person, 1 banana, 53.6ms\n",
      "Speed: 1.0ms preprocess, 53.6ms inference, 0.5ms postprocess per image at shape (1, 3, 480, 640)\n",
      "\n",
      "0: 480x640 2 apples, 51.9ms\n",
      "Speed: 1.2ms preprocess, 51.9ms inference, 0.5ms postprocess per image at shape (1, 3, 480, 640)\n",
      "\n",
      "0: 480x640 1 apple, 1 laptop, 50.6ms\n",
      "Speed: 1.2ms preprocess, 50.6ms inference, 0.5ms postprocess per image at shape (1, 3, 480, 640)\n",
      "\n",
      "0: 480x640 1 apple, 50.6ms\n",
      "Speed: 0.9ms preprocess, 50.6ms inference, 0.5ms postprocess per image at shape (1, 3, 480, 640)\n",
      "\n",
      "0: 480x640 1 apple, 1 laptop, 49.6ms\n",
      "Speed: 0.8ms preprocess, 49.6ms inference, 0.5ms postprocess per image at shape (1, 3, 480, 640)\n",
      "\n",
      "0: 480x640 1 person, 1 banana, 49.9ms\n",
      "Speed: 1.3ms preprocess, 49.9ms inference, 0.5ms postprocess per image at shape (1, 3, 480, 640)\n",
      "\n",
      "0: 480x640 1 banana, 1 dining table, 79.5ms\n",
      "Speed: 1.1ms preprocess, 79.5ms inference, 0.6ms postprocess per image at shape (1, 3, 480, 640)\n"
     ]
    },
    {
     "name": "stdout",
     "output_type": "stream",
     "text": [
      "Skipping Raw_Mango.d0918dd4-ebcf-11ed-bf88-346f24e2fa38.jpg due to low confidence.\n"
     ]
    },
    {
     "name": "stderr",
     "output_type": "stream",
     "text": [
      "\n",
      "0: 480x640 1 apple, 1 laptop, 57.0ms\n",
      "Speed: 1.0ms preprocess, 57.0ms inference, 0.4ms postprocess per image at shape (1, 3, 480, 640)\n",
      "\n",
      "0: 480x640 1 apple, 51.1ms\n",
      "Speed: 1.1ms preprocess, 51.1ms inference, 0.6ms postprocess per image at shape (1, 3, 480, 640)\n",
      "\n",
      "0: 480x640 1 apple, 50.7ms\n",
      "Speed: 1.0ms preprocess, 50.7ms inference, 0.6ms postprocess per image at shape (1, 3, 480, 640)\n",
      "\n",
      "0: 480x640 1 bench, 1 laptop, 55.8ms\n",
      "Speed: 0.8ms preprocess, 55.8ms inference, 0.9ms postprocess per image at shape (1, 3, 480, 640)\n",
      "\n",
      "0: 480x640 1 knife, 1 apple, 56.2ms\n",
      "Speed: 1.0ms preprocess, 56.2ms inference, 0.5ms postprocess per image at shape (1, 3, 480, 640)\n",
      "\n",
      "0: 480x640 (no detections), 55.4ms\n",
      "Speed: 0.7ms preprocess, 55.4ms inference, 0.5ms postprocess per image at shape (1, 3, 480, 640)\n",
      "\n",
      "0: 480x640 1 banana, 2 apples, 55.3ms\n",
      "Speed: 0.9ms preprocess, 55.3ms inference, 0.9ms postprocess per image at shape (1, 3, 480, 640)\n",
      "\n",
      "0: 480x640 1 sports ball, 1 banana, 1 apple, 55.7ms\n",
      "Speed: 0.9ms preprocess, 55.7ms inference, 0.5ms postprocess per image at shape (1, 3, 480, 640)\n",
      "\n"
     ]
    },
    {
     "name": "stdout",
     "output_type": "stream",
     "text": [
      "Skipping Raw_Mango.e3897bb1-ebe7-11ed-8f70-346f24e2fa38.jpg due to low confidence.\n",
      "Skipping Raw_Mango.c43eb16a-ebe7-11ed-96e1-346f24e2fa38.jpg due to no detection.\n"
     ]
    },
    {
     "name": "stderr",
     "output_type": "stream",
     "text": [
      "0: 480x640 2 apples, 55.9ms\n",
      "Speed: 0.9ms preprocess, 55.9ms inference, 1.1ms postprocess per image at shape (1, 3, 480, 640)\n",
      "\n",
      "0: 480x640 1 bird, 1 apple, 58.8ms\n",
      "Speed: 1.0ms preprocess, 58.8ms inference, 0.6ms postprocess per image at shape (1, 3, 480, 640)\n",
      "\n",
      "0: 480x640 1 bench, 1 apple, 1 laptop, 55.4ms\n",
      "Speed: 0.9ms preprocess, 55.4ms inference, 0.8ms postprocess per image at shape (1, 3, 480, 640)\n",
      "\n",
      "0: 480x640 1 person, 1 sports ball, 1 apple, 75.3ms\n",
      "Speed: 1.0ms preprocess, 75.3ms inference, 0.6ms postprocess per image at shape (1, 3, 480, 640)\n",
      "\n",
      "0: 480x640 1 apple, 1 laptop, 56.2ms\n",
      "Speed: 0.8ms preprocess, 56.2ms inference, 0.5ms postprocess per image at shape (1, 3, 480, 640)\n",
      "\n",
      "0: 480x640 1 person, 55.4ms\n",
      "Speed: 0.9ms preprocess, 55.4ms inference, 1.0ms postprocess per image at shape (1, 3, 480, 640)\n",
      "\n",
      "0: 480x640 1 apple, 51.5ms\n",
      "Speed: 1.3ms preprocess, 51.5ms inference, 0.5ms postprocess per image at shape (1, 3, 480, 640)\n",
      "\n",
      "0: 480x640 3 apples, 48.2ms\n",
      "Speed: 0.8ms preprocess, 48.2ms inference, 0.5ms postprocess per image at shape (1, 3, 480, 640)\n",
      "\n",
      "0: 480x640 1 apple, 50.7ms\n",
      "Speed: 1.0ms preprocess, 50.7ms inference, 0.5ms postprocess per image at shape (1, 3, 480, 640)\n",
      "\n",
      "0: 480x640 1 person, 1 banana, 49.8ms\n",
      "Speed: 0.9ms preprocess, 49.8ms inference, 0.6ms postprocess per image at shape (1, 3, 480, 640)\n",
      "\n",
      "0: 480x640 1 umbrella, 2 apples, 48.8ms\n",
      "Speed: 0.8ms preprocess, 48.8ms inference, 0.5ms postprocess per image at shape (1, 3, 480, 640)\n",
      "\n"
     ]
    },
    {
     "name": "stdout",
     "output_type": "stream",
     "text": [
      "Skipping Raw_Mango.6075b2b7-ebdb-11ed-9f0d-346f24e2fa38.jpg due to low confidence.\n"
     ]
    },
    {
     "name": "stderr",
     "output_type": "stream",
     "text": [
      "0: 480x640 1 apple, 1 laptop, 51.7ms\n",
      "Speed: 1.0ms preprocess, 51.7ms inference, 0.5ms postprocess per image at shape (1, 3, 480, 640)\n",
      "\n",
      "0: 480x640 1 apple, 1 laptop, 53.3ms\n",
      "Speed: 0.9ms preprocess, 53.3ms inference, 0.5ms postprocess per image at shape (1, 3, 480, 640)\n",
      "\n",
      "0: 480x640 1 apple, 1 orange, 56.8ms\n",
      "Speed: 1.4ms preprocess, 56.8ms inference, 0.7ms postprocess per image at shape (1, 3, 480, 640)\n",
      "\n",
      "0: 480x640 1 knife, 1 spoon, 1 apple, 61.9ms\n",
      "Speed: 1.6ms preprocess, 61.9ms inference, 0.5ms postprocess per image at shape (1, 3, 480, 640)\n",
      "\n",
      "0: 480x640 1 knife, 1 apple, 58.6ms\n",
      "Speed: 0.9ms preprocess, 58.6ms inference, 0.4ms postprocess per image at shape (1, 3, 480, 640)\n",
      "\n",
      "0: 480x640 1 person, 1 apple, 1 laptop, 62.3ms\n",
      "Speed: 1.6ms preprocess, 62.3ms inference, 0.7ms postprocess per image at shape (1, 3, 480, 640)\n",
      "\n"
     ]
    },
    {
     "name": "stdout",
     "output_type": "stream",
     "text": [
      "Skipping Raw_Mango.8c09ccfb-ebe8-11ed-91f6-346f24e2fa38.jpg due to low confidence.\n",
      "Skipping Raw_Mango.5ab1b9c9-ebe8-11ed-bbae-346f24e2fa38.jpg due to low confidence.\n"
     ]
    },
    {
     "name": "stderr",
     "output_type": "stream",
     "text": [
      "0: 480x640 1 apple, 57.8ms\n",
      "Speed: 1.1ms preprocess, 57.8ms inference, 0.9ms postprocess per image at shape (1, 3, 480, 640)\n",
      "\n",
      "0: 480x640 2 apples, 77.3ms\n",
      "Speed: 1.7ms preprocess, 77.3ms inference, 0.5ms postprocess per image at shape (1, 3, 480, 640)\n",
      "\n",
      "0: 480x640 1 banana, 2 apples, 59.5ms\n",
      "Speed: 1.0ms preprocess, 59.5ms inference, 0.7ms postprocess per image at shape (1, 3, 480, 640)\n",
      "\n",
      "0: 480x640 1 sports ball, 1 apple, 65.8ms\n",
      "Speed: 1.1ms preprocess, 65.8ms inference, 0.6ms postprocess per image at shape (1, 3, 480, 640)\n",
      "\n",
      "0: 480x640 1 apple, 59.3ms\n",
      "Speed: 1.1ms preprocess, 59.3ms inference, 0.6ms postprocess per image at shape (1, 3, 480, 640)\n",
      "\n",
      "0: 480x640 (no detections), 62.8ms\n",
      "Speed: 0.9ms preprocess, 62.8ms inference, 0.3ms postprocess per image at shape (1, 3, 480, 640)\n",
      "\n",
      "0: 480x640 1 person, 1 banana, 1 apple, 53.1ms\n",
      "Speed: 1.1ms preprocess, 53.1ms inference, 0.6ms postprocess per image at shape (1, 3, 480, 640)\n",
      "\n",
      "0: 480x640 1 sports ball, 1 apple, 53.3ms\n",
      "Speed: 1.0ms preprocess, 53.3ms inference, 0.5ms postprocess per image at shape (1, 3, 480, 640)\n",
      "\n",
      "0: 480x640 (no detections), 63.8ms\n",
      "Speed: 1.0ms preprocess, 63.8ms inference, 0.5ms postprocess per image at shape (1, 3, 480, 640)\n",
      "\n"
     ]
    },
    {
     "name": "stdout",
     "output_type": "stream",
     "text": [
      "Skipping Raw_Mango_0_1100.jpg due to no detection.\n",
      "Skipping Raw_Mango.e7672548-ebcf-11ed-86fa-346f24e2fa38.jpg due to low confidence.\n",
      "Skipping Raw_Mango.e253774b-ebe7-11ed-bbaa-346f24e2fa38.jpg due to no detection.\n"
     ]
    },
    {
     "name": "stderr",
     "output_type": "stream",
     "text": [
      "0: 480x640 1 apple, 1 orange, 57.1ms\n",
      "Speed: 0.8ms preprocess, 57.1ms inference, 0.5ms postprocess per image at shape (1, 3, 480, 640)\n",
      "\n",
      "0: 480x640 2 apples, 55.5ms\n",
      "Speed: 0.9ms preprocess, 55.5ms inference, 0.5ms postprocess per image at shape (1, 3, 480, 640)\n",
      "\n",
      "0: 480x640 1 person, 2 apples, 58.7ms\n",
      "Speed: 1.0ms preprocess, 58.7ms inference, 0.6ms postprocess per image at shape (1, 3, 480, 640)\n",
      "\n",
      "0: 480x640 1 apple, 1 orange, 59.4ms\n",
      "Speed: 1.0ms preprocess, 59.4ms inference, 0.5ms postprocess per image at shape (1, 3, 480, 640)\n",
      "\n",
      "0: 480x640 1 person, 2 apples, 54.2ms\n",
      "Speed: 1.1ms preprocess, 54.2ms inference, 0.5ms postprocess per image at shape (1, 3, 480, 640)\n",
      "\n",
      "0: 480x640 (no detections), 50.8ms\n",
      "Speed: 1.3ms preprocess, 50.8ms inference, 0.3ms postprocess per image at shape (1, 3, 480, 640)\n",
      "\n",
      "0: 480x640 1 laptop, 1 mouse, 51.1ms\n",
      "Speed: 1.0ms preprocess, 51.1ms inference, 0.5ms postprocess per image at shape (1, 3, 480, 640)\n",
      "\n",
      "0: 480x640 1 sports ball, 2 apples, 1 scissors, 50.2ms\n",
      "Speed: 0.8ms preprocess, 50.2ms inference, 0.5ms postprocess per image at shape (1, 3, 480, 640)\n",
      "\n",
      "0: 480x640 2 laptops, 76.5ms\n",
      "Speed: 1.2ms preprocess, 76.5ms inference, 0.7ms postprocess per image at shape (1, 3, 480, 640)\n"
     ]
    },
    {
     "name": "stdout",
     "output_type": "stream",
     "text": [
      "Skipping Raw_Mango.dfeaad40-ebe7-11ed-9c79-346f24e2fa38.jpg due to no detection.\n"
     ]
    },
    {
     "name": "stderr",
     "output_type": "stream",
     "text": [
      "\n",
      "0: 480x640 1 banana, 51.1ms\n",
      "Speed: 0.9ms preprocess, 51.1ms inference, 0.5ms postprocess per image at shape (1, 3, 480, 640)\n",
      "\n",
      "0: 480x640 1 apple, 1 orange, 51.2ms\n",
      "Speed: 1.1ms preprocess, 51.2ms inference, 0.7ms postprocess per image at shape (1, 3, 480, 640)\n",
      "\n",
      "0: 480x640 (no detections), 60.1ms\n",
      "Speed: 1.0ms preprocess, 60.1ms inference, 0.3ms postprocess per image at shape (1, 3, 480, 640)\n",
      "\n",
      "0: 480x640 1 apple, 54.7ms\n",
      "Speed: 0.8ms preprocess, 54.7ms inference, 0.5ms postprocess per image at shape (1, 3, 480, 640)\n",
      "\n",
      "0: 480x640 1 person, 55.1ms\n",
      "Speed: 0.9ms preprocess, 55.1ms inference, 0.4ms postprocess per image at shape (1, 3, 480, 640)\n",
      "\n",
      "0: 480x640 1 apple, 53.3ms\n",
      "Speed: 1.2ms preprocess, 53.3ms inference, 0.5ms postprocess per image at shape (1, 3, 480, 640)\n",
      "\n"
     ]
    },
    {
     "name": "stdout",
     "output_type": "stream",
     "text": [
      "Skipping Raw_Mango.eb1c38d8-ebe8-11ed-9a51-346f24e2fa38.jpg due to no detection.\n",
      "Skipping Raw_Mango.d00bed5e-ebda-11ed-a75a-346f24e2fa38.jpg due to low confidence.\n"
     ]
    },
    {
     "name": "stderr",
     "output_type": "stream",
     "text": [
      "0: 480x640 1 person, 52.4ms\n",
      "Speed: 1.0ms preprocess, 52.4ms inference, 0.5ms postprocess per image at shape (1, 3, 480, 640)\n",
      "\n",
      "0: 480x640 1 frisbee, 1 snowboard, 1 banana, 2 apples, 52.2ms\n",
      "Speed: 1.0ms preprocess, 52.2ms inference, 0.6ms postprocess per image at shape (1, 3, 480, 640)\n",
      "\n",
      "0: 480x640 1 laptop, 61.3ms\n",
      "Speed: 0.8ms preprocess, 61.3ms inference, 0.7ms postprocess per image at shape (1, 3, 480, 640)\n",
      "\n",
      "0: 480x640 1 apple, 50.5ms\n",
      "Speed: 0.8ms preprocess, 50.5ms inference, 0.5ms postprocess per image at shape (1, 3, 480, 640)\n",
      "\n",
      "0: 480x640 1 person, 1 apple, 61.6ms\n",
      "Speed: 0.9ms preprocess, 61.6ms inference, 0.6ms postprocess per image at shape (1, 3, 480, 640)\n",
      "\n",
      "0: 480x640 1 banana, 51.7ms\n",
      "Speed: 0.9ms preprocess, 51.7ms inference, 0.5ms postprocess per image at shape (1, 3, 480, 640)\n",
      "\n",
      "0: 480x640 1 car, 1 banana, 2 apples, 53.2ms\n",
      "Speed: 0.9ms preprocess, 53.2ms inference, 1.0ms postprocess per image at shape (1, 3, 480, 640)\n",
      "\n",
      "0: 480x640 1 person, 2 apples, 53.8ms\n",
      "Speed: 0.9ms preprocess, 53.8ms inference, 0.5ms postprocess per image at shape (1, 3, 480, 640)\n",
      "\n"
     ]
    },
    {
     "name": "stdout",
     "output_type": "stream",
     "text": [
      "Skipping Raw_Mango.d31192c7-ebe8-11ed-abfd-346f24e2fa38.jpg due to low confidence.\n"
     ]
    },
    {
     "name": "stderr",
     "output_type": "stream",
     "text": [
      "0: 480x640 1 apple, 53.4ms\n",
      "Speed: 0.9ms preprocess, 53.4ms inference, 0.4ms postprocess per image at shape (1, 3, 480, 640)\n",
      "\n",
      "0: 480x640 1 bench, 1 laptop, 55.3ms\n",
      "Speed: 1.3ms preprocess, 55.3ms inference, 0.5ms postprocess per image at shape (1, 3, 480, 640)\n",
      "\n",
      "0: 480x640 1 knife, 1 apple, 52.0ms\n",
      "Speed: 1.0ms preprocess, 52.0ms inference, 0.5ms postprocess per image at shape (1, 3, 480, 640)\n",
      "\n",
      "0: 480x640 1 person, 1 apple, 53.9ms\n",
      "Speed: 0.9ms preprocess, 53.9ms inference, 0.5ms postprocess per image at shape (1, 3, 480, 640)\n",
      "\n",
      "0: 480x640 1 apple, 57.0ms\n",
      "Speed: 0.9ms preprocess, 57.0ms inference, 0.9ms postprocess per image at shape (1, 3, 480, 640)\n",
      "\n",
      "0: 480x640 1 knife, 1 banana, 46.0ms\n",
      "Speed: 0.8ms preprocess, 46.0ms inference, 0.4ms postprocess per image at shape (1, 3, 480, 640)\n",
      "\n",
      "0: 480x640 1 person, 1 banana, 1 apple, 49.6ms\n",
      "Speed: 1.3ms preprocess, 49.6ms inference, 0.5ms postprocess per image at shape (1, 3, 480, 640)\n",
      "\n",
      "0: 480x640 1 apple, 55.3ms\n",
      "Speed: 1.0ms preprocess, 55.3ms inference, 0.5ms postprocess per image at shape (1, 3, 480, 640)\n",
      "\n"
     ]
    },
    {
     "name": "stdout",
     "output_type": "stream",
     "text": [
      "Skipping Raw_Mango.3d8ba503-ebdb-11ed-8aca-346f24e2fa38.jpg due to low confidence.\n",
      "Skipping Raw_Mango.79fdc9f6-ebe8-11ed-8eda-346f24e2fa38.jpg due to low confidence.\n",
      "Skipping Raw_Mango.e2b1b8ae-ebe8-11ed-be6a-346f24e2fa38.jpg due to low confidence.\n"
     ]
    },
    {
     "name": "stderr",
     "output_type": "stream",
     "text": [
      "0: 480x640 1 apple, 1 dining table, 1 book, 57.1ms\n",
      "Speed: 0.8ms preprocess, 57.1ms inference, 1.0ms postprocess per image at shape (1, 3, 480, 640)\n",
      "\n",
      "0: 480x640 1 knife, 62.5ms\n",
      "Speed: 2.7ms preprocess, 62.5ms inference, 0.8ms postprocess per image at shape (1, 3, 480, 640)\n",
      "\n",
      "0: 480x640 1 bench, 1 banana, 1 laptop, 54.8ms\n",
      "Speed: 1.0ms preprocess, 54.8ms inference, 0.5ms postprocess per image at shape (1, 3, 480, 640)\n",
      "\n",
      "0: 480x640 2 apples, 55.5ms\n",
      "Speed: 0.8ms preprocess, 55.5ms inference, 0.5ms postprocess per image at shape (1, 3, 480, 640)\n"
     ]
    },
    {
     "name": "stdout",
     "output_type": "stream",
     "text": [
      "Skipping Raw_Mango_0_773.jpg due to low confidence.\n"
     ]
    },
    {
     "name": "stderr",
     "output_type": "stream",
     "text": [
      "\n",
      "0: 480x640 1 apple, 52.9ms\n",
      "Speed: 0.7ms preprocess, 52.9ms inference, 0.5ms postprocess per image at shape (1, 3, 480, 640)\n",
      "\n",
      "0: 480x640 3 persons, 2 apples, 51.4ms\n",
      "Speed: 1.4ms preprocess, 51.4ms inference, 0.5ms postprocess per image at shape (1, 3, 480, 640)\n",
      "\n",
      "0: 480x640 (no detections), 56.5ms\n",
      "Speed: 0.9ms preprocess, 56.5ms inference, 0.8ms postprocess per image at shape (1, 3, 480, 640)\n",
      "\n",
      "0: 480x640 1 banana, 1 apple, 58.4ms\n",
      "Speed: 0.9ms preprocess, 58.4ms inference, 1.1ms postprocess per image at shape (1, 3, 480, 640)\n",
      "\n"
     ]
    },
    {
     "name": "stdout",
     "output_type": "stream",
     "text": [
      "Skipping Raw_Mango.6b8a6a33-ebe8-11ed-89b5-346f24e2fa38.jpg due to low confidence.\n",
      "Skipping Raw_Mango.bd0cf08d-ebe7-11ed-a233-346f24e2fa38.jpg due to no detection.\n",
      "Skipping Raw_Mango.18b4f36b-ebd0-11ed-b57f-346f24e2fa38.jpg due to low confidence.\n"
     ]
    },
    {
     "name": "stderr",
     "output_type": "stream",
     "text": [
      "0: 480x640 1 apple, 1 laptop, 1 keyboard, 57.9ms\n",
      "Speed: 1.0ms preprocess, 57.9ms inference, 0.8ms postprocess per image at shape (1, 3, 480, 640)\n",
      "\n",
      "0: 480x640 2 persons, 54.9ms\n",
      "Speed: 1.3ms preprocess, 54.9ms inference, 0.4ms postprocess per image at shape (1, 3, 480, 640)\n",
      "\n",
      "0: 480x640 1 person, 1 apple, 52.6ms\n",
      "Speed: 0.8ms preprocess, 52.6ms inference, 0.5ms postprocess per image at shape (1, 3, 480, 640)\n",
      "\n",
      "0: 480x640 1 fire hydrant, 1 apple, 55.7ms\n",
      "Speed: 0.9ms preprocess, 55.7ms inference, 1.0ms postprocess per image at shape (1, 3, 480, 640)\n",
      "\n",
      "0: 480x640 1 banana, 54.3ms\n",
      "Speed: 0.8ms preprocess, 54.3ms inference, 0.6ms postprocess per image at shape (1, 3, 480, 640)\n"
     ]
    },
    {
     "name": "stdout",
     "output_type": "stream",
     "text": [
      "Skipping Raw_Mango.cda329f6-ebda-11ed-9b2b-346f24e2fa38.jpg due to low confidence.\n",
      "Skipping Raw_Mango.6a831568-ebd0-11ed-b3fe-346f24e2fa38.jpg due to low confidence.\n"
     ]
    }
   ],
   "source": [
    "import os\n",
    "import cv2\n",
    "import numpy as np\n",
    "from helper import resize_and_pad\n",
    "\n",
    "folder_type = \"train/ripe\" # test/train raw/ripe\n",
    "\n",
    "input_folder = 'datasets/mango/images/' + folder_type\n",
    "output_folder = 'datasets/mango_cut/images/' + folder_type\n",
    "confidence_threshold = 0.6  # Adjust as needed\n",
    "\n",
    "image_files = [f for f in os.listdir(input_folder) if f.endswith(('.png', '.jpg', '.jpeg'))]\n",
    "\n",
    "# Create the folder if it doesn't exist\n",
    "if not os.path.exists(output_folder):\n",
    "    os.makedirs(output_folder)\n",
    "\n",
    "# Delete all files in the output folder\n",
    "for filename in os.listdir(output_folder):\n",
    "    file_path = os.path.join(output_folder, filename)\n",
    "    if os.path.isfile(file_path):  # ensure it's a file, not a directory or other type\n",
    "        os.remove(file_path)\n",
    "\n",
    "for image_file in image_files:\n",
    "    # Load the image using cv2\n",
    "    img_path = os.path.join(input_folder, image_file)\n",
    "    img = cv2.imread(img_path)\n",
    "    \n",
    "    # Generate predictions for the image\n",
    "    results = model.predict(source=img)\n",
    "    \n",
    "    # Check if any detection was made\n",
    "    if len(results[0].boxes.xyxy) == 0:\n",
    "        print(f\"Skipping {image_file} due to no detection.\")\n",
    "        continue\n",
    "\n",
    "    # Get the index of the bounding box with the highest confidence\n",
    "    max_conf_index = np.argmax(results[0].boxes.conf.cpu().numpy())\n",
    "    \n",
    "    # Check if highest confidence is above threshold\n",
    "    if results[0].boxes.conf[max_conf_index] < confidence_threshold:\n",
    "        print(f\"Skipping {image_file} due to low confidence.\")\n",
    "        continue\n",
    "    \n",
    "    # Extract and save the object with highest confidence\n",
    "    box = results[0].boxes.xyxy[max_conf_index].cpu().numpy().astype(int)\n",
    "    x1, y1, x2, y2 = box\n",
    "    cropped_img = img[y1:y2, x1:x2]\n",
    "\n",
    "    # Resize and pad\n",
    "    final_img = resize_and_pad(cropped_img)\n",
    "\n",
    "    # Save the cropped image\n",
    "    output_path = os.path.join(output_folder, f\"crop_{image_file}\")\n",
    "    cv2.imwrite(output_path, final_img)"
   ]
  },
  {
   "cell_type": "code",
   "execution_count": null,
   "metadata": {},
   "outputs": [],
   "source": []
  }
 ],
 "metadata": {
  "kernelspec": {
   "display_name": "Python 3",
   "language": "python",
   "name": "python3"
  },
  "language_info": {
   "codemirror_mode": {
    "name": "ipython",
    "version": 3
   },
   "file_extension": ".py",
   "mimetype": "text/x-python",
   "name": "python",
   "nbconvert_exporter": "python",
   "pygments_lexer": "ipython3",
   "version": "3.11.4"
  }
 },
 "nbformat": 4,
 "nbformat_minor": 2
}
